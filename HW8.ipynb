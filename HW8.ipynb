{
 "cells": [
  {
   "cell_type": "markdown",
   "id": "4d99a94a-c380-4709-8873-caf66152aa76",
   "metadata": {},
   "source": [
    "# HW8 (20')\n",
    "\n",
    "<font size='4'>\n",
    "\n",
    "For this assignment, it is a combination of jupyter notebook assignment and python scripts.\n",
    "\n",
    "For Q1, please upload your outputs including codes and graphics to your own GitHub repository. <br> You will need to disclose your GitHub repository below.\n",
    "\n",
    "For Q2, please submit this jupyter notebook as an HTML or PDF file.\n",
    "\n",
    "First of all, print your name (First and Last) below."
   ]
  },
  {
   "cell_type": "code",
   "execution_count": null,
   "id": "21a37202-5fb1-44da-8ce4-756934fbd067",
   "metadata": {},
   "outputs": [],
   "source": []
  },
  {
   "cell_type": "markdown",
   "id": "205bd5ad-c5ef-4515-8dea-d3f87f17f4b0",
   "metadata": {},
   "source": [
    "## 0. Import relevant packages"
   ]
  },
  {
   "cell_type": "code",
   "execution_count": 82,
   "id": "3f72739f-c63c-4a6e-a5d0-c7ddc0f05242",
   "metadata": {},
   "outputs": [],
   "source": [
    "import os\n",
    "import numpy as np\n",
    "import pandas as pd\n",
    "import scipy.stats as stats\n",
    "import statsmodels.formula.api as smf"
   ]
  },
  {
   "cell_type": "markdown",
   "id": "94ff8980-aabc-4e7b-a846-fcc80c3920cf",
   "metadata": {},
   "source": [
    "## Q1. Convert your HW7 to python scripts. (10')\n",
    "\n",
    "<font size='4'>\n",
    "\n",
    "- Under your working directory, there should be a folder called `self_py_fun`.\n",
    "- Create a new python file called `HW8Fun.py` and move previously defined functions `produce_trun_mean_cov()`, `plot_trunc_mean()`, and `plot_trunc_cov()` to that file. Make sure you import proper packages.\n",
    "- Create another main file `HW8_main.py`.\n",
    "- Import relevant packages, modules, and/or function.\n",
    "- Copy the global variables and call your functions inside `HW8_main.py`.\n",
    "- A major difference compared to HW7 is that you are asked to save those figures to your local working environment.\n",
    "    - Create a new directory `K114` under your current working directory.\n",
    "    - For mean functions, please save it as a `Mean.png` output using `plt.savefig()` function.\n",
    "    - The changes should be made within `HW8Fun.py` rather than `HW8_main.py`.\n",
    "    - For covariance matrices, please save them as `Covariance_Target.png`, `Covariance_Non-Target.png`, and `Covariance_All.png` outputs using the same function above.\n",
    "    - To summarize, there should be **four** figures under `K114` folder.\n",
    "- Upload your entire work to your GitHub repository via push button."
   ]
  },
  {
   "cell_type": "code",
   "execution_count": 90,
   "id": "7cb9623e-17b9-4062-bdd0-1f19a9d3f744",
   "metadata": {},
   "outputs": [],
   "source": [
    "# Provide your GitHub repository link below in the Markdown chunk. Remember to make it public and make the link clickable.\n",
    "# Do not include sensitive information in your GitHub repository."
   ]
  },
  {
   "cell_type": "markdown",
   "id": "ecf94138-c7f5-4e2b-ba01-7df9beb1d03d",
   "metadata": {},
   "source": []
  },
  {
   "cell_type": "markdown",
   "id": "33469a50-fa2e-4b1d-bb2e-15e924437235",
   "metadata": {},
   "source": [
    "## Q2. A real-world data anlaysis using `Pandas` and `Scipy` (10')\n",
    "\n",
    "<font size='4'>\n",
    "\n",
    "- Back to the `PTSD dataset.xlsx`, let's import the dataset and name it `ptsd_df`. (no point since everyone has done it a couple of times before.)"
   ]
  },
  {
   "cell_type": "code",
   "execution_count": 1,
   "id": "031c92eb-a96d-410f-9724-443ba5431900",
   "metadata": {},
   "outputs": [],
   "source": [
    "# Write your own code\n"
   ]
  },
  {
   "cell_type": "markdown",
   "id": "209f1981-d0d5-44e9-ac03-7f42a71a287a",
   "metadata": {},
   "source": [
    "### Q2.1. Univariate comparison (3')\n",
    "\n",
    "<font size='4'> \n",
    "    \n",
    "- Suppose that we would like to examine the utility/effect of an intervention program for patients with PTSD.\n",
    "- We measure PCL5 scores at completion (`pcl5week_score.completion`) and PCL5 score at 3-month follow-up (`pcl5month_score.3_month_follow_up`). Let's assume the first score is pre-intervention and the second score is post-intervention.\n",
    "- Report the summary statistics for each variable including mean, std, median, Q1, and Q3.\n",
    "- Note that each patient will receive such two PCL5 scores. Use a appropriate statistical test to perform the univariate comparison. Report the outputing statistic and p-value.\n",
    "- Before you run the statistic test, determine the data type and check the missingness of two columns. In particular, report the number of NA values for each variable."
   ]
  },
  {
   "cell_type": "code",
   "execution_count": 2,
   "id": "4deaacf5-b684-4c5f-8a35-728d899d8a5e",
   "metadata": {},
   "outputs": [],
   "source": [
    "# Write your own code\n"
   ]
  },
  {
   "cell_type": "markdown",
   "id": "891b8f8a-07d0-4f44-b024-f13cd8ed5e3f",
   "metadata": {},
   "source": [
    "### Q2.2. Multiple Linear Regression (7')\n",
    "\n",
    "<font size='4'>\n",
    "\n",
    "- Select columns specified in the following code chunk and create a subset dataset named `ptsd_sub_df`.\n",
    "- Fit a linear regression to examine the association between `caps_intake` (continuous outcome) and the remaining covariates (as predictors) using `ptsd_sub_df`.\n",
    "    - Note that all covariates ending with `_code` are categorical variables.\n",
    "- Use the instruction here to write the formula for linear regression in Python.\n",
    "    - https://www.statsmodels.org/stable/example_formulas.html\n",
    "- Report the output page including R2, adjusted R2, and parameter estimates, SE, 95% confidence intervals, and p-values.\n",
    "- Provide a brief interpretation for all significant predictors (p<0.05) excluding the intercept.\n",
    "- Relevant label information includes:\n",
    "    - `employment_code`: 1: Employed, 2: Unemployed, 3: Retired, 4: Disabled/Unable to work, 5: Student, 6: Other.\n",
    "    - `rank_code`: 1. Enlisted, 2: Officer, 3: Other"
   ]
  },
  {
   "cell_type": "code",
   "execution_count": 89,
   "id": "2865a71e-6c03-4c83-9a31-38e01075ab97",
   "metadata": {},
   "outputs": [],
   "source": [
    "# The following column names are used for linear regression.\n",
    "# Do not delete.\n",
    "relevant_col_names = ['caps_intake', 'age_iop', 'gender_code', 'sexualorient_code', 'race_code', 'ethnicity_code', \n",
    "                      'education_code', 'employment_code',\n",
    "                      'rank_code', 'branch_code', 'mdd_code', 'ctq_total_score', 'sexual_trauma', 'sud_code']"
   ]
  },
  {
   "cell_type": "code",
   "execution_count": 3,
   "id": "20eba4dd-df71-4a5d-b0b9-a12640f35ebe",
   "metadata": {
    "scrolled": true
   },
   "outputs": [],
   "source": [
    "# Write your own code\n"
   ]
  },
  {
   "cell_type": "code",
   "execution_count": 88,
   "id": "65f3afe5-d340-4ff0-8f10-4bc089ef6ab0",
   "metadata": {},
   "outputs": [],
   "source": [
    "# Write your interpretations below:\n"
   ]
  }
 ],
 "metadata": {
  "kernelspec": {
   "display_name": "Python 3 (ipykernel)",
   "language": "python",
   "name": "python3"
  },
  "language_info": {
   "codemirror_mode": {
    "name": "ipython",
    "version": 3
   },
   "file_extension": ".py",
   "mimetype": "text/x-python",
   "name": "python",
   "nbconvert_exporter": "python",
   "pygments_lexer": "ipython3",
   "version": "3.11.4"
  }
 },
 "nbformat": 4,
 "nbformat_minor": 5
}
