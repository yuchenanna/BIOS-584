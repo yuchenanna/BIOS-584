{
 "cells": [
  {
   "cell_type": "markdown",
   "id": "a7cf06fc-07b2-4075-9641-b0e363a0b7a2",
   "metadata": {},
   "source": [
    "# Quiz 3\n",
    "\n",
    "<font size='4'>\n",
    "    \n",
    "Class: BIOS-584 <br>\n",
    "Time: 10-12 on Oct 31 <br>\n",
    "Location: RRR 102 <br>"
   ]
  },
  {
   "cell_type": "code",
   "execution_count": 13,
   "id": "dd2a0afd-8797-42c3-bc09-8ecce097a67e",
   "metadata": {},
   "outputs": [],
   "source": [
    "import os\n",
    "# import numpy as np # this line is optional once you import Quiz3Fun\n",
    "import pandas as pd\n",
    "from self_py_fun.Quiz3Fun import *\n",
    "import matplotlib.pyplot as plt\n",
    "import scipy.stats as stats"
   ]
  },
  {
   "cell_type": "markdown",
   "id": "c3743120-aa48-43ad-ba2a-a8f873bc7c9d",
   "metadata": {},
   "source": [
    "<font size='4'>\n",
    "\n",
    "You can leave if you finish it early. <br>\n",
    "Make sure to show the line number for your Jupyter Notebook.<br>\n",
    "The Quiz is open book and open notes, you can search relevant functions online, but you cannot use any AI tools."
   ]
  },
  {
   "cell_type": "markdown",
   "id": "967db36f-64cd-4b90-b1bb-cee5043cb745",
   "metadata": {},
   "source": [
    "## Q1. Pandas Data Analysis (1')"
   ]
  },
  {
   "cell_type": "markdown",
   "id": "615ae11d-2eb4-4fd2-b7f1-6eead8715508",
   "metadata": {},
   "source": [
    "<font size='4'>\n",
    "\n",
    "In this question, you are going to replicate part of the results from the research paper (Touponse et al, 2025). <br>\n",
    "A copy of the published version is attached in the GitHub repository for your convenience. <br>\n",
    "Section 2.4 may be helpful for you to select proper statistical tests."
   ]
  },
  {
   "cell_type": "code",
   "execution_count": 14,
   "id": "da94f471-1e44-42a2-afd2-ae1b812cab52",
   "metadata": {},
   "outputs": [],
   "source": [
    "ptsd_dir = '{}/data/PTSD dataset.xlsx'.format(os.getcwd())\n",
    "ptsd_df = pd.read_excel(ptsd_dir, sheet_name=1)"
   ]
  },
  {
   "cell_type": "markdown",
   "id": "0f91505b-18b1-49c8-931f-b56b5cbc3e06",
   "metadata": {},
   "source": [
    "### Q1.1 Descriptive Statistics and Univariate Comparison Stratified by Categorical Variable\n",
    "\n",
    "<font size='4'>\n",
    "\n",
    "Let's replicate part of Table 1 in Python. One categorical variable and one continuous variable are selected. <br>\n",
    "You should show relevant codes to reflect the corresponding outputs.<br>\n",
    "The variable for agreement group is coded as `caps_minuspcl_code`, you should be able to see the correspondence between levels and labels based on the sample size.<br>\n",
    "\n",
    "For categorical variables, fill in both frequency and proportion of race variable, coded as `race_code`. <br>\n",
    "Note that the proportion should be normalized by each column.<br>\n",
    "For p-value, please refer to this tutorial: https://docs.scipy.org/doc/scipy/tutorial/stats/hypothesis_chi2_contingency.html#hypothesis-chi2-contingency.\n",
    "\n",
    "| Patient characteristic     | Extensive Over-reporters  (n=83) | Limited Over-reporters  (n=325) | Congruent Reporters (n=75) | P-value |\n",
    "|----------------------------|----------------------------------|---------------------------------|----------------------------|---------|\n",
    "| Race, n (%)                |                                  |                                 |                            |         |\n",
    "| White (1)                  |                                  |                                 |                            |         |\n",
    "| Black (2)                  |                                  |                                 |                            |         |\n",
    "| Asian/Pacific Islander (3) |                                  |                                 |                            |         |\n",
    "| Native American (4)        |                                  |                                 |                            |         |\n",
    "| Multi-racial (5)           |                                  |                                 |                            |         |\n",
    "| Missing (6)                |                                  |                                 |                            |         |"
   ]
  },
  {
   "cell_type": "code",
   "execution_count": 15,
   "id": "e4512136-e4a0-4381-a915-3d4a512cd08d",
   "metadata": {},
   "outputs": [],
   "source": [
    "# Relevant code to fill in race group in Table 1\n"
   ]
  },
  {
   "cell_type": "markdown",
   "id": "b19c0aea-7a52-436c-9db7-0eb1737b101d",
   "metadata": {},
   "source": [
    "<font size='4'>\n",
    "\n",
    "For continouous variable, fill in mean and sd of PHQ-9 score at intake, coded as `phq9_score_intake`. <br>\n",
    "For mean and std values stratified by a categorical variable, refer to this API page: https://pandas.pydata.org/pandas-docs/version/1.2/reference/api/pandas.core.groupby.GroupBy.mean.html <br>\n",
    "Use `pd.DataFrame()` to create a new Pandas DataFrame to combine stratified mean and std values, denoted as `phq9_summary_df`. Rename column names as `phq9_mean` and `phq9_std`. <br>\n",
    "<img src=\"figures/quiz3_q1.2.png\" alt=\"drawing\" width=\"400\"/>\n",
    "\n",
    "For p-value, please refer to the tutorial: https://docs.scipy.org/doc/scipy/reference/generated/scipy.stats.f_oneway.html#scipy.stats.f_oneway <br>\n",
    "You may use the conditional slicing (Section 4.9 from week-09-pandas.ipynb)\n",
    "\n",
    "| Patient characteristic     | Extensive Over-reporters  (n=83) | Limited Over-reporters  (n=325) | Congruent Reporters (n=75) | P-value |\n",
    "|----------------------------|----------------------------------|---------------------------------|----------------------------|---------|\n",
    "| Clinical Measures          |                                  |                                 |                            |         |\n",
    "| PHQ9 score at intake, mean (SD)|                                  |                                 |                            |         |"
   ]
  },
  {
   "cell_type": "code",
   "execution_count": 16,
   "id": "d8fe7809-5c6d-493e-8410-e52860e293bd",
   "metadata": {},
   "outputs": [],
   "source": [
    "# Relevant code to fill in PHQ-9 score at intake in Table 1\n"
   ]
  },
  {
   "cell_type": "markdown",
   "id": "de730a8e-1747-4ce5-a462-577d43c14c78",
   "metadata": {},
   "source": [
    "### Q1.2 Scatterplots\n",
    "\n",
    "<font size='4'>\n",
    "\n",
    "Then, let's replicate part of Figure 1 by creating two scatterplots between CAPS-5 Intake (`caps_intake`) and PCL-5 Intake (`pcl5_score_intake`) (left) as well as between PCL-5 Intake (`pcl5_score_intake`) and PCL-5 Baseline (`pcl5month_score.baseline`) (Right).<br>\n",
    "You are asked to only create scatterplots, no need to add the linear trends.<br>\n",
    "You are asked to create a subplot with two plots shown in the same row. <br>\n",
    "Name x-, y-axes, and titles accordingly. <br>\n",
    "Report Pearson correlation estimates and their p-values accordingly. You can put relevant information on the title. <br>\n",
    "Read this API tutorial. https://docs.scipy.org/doc/scipy/reference/generated/scipy.stats.pearsonr.html "
   ]
  },
  {
   "cell_type": "code",
   "execution_count": 17,
   "id": "784000eb-84da-4a66-93a7-70233006183e",
   "metadata": {},
   "outputs": [],
   "source": [
    "# write your own code below\n"
   ]
  },
  {
   "cell_type": "markdown",
   "id": "15a3f855-ddc2-4fc1-a7a6-e616591ffc65",
   "metadata": {},
   "source": [
    "### Q1.3 Stratified Error Bars\n",
    "\n",
    "<font size='4'>\n",
    "    \n",
    "Finally, let's replicate the left panel of Figure 2.<br>\n",
    "Compute the mean and std values of PCL-5 score at baseline (`pcl5month_score.baseline`) and completion of IOP (`pcl5week_score.completion`) stratified by three agreement group (`caps_minuspcl_code`).<br>\n",
    "Show changes in mean and one-std error bar values between baseline and completion. <br>\n",
    "For error bar, please refer to the API page: https://matplotlib.org/stable/api/_as_gen/matplotlib.pyplot.errorbar.html. <br>\n",
    "\n",
    "- Relevant optional parameters for `plt.errorbar()` include `label`, `marker`, `markersize`, `capsize`, and `loc`.\n",
    "- You can add/minus a small value, i.e., 0.05, to the x-axis array such that three error bars are not overlapped with each other.\n",
    "- Finally, you should modify the label of your x-axis array if you originally define your x-axis input as a numerical array.\n",
    "    - Useful function to change the labels include `plt.xticks()`.\n",
    "- Remember the correspondence as Extensive (1), Limited (2), and Congruent (3). "
   ]
  },
  {
   "cell_type": "code",
   "execution_count": 18,
   "id": "7473c0e8-91b6-4ab0-84a5-ddce0af93692",
   "metadata": {},
   "outputs": [],
   "source": [
    "x_arr = np.array(['Baseline', 'Completion'])\n",
    "x_arr_num = np.array([0, 1])\n",
    "\n",
    "# write your own code\n"
   ]
  },
  {
   "cell_type": "markdown",
   "id": "f35cd395-d6b9-4f71-a4ee-cd22bc3d5866",
   "metadata": {},
   "source": [
    "## Q2. Debugging Example (1')"
   ]
  },
  {
   "cell_type": "markdown",
   "id": "4890646c-a615-487d-95ff-2424270df86a",
   "metadata": {},
   "source": [
    "<font size='4'>\n",
    "\n",
    "Given a 1-dim signal input $x$ with $T$ data points and $i$ being its index, compute the following function value $D$ such that \n",
    "$$D =  \\sum_{i=1}^{T-1} \\sqrt{1+ (x_i - x_{i+1})^2},$$\n",
    "where $x_i-x_{i+1}$ is the first-order difference and $i$ ranges from $1$ to $T-1$. <br>\n",
    "* You have learned the notation $\\sqrt{\\cdot}$ previously as the operator of square root. <br>\n",
    "* For $\\sum$, if you haven't used it before, it is known as cumulative summation. For example, $\\sum_{i=1}^5 a_i = a_1 + a_2 + a_3 + a_4 + a_5$. If $a_i=i$, then the sum is simply $1+2+3+4+5=15$.\n",
    "\n",
    "\n",
    "I have created a partially written function `compute_D_partial` with a parameter of `input_signal` and returning value `D_val`. However, there are **two typos** such that the outputs of sample input arrays are incorrect. <br>\n",
    "In particular, for `sample_arr_1`, the incorrect `D` is $1.95$, while the correct `D` should be $5.66$.\n",
    "\n",
    "1. Find two typos in the original function and comment on the mistake. You can perform debugging task using `Quiz3_main.py`. To make my grading easier, another function `compute_D_partial_for_task_1_only` is attached below. Write a comment right after the line that you think is incorrect to briefly explain the typo.\n",
    "2. After spotting the typos, write a new function called `compute_D_correct` on `Quiz3Fun.py`. \n",
    "3. Call the correct function (`compute_D_correct`) with `sample_arr_2` and print out the correct D value, denoted as `d_val_2`."
   ]
  },
  {
   "cell_type": "code",
   "execution_count": 19,
   "id": "53250e1a-a940-401d-b658-fd70d14535cf",
   "metadata": {},
   "outputs": [],
   "source": [
    "# your solution to 1.\n",
    "def compute_D_partial_for_task_1_only(input_signal):\n",
    "    r\"\"\"\n",
    "    :param input_signal:\n",
    "    \"\"\"\n",
    "    T_len = len(input_signal)\n",
    "    signal_diff_one = input_signal[-1] - input_signal[1:] \n",
    "    D_val = np.sum(np.sqrt(1+signal_diff_one**2)) / (T_len - 1)\n",
    "    return D_val"
   ]
  },
  {
   "cell_type": "code",
   "execution_count": 20,
   "id": "0d900cea-3d02-479a-9c1a-24f74c970372",
   "metadata": {},
   "outputs": [
    {
     "data": {
      "image/png": "[encoded data removed]",
      "text/plain": [
       "<Figure size 640x480 with 1 Axes>"
      ]
     },
     "metadata": {},
     "output_type": "display_data"
    }
   ],
   "source": [
    "sample_arr_1 = np.array([1,2,3,4,5])\n",
    "sample_arr_2 = np.sin(np.arange(0, 2.1*np.pi, np.pi/10))\n",
    "\n",
    "# A figure for sample_arr_2 is plotted for your reference.\n",
    "plt.plot(np.arange(0, 2.1*np.pi, np.pi/10), sample_arr_2)\n",
    "plt.show()"
   ]
  },
  {
   "cell_type": "code",
   "execution_count": 21,
   "id": "c6fbd197-e8ef-4828-b48e-206882a5522f",
   "metadata": {},
   "outputs": [],
   "source": [
    "# your solution to 3.\n",
    "# print out d_val_1 and d_val_2 using the correct function below.\n"
   ]
  },
  {
   "cell_type": "markdown",
   "id": "1dd89954-386e-4b5f-af2e-0a2cf895b69a",
   "metadata": {},
   "source": [
    "## Final Remarks\n",
    "<font size='4'>\n",
    "\n",
    "1. Save all your codes and outputs.\n",
    "2. Push your changes to your own GitHub repository and submit the link of your Quiz3.ipynb to Canvas.\n",
    "3. If you have trouble completing the previous step, convert your Jupyter Notebook into a .html output and submit the html output to Canvas.\n",
    "\n",
    "\n",
    "Finally, Happy Halloween! Remember to take the Ferrero chocolate."
   ]
  }
 ],
 "metadata": {
  "kernelspec": {
   "display_name": "Python 3 (ipykernel)",
   "language": "python",
   "name": "python3"
  },
  "language_info": {
   "codemirror_mode": {
    "name": "ipython",
    "version": 3
   },
   "file_extension": ".py",
   "mimetype": "text/x-python",
   "name": "python",
   "nbconvert_exporter": "python",
   "pygments_lexer": "ipython3",
   "version": "3.11.4"
  }
 },
 "nbformat": 4,
 "nbformat_minor": 5
}
