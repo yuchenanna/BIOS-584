{
 "cells": [
  {
   "attachments": {},
   "cell_type": "markdown",
   "metadata": {},
   "source": [
    "# Week-06: Functions and Arrays"
   ]
  },
  {
   "attachments": {},
   "cell_type": "markdown",
   "metadata": {},
   "source": [
    "## 1. Import Libraries "
   ]
  },
  {
   "cell_type": "code",
   "execution_count": 9,
   "metadata": {},
   "outputs": [],
   "source": [
    "# the \"numPy\" library is used for mathematical operations\n",
    "# the \"matplotlib\" library is for generating graphs\n",
    "# the \"pandas\" library is for manipualting datasets\n",
    "\n",
    "import numpy as np\n",
    "import matplotlib.pyplot as plt\n",
    "import pandas as pd"
   ]
  },
  {
   "attachments": {},
   "cell_type": "markdown",
   "metadata": {},
   "source": [
    "## 2. Introduction to Functions "
   ]
  },
  {
   "attachments": {},
   "cell_type": "markdown",
   "metadata": {},
   "source": [
    "<font size=\"4\"> \n",
    "\n",
    "A function is ...\n",
    "\n",
    "- a **block of reusable** code to perform a a specific task\n",
    "- Functions avoid repetition\n",
    "- As our code grows larger, functions make it more manageable\n",
    "\n"
   ]
  },
  {
   "attachments": {},
   "cell_type": "markdown",
   "metadata": {},
   "source": [
    "<font size = \"4\">\n",
    "\n",
    "Enter arguments by assigning parameters"
   ]
  },
  {
   "cell_type": "code",
   "execution_count": 5,
   "metadata": {},
   "outputs": [],
   "source": [
    "# Here \"df\" and \"size\" are both parameters\n",
    "# They get assigned the arguments \"2\" and \"20\", respectively\n",
    "# The return is a vector of random variables\n",
    "np.random.seed(100)\n",
    "vec_x = np.random.uniform(low=-2, high=2, size=10)"
   ]
  },
  {
   "cell_type": "code",
   "execution_count": 6,
   "metadata": {},
   "outputs": [
    {
     "data": {
      "text/plain": [
       "array([ 0.17361977, -0.88652246, -0.30192964,  1.37910453, -1.98112458,\n",
       "       -1.51372352,  0.68299634,  1.30341102, -1.45317364,  0.30037332])"
      ]
     },
     "execution_count": 6,
     "metadata": {},
     "output_type": "execute_result"
    }
   ],
   "source": [
    "vec_x"
   ]
  },
  {
   "cell_type": "code",
   "execution_count": 2,
   "metadata": {},
   "outputs": [
    {
     "name": "stdout",
     "output_type": "stream",
     "text": [
      "[2.58359533 2.39188922]\n"
     ]
    }
   ],
   "source": [
    "# Write your own code:\n",
    "# Define vec_y by writing arguments by position:\n",
    "\n",
    "# What if you write vec_y = np.random.uniform(10, -2, 2)\n",
    "vec_y=np.random.uniform(10,-2,2)\n",
    "print(vec_y)"
   ]
  },
  {
   "cell_type": "code",
   "execution_count": 3,
   "metadata": {},
   "outputs": [
    {
     "name": "stdout",
     "output_type": "stream",
     "text": [
      "[ 1.06388869  1.10922191  0.57853649  0.67344151  0.81556114  0.11016922\n",
      " -0.18035018  1.84992485  0.89385006 -0.71638977]\n"
     ]
    }
   ],
   "source": [
    "# Write your own code\n",
    "# Define vec_z by writing arguments by name (with whatever order you like)\n",
    "vec_z=np.random.uniform(high=2,low=-2,size=10)\n",
    "print(vec_z)"
   ]
  },
  {
   "attachments": {},
   "cell_type": "markdown",
   "metadata": {},
   "source": [
    "## 3. Customize Functions "
   ]
  },
  {
   "attachments": {},
   "cell_type": "markdown",
   "metadata": {},
   "source": [
    "<font size = \"4\">\n",
    "\n",
    "You can write your own functions:\n",
    "\n",
    "```python\n",
    "\n",
    "    #---- DEFINE\n",
    "    def my_function(parameter):\n",
    "        body\n",
    "        return expression\n",
    "\n",
    "    #---- RUN\n",
    "    my_function(parameter = argument) \n",
    "\n",
    "    #---- RUN\n",
    "    my_function(argument)\n",
    "```\n",
    "<br>"
   ]
  },
  {
   "attachments": {},
   "cell_type": "markdown",
   "metadata": {},
   "source": [
    "<font size = \"4\">\n",
    "\n",
    "Example 1: Calculate the PMF of a Poisson distribution named `fun_poisson_pmf`.\n",
    "\n",
    "Parameters include `lambda_val` and `k` and return `pmf_val`.\n",
    "\n",
    "$P(X=k)=\\lambda^k \\exp(-\\lambda) / k!, k\\in\\mathbb{N}_0$"
   ]
  },
  {
   "cell_type": "code",
   "execution_count": 11,
   "metadata": {},
   "outputs": [
    {
     "ename": "SyntaxError",
     "evalue": "invalid syntax (2240133621.py, line 4)",
     "output_type": "error",
     "traceback": [
      "\u001b[0;36m  Cell \u001b[0;32mIn[11], line 4\u001b[0;36m\u001b[0m\n\u001b[0;31m    np.arrange(1,k+1)\u001b[0m\n\u001b[0m    ^\u001b[0m\n\u001b[0;31mSyntaxError\u001b[0m\u001b[0;31m:\u001b[0m invalid syntax\n"
     ]
    }
   ],
   "source": [
    "# Write your own code:\n",
    "def fun_poisson_pmf(lambda_val,k):\n",
    "    k_fact = np.cumprod(np.arrange(1,k+1)\n",
    "    np.arrange(1,k+1)\n",
    "    pmf_val = (lambda_val**k * np.exp(-lambda_val)) / k_fact\n",
    "    return pmf_val"
   ]
  },
  {
   "cell_type": "code",
   "execution_count": 10,
   "metadata": {},
   "outputs": [],
   "source": [
    "# Write your own code:\n",
    "# Call your function\n",
    "pmf_1=fun_poisson_pmf(lambda_val=1.5,k=1)\n",
    "print(pmf_1)\n",
    "\n"
   ]
  },
  {
   "cell_type": "code",
   "execution_count": 11,
   "metadata": {},
   "outputs": [],
   "source": [
    "# You can know compute the formula with different values\n",
    "# Let's see how much one can gain by investing 50k and 100k\n",
    "# Earning 10% a year for 10 years\n"
   ]
  },
  {
   "attachments": {},
   "cell_type": "markdown",
   "metadata": {},
   "source": [
    "<font size = \"4\">\n",
    "\n",
    "Example 2:\n",
    "\n",
    "- Write a function that calculates <br>\n",
    " $f(x) = x^2 + 2x + 1$.\n",
    "\n",
    " - Test your function with $x = 2$ and $x = 3$\n"
   ]
  },
  {
   "cell_type": "code",
   "execution_count": 13,
   "metadata": {},
   "outputs": [
    {
     "name": "stdout",
     "output_type": "stream",
     "text": [
      "9 16\n"
     ]
    }
   ],
   "source": [
    "# Write your own code here\n",
    "\n",
    "def fun_quadratic(input_x):\n",
    "    y=input_x**2 + 2*input_x + 1\n",
    "    return y\n",
    "y_1=fun_quadratic(input_x=2)\n",
    "y_2=fun_quadratic(input_x=3)\n",
    "print(y_1,y_2)"
   ]
  },
  {
   "cell_type": "markdown",
   "metadata": {},
   "source": [
    "<font size='4'>\n",
    "Example 3:<br>\n",
    "Call back the nested for loop from the previous class. Below is the prompt and original code.\n",
    "\n",
    "- The CLT is a fundamental concept in statistics.\n",
    "- It states that the distribution of the mean (or sum) of many independent, identically distributed random variables approaches to a normal distribution, regardless of the original distribution\n",
    "- This is true even if the original distribution is NOT normal.\n",
    "- Let $\\bar{X}$ be the sample mean of a random vector $(X_1,\\cdots,X_n)$.\n",
    "- What happens to $\\bar{X}$ with different $n$?\n",
    "    - The Central Limit Theorem makes a prediction!\n",
    "    - It says that the distribution will have a bell shape with higher $n$.\n",
    "- Let's verify CLT by simulating random vectors from a uniform distribution from $-4$ to $5$.\n",
    "- The previous code looks like:\n"
   ]
  },
  {
   "cell_type": "code",
   "execution_count": 13,
   "metadata": {},
   "outputs": [],
   "source": [
    "iteration_num = 1000\n",
    "sample_size_ls = [1,10,50,100]\n",
    "unif_vec_ls_ls = []\n",
    "\n",
    "for sample_size in sample_size_ls:\n",
    "\n",
    "    # initialize unif_vec_sample_size_ls first\n",
    "    unif_vec_sample_size_ls = []\n",
    "    \n",
    "    for iter_num in range(iteration_num):\n",
    "            unif_vec_sample_size_iter  = np.random.uniform(low = -4, high=5, size = sample_size)\n",
    "            unif_vec_sample_size_ls.append(float(np.mean(unif_vec_sample_size_iter)))\n",
    "\n",
    "    unif_vec_ls_ls.append(unif_vec_sample_size_ls)"
   ]
  },
  {
   "cell_type": "markdown",
   "metadata": {},
   "source": [
    "<font size='4'>\n",
    "\n",
    "- We can write two functions to simplify the process. \n",
    "- It will be easier for you to understand once we wrap up the code with functions. \n",
    "- Try developing this habit to decompose your tasks to multiple functions.\n",
    "- We will start the smallest task unit - **computing sample size mean of a uniform vector**.\n",
    "    - Let the function name be `compute_unif_mean` with parameters `low_val`, `high_val`, and `sample_size_n`.\n",
    "    - Generate a uniform vector using `np.random.uniform()`, give a variable name `unif_vec` and return its sample mean using `np.mean()`.\n",
    "    - Make sure the format inside function is parameter_name = argument_name (by name) or argument_name to follow the order (by position)."
   ]
  },
  {
   "cell_type": "code",
   "execution_count": 14,
   "metadata": {},
   "outputs": [],
   "source": [
    "# Write your own code\n",
    "def compute_unif_mean(low_val, high_val, sample_size_n):\n",
    "    unif_vec = np.random.uniform(low_val,high_val, sample_size_n)\n",
    "    return float(np.mean(unif_vrc))"
   ]
  },
  {
   "cell_type": "markdown",
   "metadata": {},
   "source": [
    "<font size='4'>\n",
    "    \n",
    "- Then, we work on the larger task unit - **looping through `iteration_num` to build a list of sample mean values**.\n",
    "    - Let the function name be `loop_iteration_num_build_ls` with parameters `low_val`, `high_val`, `sample_size_n`, and `iteration_n`.\n",
    "        - Remember to include the parameters for the previous function if you want to call it inside it.\n",
    "    - Initialize an empty list called `unif_vec_sample_size_mean_ls`.\n",
    "    - Write a for loop to iterate `range(iteration_n)`, compute the sample mean of each random vector per iteration, and append it to the list initialized just now.\n",
    "    - Return the list `unif_vec_sample_size_mean_ls`."
   ]
  },
  {
   "cell_type": "code",
   "execution_count": 14,
   "metadata": {},
   "outputs": [],
   "source": [
    "# Write your own code\n",
    "def loop_iteration_num_build_ls(low_val, high_val, sample_size_n, iteration_n):\n",
    "    unif_vec_sample_size_mean_ls=[]\n",
    "    for iter_n in range(iteration_n):\n",
    "        sample_mean_iter_n = computer_unif_mean(low_val, high_val, sample_size_n)\n",
    "        unif_vec_sample_size_mean_ls.append(sample_mean_iter_n)\n",
    "    return unif_vec_sample_size_mean_ls"
   ]
  },
  {
   "cell_type": "markdown",
   "metadata": {},
   "source": [
    "<font size='4'>\n",
    "\n",
    "- The original process is decomposed into a few smaller tasks.\n",
    "- Initialize the parameter with proper values, i.e., `low_value`, `high_value`, and `iteration_num`.\n",
    "    - Note that it is okay to intialize variable names differently from the parameter names of the function. But you have to observe the rule either by position or by name.\n",
    "- Our code can be further simplified to the following format."
   ]
  },
  {
   "cell_type": "code",
   "execution_count": 16,
   "metadata": {},
   "outputs": [
    {
     "ename": "NameError",
     "evalue": "name 'computer_unif_mean' is not defined",
     "output_type": "error",
     "traceback": [
      "\u001b[0;31m---------------------------------------------------------------------------\u001b[0m",
      "\u001b[0;31mNameError\u001b[0m                                 Traceback (most recent call last)",
      "Cell \u001b[0;32mIn[16], line 10\u001b[0m\n\u001b[1;32m      7\u001b[0m high_value \u001b[38;5;241m=\u001b[39m \u001b[38;5;241m5\u001b[39m\n\u001b[1;32m      9\u001b[0m \u001b[38;5;28;01mfor\u001b[39;00m sample_size_n \u001b[38;5;129;01min\u001b[39;00m sample_size_ls:\n\u001b[0;32m---> 10\u001b[0m     unif_vec_iter_ls \u001b[38;5;241m=\u001b[39m \u001b[43mloop_iteration_num_build_ls\u001b[49m\u001b[43m(\u001b[49m\u001b[43mlow_value\u001b[49m\u001b[43m,\u001b[49m\u001b[43mhigh_value\u001b[49m\u001b[43m,\u001b[49m\u001b[43msample_size_n\u001b[49m\u001b[43m,\u001b[49m\u001b[43miteration_num\u001b[49m\u001b[43m)\u001b[49m\n\u001b[1;32m     11\u001b[0m     unif_vec_ls_ls\u001b[38;5;241m.\u001b[39mappend(unif_vec_iter_ls)\n\u001b[1;32m     14\u001b[0m \u001b[38;5;28mprint\u001b[39m(\u001b[38;5;28mlen\u001b[39m(unif_vec_ls_ls))\n",
      "Cell \u001b[0;32mIn[14], line 5\u001b[0m, in \u001b[0;36mloop_iteration_num_build_ls\u001b[0;34m(low_val, high_val, sample_size_n, iteration_n)\u001b[0m\n\u001b[1;32m      3\u001b[0m unif_vec_sample_size_mean_ls\u001b[38;5;241m=\u001b[39m[]\n\u001b[1;32m      4\u001b[0m \u001b[38;5;28;01mfor\u001b[39;00m iter_n \u001b[38;5;129;01min\u001b[39;00m \u001b[38;5;28mrange\u001b[39m(iteration_n):\n\u001b[0;32m----> 5\u001b[0m     sample_mean_iter_n \u001b[38;5;241m=\u001b[39m \u001b[43mcomputer_unif_mean\u001b[49m(low_val, high_val, sample_size_n)\n\u001b[1;32m      6\u001b[0m     unif_vec_sample_size_mean_ls\u001b[38;5;241m.\u001b[39mappend(sample_mean_iter_n)\n\u001b[1;32m      7\u001b[0m \u001b[38;5;28;01mreturn\u001b[39;00m unif_vec_sample_size_mean_ls\n",
      "\u001b[0;31mNameError\u001b[0m: name 'computer_unif_mean' is not defined"
     ]
    }
   ],
   "source": [
    "# Write your own code\n",
    "iteration_num = 1000\n",
    "sample_size_ls = [1,10,50,100]\n",
    "unif_vec_ls_ls = []\n",
    "\n",
    "low_value = -4\n",
    "high_value = 5\n",
    "\n",
    "for sample_size_n in sample_size_ls:\n",
    "    unif_vec_iter_ls = loop_iteration_num_build_ls(low_value,high_value,sample_size_n,iteration_num)\n",
    "    unif_vec_ls_ls.append(unif_vec_iter_ls)\n",
    "    \n",
    "\n",
    "print(len(unif_vec_ls_ls))"
   ]
  },
  {
   "attachments": {},
   "cell_type": "markdown",
   "metadata": {},
   "source": [
    "## 4. Lambda Functions \n",
    "\n",
    "<font size = \"4\">\n",
    "\n",
    "\"Lambda Functions\" are defined in one line:\n",
    "\n",
    "```python\n",
    "my_function = lambda parameters: expression\n",
    "```"
   ]
  },
  {
   "attachments": {},
   "cell_type": "markdown",
   "metadata": {},
   "source": [
    "<font size = \"4\">\n",
    "\n",
    "Calculate $x + y$"
   ]
  },
  {
   "cell_type": "code",
   "execution_count": 17,
   "metadata": {},
   "outputs": [],
   "source": [
    "def fn_sum(x, y):\n",
    "    return x + y"
   ]
  },
  {
   "cell_type": "code",
   "execution_count": 18,
   "metadata": {},
   "outputs": [
    {
     "data": {
      "text/plain": [
       "3"
      ]
     },
     "execution_count": 18,
     "metadata": {},
     "output_type": "execute_result"
    }
   ],
   "source": [
    "fn_sum(1,2)"
   ]
  },
  {
   "cell_type": "code",
   "execution_count": 19,
   "metadata": {},
   "outputs": [
    {
     "data": {
      "text/plain": [
       "3"
      ]
     },
     "execution_count": 19,
     "metadata": {},
     "output_type": "execute_result"
    }
   ],
   "source": [
    "# (a) Define function\n",
    "fn_sum = lambda x,y: x + y\n",
    "\n",
    "# (b) Run function\n",
    "fn_sum(1,2)"
   ]
  },
  {
   "attachments": {},
   "cell_type": "markdown",
   "metadata": {},
   "source": [
    "<font size = \"4\">\n",
    "Example 4: <br>\n",
    "Rewrite the PMF of Poisson distribution using a Lambda function."
   ]
  },
  {
   "cell_type": "code",
   "execution_count": 20,
   "metadata": {},
   "outputs": [],
   "source": [
    "# Write your own code:\n"
   ]
  },
  {
   "attachments": {},
   "cell_type": "markdown",
   "metadata": {},
   "source": [
    "<font size = \"4\">\n",
    "Example 5:\n",
    "    \n",
    "Boolean + Functions\n",
    "\n",
    "- Write a function called `fn_iseligible_vote`\n",
    "- This functions returns a boolean value that checks whether $age \\ge$ 18\n",
    "- Test your function with $age = 20$"
   ]
  },
  {
   "cell_type": "code",
   "execution_count": 21,
   "metadata": {},
   "outputs": [],
   "source": [
    "# Write your own code\n"
   ]
  },
  {
   "attachments": {},
   "cell_type": "markdown",
   "metadata": {},
   "source": [
    "## 5. Functions for Visualisation \n",
    "\n",
    "<font size = \"4\">\n",
    "Returning a value is not always necesary, you can write:\n",
    "\n",
    "```python\n",
    "\n",
    "    #---- DEFINE\n",
    "    def my_function(parameter):\n",
    "        body\n",
    "```"
   ]
  },
  {
   "attachments": {},
   "cell_type": "markdown",
   "metadata": {},
   "source": [
    "<font size = \"4\">\n",
    "\n",
    "Example 6: A customized plot\n",
    "\n",
    "- You can use functions to store your favorite aesthetic\n",
    "- The function name: `red_histogram`.\n",
    "- Parameters include `vec_x` and `title`."
   ]
  },
  {
   "cell_type": "code",
   "execution_count": 22,
   "metadata": {},
   "outputs": [
    {
     "data": {
      "image/png": "[encoded data removed]",
      "text/plain": [
       "<Figure size 640x480 with 1 Axes>"
      ]
     },
     "metadata": {},
     "output_type": "display_data"
    },
    {
     "data": {
      "image/png": "[encoded data removed]",
      "text/plain": [
       "<Figure size 640x480 with 1 Axes>"
      ]
     },
     "metadata": {},
     "output_type": "display_data"
    }
   ],
   "source": [
    "# Define the function\n",
    "def red_histogram(vec_x,title):\n",
    "    plt.hist(x = vec_x, color = \"red\")\n",
    "    plt.title(title)\n",
    "    plt.ylabel(\"Frequency\")\n",
    "    plt.show()\n",
    "\n",
    "carfeatures = pd.read_csv(\"data/features.csv\")\n",
    "\n",
    "red_histogram(vec_x = carfeatures[\"weight\"], title = \"Histogram\")\n",
    "red_histogram(vec_x = carfeatures[\"acceleration\"], title = \"Histogram\")\n"
   ]
  },
  {
   "attachments": {},
   "cell_type": "markdown",
   "metadata": {},
   "source": [
    "<font size = \"4\">\n",
    "\n",
    "Example 7:\n",
    "\n",
    "Create a function that computes a red scatter plot named `red_scatterplot` <br>\n",
    " that takes `vec_y` and `vec_x` inputs.\n",
    "\n",
    "When you call the function, you can plot **acceleration** and **weight**."
   ]
  },
  {
   "cell_type": "code",
   "execution_count": 23,
   "metadata": {},
   "outputs": [],
   "source": [
    "# Write your own code\n",
    "# Define the function\n",
    "\n",
    "\n",
    "# call the function\n"
   ]
  },
  {
   "cell_type": "markdown",
   "metadata": {},
   "source": [
    "## 6. Arrays\n"
   ]
  },
  {
   "cell_type": "markdown",
   "metadata": {},
   "source": [
    "<font size='4'>\n",
    "    "
   ]
  },
  {
   "cell_type": "markdown",
   "metadata": {},
   "source": [
    "<font size='4'>\n",
    "\n",
    "- Array is a grid that contains values of the same data type.\n",
    "- Previously, we covered 1-dim, but it can go beyond that."
   ]
  },
  {
   "cell_type": "code",
   "execution_count": 24,
   "metadata": {
    "scrolled": true
   },
   "outputs": [
    {
     "name": "stdout",
     "output_type": "stream",
     "text": [
      "[1 2 3]\n",
      "[[1 2 3]\n",
      " [4 5 6]]\n",
      "[[[ 1  2  3]\n",
      "  [ 4  5  6]]\n",
      "\n",
      " [[-1 -2 -3]\n",
      "  [-4 -5 -6]]]\n",
      "\n"
     ]
    }
   ],
   "source": [
    "# 1-dim array\n",
    "arr_1d = np.array([1,2,3], dtype=np.int64)\n",
    "# dtype is optional: depending on your operation system, \n",
    "# it is np.int32 or np.int64 by default.\n",
    "print(arr_1d)\n",
    "\n",
    "# 2-dim array\n",
    "arr_2d = np.array([[1,2,3], [4,5,6]], dtype=np.int64)\n",
    "print(arr_2d)\n",
    "\n",
    "# 3-dim array\n",
    "arr_3d = np.array([[[1,2,3],\n",
    "                    [4,5,6]],\n",
    "                   [[-1,-2,-3],\n",
    "                    [-4,-5,-6]]], dtype=np.int64)\n",
    "print(arr_3d)\n",
    "print()"
   ]
  },
  {
   "cell_type": "markdown",
   "metadata": {},
   "source": [
    "<font size='4'>\n",
    "\n",
    "- The array holds and represents any regular data in a *structured* way.\n",
    "- An array contains information about *raw data (memory address)*, how to *locate an element (shape and indexing)*, and how to *interpret an elemnt (data type)*.\n",
    "    - For this class, you should at least know the shape of two dimension array (matrix).\n",
    "    - The shape of a 2d-array is a coordiante of two integers (known as `tuple`, a regular data type).\n",
    "    - Axis 0 corresponds to # of rows, while axis 1 corresponds to # of columns."
   ]
  },
  {
   "cell_type": "code",
   "execution_count": 25,
   "metadata": {},
   "outputs": [
    {
     "name": "stdout",
     "output_type": "stream",
     "text": [
      "<memory at 0x10b489a40>\n",
      "(2, 3)\n",
      "int64\n"
     ]
    }
   ],
   "source": [
    "# print out memory address\n",
    "print(arr_2d.data)\n",
    "\n",
    "# print out shape\n",
    "print(arr_2d.shape)\n",
    "\n",
    "# print out data type\n",
    "print(arr_2d.dtype)"
   ]
  },
  {
   "cell_type": "markdown",
   "metadata": {},
   "source": [
    "<font size='4'>\n",
    "\n",
    "Useful functions to initialize an empty numpy array.\n",
    "\n",
    "- `np.ones()`\n",
    "- `np.zeros()`\n",
    "- `np.random.random()`\n",
    "- `np.empty()`\n",
    "- `np.full()`\n",
    "- `np.arange()`\n",
    "- `np.linspace()`"
   ]
  },
  {
   "cell_type": "code",
   "execution_count": 26,
   "metadata": {},
   "outputs": [
    {
     "name": "stdout",
     "output_type": "stream",
     "text": [
      "Ones Array:\n",
      "[[1. 1. 1. 1.]\n",
      " [1. 1. 1. 1.]\n",
      " [1. 1. 1. 1.]]\n",
      "\n",
      "Zeros Array:\n",
      "[[[0 0 0 0]\n",
      "  [0 0 0 0]\n",
      "  [0 0 0 0]]\n",
      "\n",
      " [[0 0 0 0]\n",
      "  [0 0 0 0]\n",
      "  [0 0 0 0]]]\n",
      "\n",
      "Random Array:\n",
      "[[0.77460531 0.80910714]\n",
      " [0.14360324 0.90729539]]\n",
      "\n",
      "Empty Array:\n",
      "[[0. 0.]\n",
      " [0. 0.]\n",
      " [0. 0.]]\n",
      "\n",
      "Full Array:\n",
      "[[7 7]\n",
      " [7 7]]\n",
      "\n",
      "Arange Array:\n",
      "[10 15 20]\n",
      "\n",
      "[0.   0.25 0.5  0.75 1.   1.25 1.5  1.75 2.  ]\n",
      "[0.         0.22222222 0.44444444 0.66666667 0.88888889 1.11111111\n",
      " 1.33333333 1.55555556 1.77777778]\n",
      "\n"
     ]
    }
   ],
   "source": [
    "# Create an array of ones\n",
    "ones_array = np.ones((3, 4))\n",
    "print(\"Ones Array:\")\n",
    "print(ones_array)\n",
    "print()\n",
    "\n",
    "# Create an array of zeros\n",
    "zeros_array = np.zeros((2, 3, 4), dtype=np.int16)\n",
    "print(\"Zeros Array:\")\n",
    "print(zeros_array)\n",
    "print()\n",
    "\n",
    "# Create an array with random values\n",
    "# Return random floats in the half-open interval [0.0, 1.0). \n",
    "random_array = np.random.random((2, 2))\n",
    "print(\"Random Array:\")\n",
    "print(random_array)\n",
    "print()\n",
    "\n",
    "# Create an empty array\n",
    "empty_array = np.empty((3, 2))\n",
    "print(\"Empty Array:\")\n",
    "print(empty_array)\n",
    "print()\n",
    "\n",
    "# Create a full array\n",
    "full_array = np.full((2, 2), 7)\n",
    "print(\"Full Array:\")\n",
    "print(full_array)\n",
    "print()\n",
    "\n",
    "# Create an array of evenly-spaced values\n",
    "arange_array = np.arange(10, 25, 5)\n",
    "print(\"Arange Array:\")\n",
    "print(arange_array)\n",
    "print()\n",
    "\n",
    "# Create an array of evenly-spaced values\n",
    "# the stop value is set to achieve by default (endpoint=True), you can modify it by adding\n",
    "# an optional parameter endpoint=False\n",
    "# https://numpy.org/doc/stable/reference/generated/numpy.linspace.html \n",
    "print(np.linspace(0,2,9))\n",
    "print(np.linspace(0,2,9,endpoint=False))\n",
    "print()"
   ]
  },
  {
   "cell_type": "markdown",
   "metadata": {},
   "source": [
    "<font size='4'>\n",
    "    \n",
    "Useful functions to load np arrays from text (.txt files)\n",
    "- `np.loadtxt()`\n",
    "- `np.genfromtxt()`."
   ]
  },
  {
   "cell_type": "code",
   "execution_count": 27,
   "metadata": {},
   "outputs": [
    {
     "name": "stdout",
     "output_type": "stream",
     "text": [
      "[0.2536 0.4839 0.1292 0.1781 0.6253]\n",
      "[0.1008 0.4536 0.6875 0.3049 0.3486]\n",
      "[0.3857 0.3561 0.5929 0.8928 0.8791]\n"
     ]
    }
   ],
   "source": [
    "# This is your data in the text file\n",
    "# Value1  Value2  Value3\n",
    "# 0.2536  0.1008  0.3857\n",
    "# 0.4839  0.4536  0.3561\n",
    "# 0.1292  0.6875  0.5929\n",
    "# 0.1781  0.3049  0.8928\n",
    "# 0.6253  0.3486  0.8791\n",
    "\n",
    "# Import your data\n",
    "x, y, z = np.loadtxt('./data/working_example_data.txt', skiprows=1, unpack=True)\n",
    "# unpack option allows you to import dataset and return the columns as separate arrays.\n",
    "# https://numpy.org/doc/stable/reference/generated/numpy.loadtxt.html\n",
    "print(x)\n",
    "print(y)\n",
    "print(z)"
   ]
  },
  {
   "cell_type": "code",
   "execution_count": 28,
   "metadata": {},
   "outputs": [
    {
     "name": "stdout",
     "output_type": "stream",
     "text": [
      "[[ 0.4839  0.4536  0.3561]\n",
      " [ 0.1292  0.6875 -9.    ]\n",
      " [ 0.1781  0.3049  0.8928]\n",
      " [-9.      0.5801  0.2038]\n",
      " [ 0.5993  0.4357  0.741 ]]\n"
     ]
    }
   ],
   "source": [
    "# Your data in the text file\n",
    "# Value1  Value2  Value3\n",
    "# 0.4839  0.4536  0.3561\n",
    "# 0.1292  0.6875  MISSING\n",
    "# 0.1781  0.3049  0.8928\n",
    "# MISSING 0.5801  0.2038\n",
    "# 0.5993  0.4357  0.7410\n",
    "\n",
    "# np.genfromtxt() can checking the missing values\n",
    "# https://numpy.org/doc/stable/reference/generated/numpy.genfromtxt.html#numpy.genfromtxt\n",
    "my_arr2 = np.genfromtxt('./data/working_example_data_2.txt', skip_header=1, filling_values=-9)\n",
    "print(my_arr2)"
   ]
  },
  {
   "cell_type": "markdown",
   "metadata": {},
   "source": [
    "<font size='4'>\n",
    "\n",
    "How to save your numpy arrays?\n",
    "\n",
    "- `np.savetxt()`: save an array to a text file\n",
    "- `np.save()`: save an array to a binary file in NumPy .npy format\n",
    "- `np.savez()`: save several arrays into an uncompressed .npz archive\n",
    "- `np.savez_compressed()`: save several arrays into a compressed .npz archive\n",
    "- `np.load()`: load arrays from `.npy` and `.npz` formats.\n",
    "    - In presence of multiple arrays, we need advanced syntax (either `.keys()` or `with`) to access specific elements.\n",
    "    - Will cover it later."
   ]
  },
  {
   "cell_type": "code",
   "execution_count": 29,
   "metadata": {},
   "outputs": [
    {
     "name": "stdout",
     "output_type": "stream",
     "text": [
      "NpzFile './data/my_arr2_twice.npz' with keys: arr_0, arr_1\n",
      "[[ 0.4839  0.4536  0.3561]\n",
      " [ 0.1292  0.6875 -9.    ]\n",
      " [ 0.1781  0.3049  0.8928]\n",
      " [-9.      0.5801  0.2038]\n",
      " [ 0.5993  0.4357  0.741 ]]\n",
      "[[ 0.4839  0.4536  0.3561]\n",
      " [ 0.1292  0.6875 -9.    ]\n",
      " [ 0.1781  0.3049  0.8928]\n",
      " [-9.      0.5801  0.2038]\n",
      " [ 0.5993  0.4357  0.741 ]]\n",
      " \n"
     ]
    }
   ],
   "source": [
    "# Let's take my_arr2 as an example.\n",
    "\n",
    "np.savetxt('./data/my_arr2_delimiter_space.txt', my_arr2, delimiter=' ')\n",
    "np.savetxt('./data/my_arr2_delimiter_comma.txt', my_arr2, delimiter=',')\n",
    "\n",
    "np.save('./data/my_arr2.npy', my_arr2)\n",
    "# https://numpy.org/doc/stable/reference/generated/numpy.save.html\n",
    "\n",
    "np.savez('./data/my_arr2.npz', my_arr2)\n",
    "# https://numpy.org/doc/stable/reference/generated/numpy.savez.html#numpy.savez\n",
    "\n",
    "np.savez_compressed('./data/my_arr2_comp.npz', my_arr2)\n",
    "# https://numpy.org/doc/stable/reference/generated/numpy.savez_compressed.html#numpy.savez_compressed\n",
    "\n",
    "# save multiple arrays\n",
    "np.savez('./data/my_arr2_twice.npz', my_arr2, my_arr2)\n",
    "np.savez_compressed('./data/my_arr2_twice_comp.npz', my_arr2, my_arr2)\n",
    "\n",
    "my_arr2_twice = np.load('./data/my_arr2_twice.npz')\n",
    "print(my_arr2_twice)\n",
    "print(my_arr2_twice['arr_0'])\n",
    "print(my_arr2_twice['arr_1'])\n",
    "print(' ')"
   ]
  },
  {
   "cell_type": "code",
   "execution_count": 30,
   "metadata": {},
   "outputs": [
    {
     "name": "stdout",
     "output_type": "stream",
     "text": [
      "[[ 0.4839  0.4536  0.3561]\n",
      " [ 0.1292  0.6875 -9.    ]\n",
      " [ 0.1781  0.3049  0.8928]\n",
      " [-9.      0.5801  0.2038]\n",
      " [ 0.5993  0.4357  0.741 ]]\n",
      "[[ 0.4839  0.4536  0.3561]\n",
      " [ 0.1292  0.6875 -9.    ]\n",
      " [ 0.1781  0.3049  0.8928]\n",
      " [-9.      0.5801  0.2038]\n",
      " [ 0.5993  0.4357  0.741 ]]\n"
     ]
    }
   ],
   "source": [
    "# Or we can use with function\n",
    "with np.load('./data/my_arr2_twice.npz') as my_arr2_twice:\n",
    "    arr_0 = my_arr2_twice['arr_0']\n",
    "    arr_1 = my_arr2_twice['arr_1']\n",
    "print(arr_0)\n",
    "print(arr_1)"
   ]
  }
 ],
 "metadata": {
  "kernelspec": {
   "display_name": "Python 3 (ipykernel)",
   "language": "python",
   "name": "python3"
  },
  "language_info": {
   "codemirror_mode": {
    "name": "ipython",
    "version": 3
   },
   "file_extension": ".py",
   "mimetype": "text/x-python",
   "name": "python",
   "nbconvert_exporter": "python",
   "pygments_lexer": "ipython3",
   "version": "3.9.6"
  },
  "vscode": {
   "interpreter": {
    "hash": "45fc1f684f6f416f40889115beff3ddf69879b64cf4bfee48cb72a61e9d15d1a"
   }
  }
 },
 "nbformat": 4,
 "nbformat_minor": 4
}
