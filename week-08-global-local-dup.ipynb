{
 "cells": [
  {
   "attachments": {},
   "cell_type": "markdown",
   "metadata": {},
   "source": [
    "# Week 08: Local/Global Variables"
   ]
  },
  {
   "attachments": {},
   "cell_type": "markdown",
   "metadata": {},
   "source": [
    "## 0. Import Libraries "
   ]
  },
  {
   "cell_type": "code",
   "execution_count": 1,
   "metadata": {},
   "outputs": [],
   "source": [
    "# the \"pandas\" library is for manipualting datasets\n",
    "import pandas as pd\n",
    "import numpy as np\n",
    "np.random.seed(100)"
   ]
  },
  {
   "cell_type": "markdown",
   "metadata": {},
   "source": [
    "## 1. Array Continued (Stacking)\n",
    "\n",
    "<font size='4'>"
   ]
  },
  {
   "cell_type": "code",
   "execution_count": 2,
   "metadata": {},
   "outputs": [
    {
     "name": "stdout",
     "output_type": "stream",
     "text": [
      "[1. 1. 1. 1.]\n",
      "\n",
      "[1. 2. 3. 4. 1. 1. 1. 1.]\n",
      "\n",
      "[[1. 2. 3. 4.]\n",
      " [1. 1. 1. 1.]]\n",
      "\n",
      "[[1. 1.]\n",
      " [2. 1.]\n",
      " [3. 1.]\n",
      " [4. 1.]]\n"
     ]
    }
   ],
   "source": [
    "# 9.1.\n",
    "x = np.ones((4,))\n",
    "print(x)\n",
    "print()\n",
    "my_array = np.array([1,2,3,4])\n",
    "my_resized_array=np.resize(my_array,(2,4))\n",
    "my_2d_array = np.array([[1,2,3,4], [5,6,7,8]], dtype=np.int64)\n",
    "\n",
    "# Concatentate `my_array` and `x`\n",
    "print(np.concatenate([my_array, x], axis=0))\n",
    "print()\n",
    "print(np.stack([my_array, x], axis=0))\n",
    "print()\n",
    "print(np.stack([my_array, x], axis=1))"
   ]
  },
  {
   "cell_type": "code",
   "execution_count": 6,
   "metadata": {},
   "outputs": [
    {
     "name": "stdout",
     "output_type": "stream",
     "text": [
      "[1 2 3 4]\n",
      "[[1 2 3 4]\n",
      " [5 6 7 8]]\n",
      "[[1 2 3 4]\n",
      " [1 2 3 4]\n",
      " [5 6 7 8]]\n",
      "\n",
      "[[1 2 3 4]\n",
      " [1 2 3 4]]\n",
      "[[1 2 3 4 1 2 3 4]\n",
      " [1 2 3 4 5 6 7 8]]\n"
     ]
    }
   ],
   "source": [
    "# 9.2. Stack arrays row-wise (by Python's default)\n",
    "print(my_array)\n",
    "print(my_2d_array)\n",
    "print(np.vstack([my_array, my_2d_array]))\n",
    "print()\n",
    "# Stack arrays horizontally\n",
    "print(my_resized_array)\n",
    "print(np.hstack([my_resized_array, my_2d_array]))"
   ]
  },
  {
   "cell_type": "code",
   "execution_count": 9,
   "metadata": {},
   "outputs": [
    {
     "name": "stdout",
     "output_type": "stream",
     "text": [
      "[[1 2 3 4 1 2 3 4]\n",
      " [1 2 3 4 5 6 7 8]]\n",
      "\n",
      "[array([[1, 2, 3, 4],\n",
      "       [1, 2, 3, 4]]), array([[1, 2, 3, 4],\n",
      "       [5, 6, 7, 8]])]\n",
      "Or\n",
      "[array([[1, 2, 3, 4],\n",
      "       [1, 2, 3, 4]]), array([[1, 2, 3, 4],\n",
      "       [5, 6, 7, 8]])]\n",
      "[array([[1, 2, 3, 4, 1, 2, 3, 4]]), array([[1, 2, 3, 4, 5, 6, 7, 8]])]\n"
     ]
    }
   ],
   "source": [
    "# 9.3.\n",
    "my_array = np.array([1,2,3,4])\n",
    "my_resized_array=np.resize(my_array,(2,4))\n",
    "my_2d_array = np.array([[1,2,3,4], [5,6,7,8]], dtype=np.int64)\n",
    "\n",
    "my_stacked_array = np.hstack([my_resized_array, my_2d_array])\n",
    "print(my_stacked_array)\n",
    "print()\n",
    "# if the second argument is an integer, it will split the array into an N equal sub-arrays\n",
    "# Split `my_stacked_array` horizontally into two equal sub-arrays\n",
    "print(np.split(my_stacked_array, 2, axis=1))\n",
    "print('Or')\n",
    "print(np.hsplit(my_stacked_array, 2))\n",
    "# Split `my_stacked_array` vertically into two equal sub-arrays\n",
    "print(np.split(my_stacked_array, 2, axis=0))"
   ]
  },
  {
   "cell_type": "code",
   "execution_count": 13,
   "metadata": {},
   "outputs": [
    {
     "name": "stdout",
     "output_type": "stream",
     "text": [
      "[[1 2 3 4 1 2 3 4]\n",
      " [1 2 3 4 5 6 7 8]]\n",
      "[array([[1, 2],\n",
      "       [1, 2]]), array([[3, 4, 1],\n",
      "       [3, 4, 5]]), array([[2, 3, 4],\n",
      "       [6, 7, 8]])]\n",
      "Or\n",
      "[array([[1, 2],\n",
      "       [1, 2]]), array([[3, 4, 1],\n",
      "       [3, 4, 5]]), array([[2, 3, 4],\n",
      "       [6, 7, 8]])]\n"
     ]
    }
   ],
   "source": [
    "# 9.4. Use indices in the form of a numpy array\n",
    "print(my_stacked_array)\n",
    "print(np.split(my_stacked_array, np.array([2, 5]), axis=1))\n",
    "print('Or')\n",
    "print(np.hsplit(my_stacked_array, np.array([2, 5])))"
   ]
  },
  {
   "cell_type": "code",
   "execution_count": 14,
   "metadata": {},
   "outputs": [
    {
     "name": "stdout",
     "output_type": "stream",
     "text": [
      "[[[86.30214825 78.35108155 82.73552772 95.34328397 70.14156569]\n",
      "  [73.64707362 90.12247254 94.77558265 74.10119769 87.25279988]\n",
      "  [96.73965863 76.27606366 75.55984659 73.25130671 76.59092478]\n",
      "  [99.35871354 94.35049447 75.15823038 94.48674246 78.22221241]\n",
      "  [82.95112551 98.20089459 94.52948136 80.0833585  75.26231361]\n",
      "  [81.18496139 70.17065522 77.5727906  93.86987525 70.45764914]\n",
      "  [87.96530131 88.11413617 73.15443056 81.45830335 71.0942817 ]\n",
      "  [96.7123469  99.42762571 71.79825966 96.71637834 87.30704498]\n",
      "  [92.27439067 88.90551809 87.45526577 70.61317396 76.30079733]\n",
      "  [86.34054635 93.07345513 77.52085687 78.57687071 95.57185264]]\n",
      "\n",
      " [[99.25019481 96.5455988  80.78523532 87.96576838 80.64386835]\n",
      "  [80.20570646 75.34242969 77.13082626 71.34586847 85.16294289]\n",
      "  [81.28757363 87.78416203 88.89825627 74.27800943 98.01523898]\n",
      "  [98.39139642 88.06889973 81.63298841 80.89564012 76.13035831]\n",
      "  [78.30295184 77.39607644 75.20824005 98.99829083 98.71037801]\n",
      "  [87.93921053 91.93902259 80.21155669 72.7616681  83.90494057]\n",
      "  [85.2609668  72.65380519 85.8410567  99.7647411  81.85107795]\n",
      "  [80.06789325 94.16351612 92.63046984 79.39199325 89.02110049]\n",
      "  [86.21213726 78.90381253 73.32363704 79.37920894 83.7093739 ]\n",
      "  [89.76820211 77.62772553 89.23303776 76.00370822 89.72874417]]]\n",
      "(2, 10, 5)\n"
     ]
    }
   ],
   "source": [
    "# 9.5. Let's create a practical example and call back from the blood pressue problem.\n",
    "# (2, 10, 5) refers to two sites, 10 patients each site, and 5 time points per patient.\n",
    "BP_3d_arr = np.random.uniform(low=70, high=100, size=(2, 10, 5))\n",
    "print(BP_3d_arr)\n",
    "print(BP_3d_arr.shape)"
   ]
  },
  {
   "cell_type": "code",
   "execution_count": 20,
   "metadata": {},
   "outputs": [
    {
     "name": "stdout",
     "output_type": "stream",
     "text": [
      "[[82.57472144 83.97982528 79.68356007 88.31527865 86.20543472 78.65118632\n",
      "  80.35729062 90.39233112 83.10982917 86.21671634]\n",
      " [89.03813313 77.83755475 86.05264807 85.0238566  85.72318744 83.3512797\n",
      "  85.07432955 87.05499459 80.30563393 84.47228356]]\n",
      "(2, 10)\n",
      "[[82.57472144 83.97982528 79.68356007 88.31527865 86.20543472 78.65118632\n",
      "  80.35729062 90.39233112 83.10982917 86.21671634]\n",
      " [89.03813313 77.83755475 86.05264807 85.0238566  85.72318744 83.3512797\n",
      "  85.07432955 87.05499459 80.30563393 84.47228356]]\n",
      "(2, 10)\n",
      "[[92.77617153 87.44834018 81.76038152 91.65452617 75.39271702]\n",
      " [76.92639004 82.73245111 85.95320446 72.72353308 86.20787139]\n",
      " [89.01361613 82.03011285 82.22905143 73.76465807 87.30308188]\n",
      " [98.87505498 91.2096971  78.3956094  87.69119129 77.17628536]\n",
      " [80.62703868 87.79848551 84.86886071 89.54082467 86.98634581]\n",
      " [84.56208596 81.05483891 78.89217364 83.31577168 77.18129485]\n",
      " [86.61313405 80.38397068 79.49774363 90.61152222 76.47267983]\n",
      " [88.39012008 96.79557092 82.21436475 88.05418579 88.16407274]\n",
      " [89.24326397 83.90466531 80.3894514  74.99619145 80.00508562]\n",
      " [88.05437423 85.35059033 83.37694732 77.29028946 92.6502984 ]]\n",
      "(10, 5)\n"
     ]
    }
   ],
   "source": [
    "# 9.5.1 axis takes one number\n",
    "BP_3d_arr_mean_1 = np.mean(BP_3d_arr, axis=0)\n",
    "# print(BP_3d_arr_mean_1)\n",
    "# print(BP_3d_arr_mean_1.shape)\n",
    "\n",
    "BP_3d_arr_mean_2 = np.mean(BP_3d_arr, axis=1)\n",
    "# print(BP_3d_arr_mean_2)\n",
    "# print(BP_3d_arr_mean_2.shape)\n",
    "\n",
    "BP_3d_arr_mean_3 = np.mean(BP_3d_arr, axis=2)\n",
    "print(BP_3d_arr_mean_3)\n",
    "print(BP_3d_arr_mean_3.shape)\n",
    "\n",
    "BP_3d_arra_mean_3 = np.mean(BP_3d_arr, axis=-1)\n",
    "print(BP_3d_arr_mean_3)\n",
    "print(BP_3d_arr_mean_3.shape)\n",
    "\n",
    "BP_3d_arr_mean_2 = np.mean(BP_3d_arr, axis=-2)\n",
    "# print(BP_3d_arr_mean_2)\n",
    "# print(BP_3d_arr_mean_2.shape)\n",
    "\n",
    "BP_3d_arr_mean_1 = np.mean(BP_3d_arr, axis=-3)\n",
    "print(BP_3d_arr_mean_1)\n",
    "print(BP_3d_arr_mean_1.shape)"
   ]
  },
  {
   "cell_type": "code",
   "execution_count": 24,
   "metadata": {},
   "outputs": [
    {
     "name": "stdout",
     "output_type": "stream",
     "text": [
      "[83.94861737 84.39339013]\n",
      "(2,)\n",
      "Or\n",
      "[83.94861737 84.39339013]\n",
      "(2,)\n",
      "[85.80642728 80.90869002 82.86810407 86.66956763 85.96431108 81.00123301\n",
      " 82.71581008 88.72366285 81.70773155 85.34449995]\n",
      "(10,)\n",
      "[87.50812496 85.87087229 81.75777883 82.96426939 82.75397329]\n",
      "(5,)\n"
     ]
    }
   ],
   "source": [
    "# 9.5.2 axis takes two numbers\n",
    "BP_3d_arr_mean_4 = np.mean(BP_3d_arr, axis=(1, 2))\n",
    "print(BP_3d_arr_mean_4)\n",
    "print(BP_3d_arr_mean_4.shape)\n",
    "print('Or')\n",
    "BP_3d_arr_mean_4 = np.mean(BP_3d_arr, axis=(-2, -1))\n",
    "print(BP_3d_arr_mean_4)\n",
    "print(BP_3d_arr_mean_4.shape)\n",
    "\n",
    "BP_3d_arr_mean_5 = np.mean(BP_3d_arr, axis=(0, 2))\n",
    "print(BP_3d_arr_mean_5)\n",
    "print(BP_3d_arr_mean_5.shape)\n",
    "\n",
    "BP_3d_arr_mean_6 = np.mean(BP_3d_arr, axis=(0, 1))\n",
    "print(BP_3d_arr_mean_6)\n",
    "print(BP_3d_arr_mean_6.shape)"
   ]
  },
  {
   "cell_type": "code",
   "execution_count": 28,
   "metadata": {},
   "outputs": [
    {
     "name": "stdout",
     "output_type": "stream",
     "text": [
      "84.17100375157764\n",
      "()\n",
      "Or\n",
      "84.17100375157764\n",
      "(1,)\n"
     ]
    }
   ],
   "source": [
    "# 9.5.3. axis takes three numbers or None\n",
    "BP_3d_arr_mean_7 = np.mean(BP_3d_arr, axis=(0, 1, 2))\n",
    "print(BP_3d_arr_mean_7)\n",
    "print(BP_3d_arr_mean_7.shape)\n",
    "print('Or')\n",
    "BP_3d_arr_mean_7 = np.mean(BP_3d_arr, axis=None)\n",
    "print(BP_3d_arr_mean_7)\n",
    "\n",
    "temp = np.array([84.17])\n",
    "print(temp.shape)"
   ]
  },
  {
   "attachments": {},
   "cell_type": "markdown",
   "metadata": {},
   "source": [
    "## 2. Local and Global Variables\n",
    "\n",
    "<font size=\"4\"> \n",
    "\n",
    "Most of the variables we've defined so far are \"global\"\n",
    "\n",
    "- Stored in working environment\n",
    "- Can be referenced in other parts of the notebook\n",
    "\n"
   ]
  },
  {
   "attachments": {},
   "cell_type": "markdown",
   "metadata": {},
   "source": [
    "<font size = \"5\">\n",
    "Example:"
   ]
  },
  {
   "cell_type": "code",
   "execution_count": 29,
   "metadata": {},
   "outputs": [],
   "source": [
    "message_hello = \"hello\"\n",
    "number3       = 3"
   ]
  },
  {
   "cell_type": "code",
   "execution_count": 30,
   "metadata": {},
   "outputs": [
    {
     "name": "stdout",
     "output_type": "stream",
     "text": [
      "hello world\n",
      "6\n"
     ]
    }
   ],
   "source": [
    "print(message_hello + \" world\")\n",
    "print(number3 * 2)"
   ]
  },
  {
   "attachments": {},
   "cell_type": "markdown",
   "metadata": {},
   "source": [
    "<font size = \"4\">\n",
    "\n",
    "Any \"global\" variable can be referenced inside functions\n",
    "\n",
    "- However, this can lead to mistakes\n",
    "- Preferrably, include **all** the inputs as parameters"
   ]
  },
  {
   "attachments": {},
   "cell_type": "markdown",
   "metadata": {},
   "source": [
    "<font size = \"4\">\n",
    "\n",
    "$f(x,y,z) = x + y + z$"
   ]
  },
  {
   "cell_type": "code",
   "execution_count": 33,
   "metadata": {},
   "outputs": [
    {
     "name": "stdout",
     "output_type": "stream",
     "text": [
      "8\n",
      "13\n"
     ]
    }
   ],
   "source": [
    "# 2.1. Correct Example:\n",
    "def fn_add_recommended(x, y, z):\n",
    "    return x+y+z\n",
    "\n",
    "# recall passing arguments by name or by position\n",
    "print(fn_add_recommended(x=1, y=2, z=5))\n",
    "print(fn_add_recommended(x=1, y=2, z=10))"
   ]
  },
  {
   "cell_type": "code",
   "execution_count": 34,
   "metadata": {},
   "outputs": [
    {
     "name": "stdout",
     "output_type": "stream",
     "text": [
      "8\n",
      "13\n"
     ]
    }
   ],
   "source": [
    "# 2.2. Example that runs (but not recommended)\n",
    "# Python will try to fill in any missing inputs\n",
    "# with variables in the working environment\n",
    "def fn_add_notrecommended(x, y):\n",
    "    return x+y+z\n",
    "\n",
    "z=5\n",
    "print(fn_add_notrecommended(x=1, y=2))\n",
    "z=10\n",
    "print(fn_add_notrecommended(x=1, y=2))"
   ]
  },
  {
   "cell_type": "code",
   "execution_count": 35,
   "metadata": {},
   "outputs": [
    {
     "ename": "NameError",
     "evalue": "name 'z' is not defined",
     "output_type": "error",
     "traceback": [
      "\u001b[31m---------------------------------------------------------------------------\u001b[39m",
      "\u001b[31mNameError\u001b[39m                                 Traceback (most recent call last)",
      "\u001b[36mCell\u001b[39m\u001b[36m \u001b[39m\u001b[32mIn[35]\u001b[39m\u001b[32m, line 3\u001b[39m\n\u001b[32m      1\u001b[39m \u001b[38;5;66;03m# 2.2.1.\u001b[39;00m\n\u001b[32m      2\u001b[39m \u001b[38;5;28;01mdel\u001b[39;00m z \u001b[38;5;66;03m# remove variables from a global scope\u001b[39;00m\n\u001b[32m----> \u001b[39m\u001b[32m3\u001b[39m \u001b[38;5;28mprint\u001b[39m(\u001b[43mfn_add_notrecommended\u001b[49m\u001b[43m(\u001b[49m\u001b[43mx\u001b[49m\u001b[43m=\u001b[49m\u001b[32;43m1\u001b[39;49m\u001b[43m,\u001b[49m\u001b[43m \u001b[49m\u001b[43my\u001b[49m\u001b[43m=\u001b[49m\u001b[32;43m2\u001b[39;49m\u001b[43m)\u001b[49m)\n",
      "\u001b[36mCell\u001b[39m\u001b[36m \u001b[39m\u001b[32mIn[34]\u001b[39m\u001b[32m, line 5\u001b[39m, in \u001b[36mfn_add_notrecommended\u001b[39m\u001b[34m(x, y)\u001b[39m\n\u001b[32m      4\u001b[39m \u001b[38;5;28;01mdef\u001b[39;00m\u001b[38;5;250m \u001b[39m\u001b[34mfn_add_notrecommended\u001b[39m(x, y):\n\u001b[32m----> \u001b[39m\u001b[32m5\u001b[39m     \u001b[38;5;28;01mreturn\u001b[39;00m x+y+\u001b[43mz\u001b[49m\n",
      "\u001b[31mNameError\u001b[39m: name 'z' is not defined"
     ]
    }
   ],
   "source": [
    "# 2.2.1.\n",
    "del z # remove variables from a global scope\n",
    "print(fn_add_notrecommended(x=1, y=2))"
   ]
  },
  {
   "attachments": {},
   "cell_type": "markdown",
   "metadata": {},
   "source": [
    "<font size =\"4\">\n",
    "\n",
    "Variables defined inside functions are \"local\"\n",
    "\n",
    "- Stored \"temporarily\" while running\n",
    "- Includes: Parameters + Intermediate variables\n"
   ]
  },
  {
   "attachments": {},
   "cell_type": "markdown",
   "metadata": {},
   "source": [
    "### Local variables supercede global variables"
   ]
  },
  {
   "cell_type": "code",
   "execution_count": 37,
   "metadata": {},
   "outputs": [],
   "source": [
    "del x"
   ]
  },
  {
   "cell_type": "code",
   "execution_count": 38,
   "metadata": {},
   "outputs": [
    {
     "name": "stdout",
     "output_type": "stream",
     "text": [
      "20\n",
      "Outside\n"
     ]
    },
    {
     "ename": "NameError",
     "evalue": "name 'x' is not defined",
     "output_type": "error",
     "traceback": [
      "\u001b[31m---------------------------------------------------------------------------\u001b[39m",
      "\u001b[31mNameError\u001b[39m                                 Traceback (most recent call last)",
      "\u001b[36mCell\u001b[39m\u001b[36m \u001b[39m\u001b[32mIn[38]\u001b[39m\u001b[32m, line 9\u001b[39m\n\u001b[32m      7\u001b[39m print_x()\n\u001b[32m      8\u001b[39m \u001b[38;5;28mprint\u001b[39m(\u001b[33m'\u001b[39m\u001b[33mOutside\u001b[39m\u001b[33m'\u001b[39m)\n\u001b[32m----> \u001b[39m\u001b[32m9\u001b[39m \u001b[38;5;28mprint\u001b[39m(\u001b[43mx\u001b[49m)\n",
      "\u001b[31mNameError\u001b[39m: name 'x' is not defined"
     ]
    }
   ],
   "source": [
    "# 2.3.\n",
    "def print_x():\n",
    "    x=20 # local scope\n",
    "    print(x)\n",
    "\n",
    "# call the function\n",
    "print_x()\n",
    "print('Outside')\n",
    "print(x)"
   ]
  },
  {
   "cell_type": "code",
   "execution_count": 40,
   "metadata": {},
   "outputs": [
    {
     "name": "stdout",
     "output_type": "stream",
     "text": [
      "0 bios\n",
      "1 epid\n",
      "2 bshes\n",
      "3 eh\n",
      "4 gh\n",
      "5 hsrhp\n",
      "6 nutrition\n",
      "6 nutrition\n"
     ]
    }
   ],
   "source": [
    "# 2.4. An exception\n",
    "depart_ls = ['bios', 'epid', 'bshes', 'eh', 'gh', 'hsrhp', 'nutrition']\n",
    "for id_iter, depart_iter in enumerate(depart_ls):\n",
    "    print(id_iter, depart_iter)\n",
    "# They are still global variables, \n",
    "# although we do not explicitly define them.\n",
    "print(id_iter, depart_iter)"
   ]
  },
  {
   "cell_type": "code",
   "execution_count": 41,
   "metadata": {},
   "outputs": [
    {
     "name": "stdout",
     "output_type": "stream",
     "text": [
      "1.44\n",
      "5\n",
      "-5\n"
     ]
    }
   ],
   "source": [
    "# 2.5. This is an example where we define a quadratic function\n",
    "# (x,y) are both local variables of the function\n",
    "# \n",
    "# When we call the function, only the arguments matter.\n",
    "# any intermediate value inside the function are \"invisible\"\n",
    "# or \"inaccessible\" when exiting the function.\n",
    "\n",
    "def fn_square(x):\n",
    "    y = x**2\n",
    "    return y\n",
    "\n",
    "x = 5\n",
    "y = -5\n",
    "print(fn_square(x=1.2))\n",
    "\n",
    "print(x)\n",
    "print(y)"
   ]
  },
  {
   "attachments": {},
   "cell_type": "markdown",
   "metadata": {},
   "source": [
    "### Local variables are **not** stored in the working environment"
   ]
  },
  {
   "cell_type": "code",
   "execution_count": 44,
   "metadata": {},
   "outputs": [
    {
     "name": "stdout",
     "output_type": "stream",
     "text": [
      "100\n",
      "5\n",
      "4\n",
      "400\n",
      "6\n",
      "2\n"
     ]
    }
   ],
   "source": [
    "# 2.6. The following code assigns a global variable x\n",
    "x = 5\n",
    "y = 4\n",
    "\n",
    "\n",
    "# x and y values change inside the function only\n",
    "print(fn_square(x=10))\n",
    "\n",
    "# when exiting function, \n",
    "# the values are still associated with global variables\n",
    "print(x)\n",
    "print(y)\n",
    "\n",
    "x = 6\n",
    "y = 2\n",
    "print(fn_square(x=20))\n",
    "print(x)\n",
    "print(y)"
   ]
  },
  {
   "attachments": {},
   "cell_type": "markdown",
   "metadata": {},
   "source": [
    "### To permanently modify a variable, use the \"global\" command"
   ]
  },
  {
   "cell_type": "code",
   "execution_count": 45,
   "metadata": {},
   "outputs": [
    {
     "name": "stdout",
     "output_type": "stream",
     "text": [
      "x=1 before modification\n",
      "x=6 after modify_x function\n"
     ]
    }
   ],
   "source": [
    "# 2.7.\n",
    "def modify_x():\n",
    "    global x\n",
    "    x = x + 5\n",
    "\n",
    "x = 1\n",
    "print('x={} before modification'.format(x))\n",
    "# Now run the function will permanentaly increase x by 5.\n",
    "modify_x()\n",
    "print('x={} after modify_x function'.format(x))"
   ]
  },
  {
   "attachments": {},
   "cell_type": "markdown",
   "metadata": {},
   "source": [
    "### Try it yourself:\n",
    "\n",
    "<font size = \"4\">\n",
    "    \n",
    "- What happens if we run `modify_x` twice?\n",
    "- What happens if we add `global y` inside `fn_square`?"
   ]
  },
  {
   "cell_type": "code",
   "execution_count": 46,
   "metadata": {},
   "outputs": [
    {
     "name": "stdout",
     "output_type": "stream",
     "text": [
      "x=6 after modify_x_function once\n",
      "x=11 after modify_x_function twice\n",
      "x=16 after modify_x_function three times\n"
     ]
    }
   ],
   "source": [
    "# 2.8. Write your own code here\n",
    "print('x={} after modify_x_function once'.format(x))\n",
    "modify_x()\n",
    "print('x={} after modify_x_function twice'.format(x))\n",
    "modify_x()\n",
    "print('x={} after modify_x_function three times'.format(x))"
   ]
  },
  {
   "cell_type": "code",
   "execution_count": 48,
   "metadata": {},
   "outputs": [
    {
     "name": "stdout",
     "output_type": "stream",
     "text": [
      "Before running function\n",
      "5 -5\n",
      "After running function\n",
      "1.44\n",
      "5\n",
      "1.44\n"
     ]
    }
   ],
   "source": [
    "# 2.9.\n",
    "def fn_square_2(x):\n",
    "    global y\n",
    "    y=x**2\n",
    "    return y\n",
    "\n",
    "# Call the function\n",
    "x = 5\n",
    "y = -5\n",
    "\n",
    "print('Before running function')\n",
    "print(x, y)\n",
    "print('After running function')\n",
    "print(fn_square_2(x=1.2))\n",
    "print(x)\n",
    "print(y)"
   ]
  },
  {
   "cell_type": "markdown",
   "metadata": {},
   "source": [
    "### Built-in scope (Variables defined in Python)\n",
    "\n",
    "<font size='4'>\n",
    "\n",
    "- Functions such as `print()`, `len()`, `sum()`, `isinstance()` are all built-in functions in Python.\n",
    "- They are available in any part of your code, so no need to define them.\n",
    "- Python has a list of variables that are always available to prevent you from using the same names.\n",
    "- Most of them are error names."
   ]
  },
  {
   "cell_type": "code",
   "execution_count": 49,
   "metadata": {},
   "outputs": [
    {
     "name": "stdout",
     "output_type": "stream",
     "text": [
      "['ArithmeticError', 'AssertionError', 'AttributeError', 'BaseException', 'BaseExceptionGroup', 'BlockingIOError', 'BrokenPipeError', 'BufferError', 'BytesWarning', 'ChildProcessError', 'ConnectionAbortedError', 'ConnectionError', 'ConnectionRefusedError', 'ConnectionResetError', 'DeprecationWarning', 'EOFError', 'Ellipsis', 'EncodingWarning', 'EnvironmentError', 'Exception', 'ExceptionGroup', 'False', 'FileExistsError', 'FileNotFoundError', 'FloatingPointError', 'FutureWarning', 'GeneratorExit', 'IOError', 'ImportError', 'ImportWarning', 'IndentationError', 'IndexError', 'InterruptedError', 'IsADirectoryError', 'KeyError', 'KeyboardInterrupt', 'LookupError', 'MemoryError', 'ModuleNotFoundError', 'NameError', 'None', 'NotADirectoryError', 'NotImplemented', 'NotImplementedError', 'OSError', 'OverflowError', 'PendingDeprecationWarning', 'PermissionError', 'ProcessLookupError', 'RecursionError', 'ReferenceError', 'ResourceWarning', 'RuntimeError', 'RuntimeWarning', 'StopAsyncIteration', 'StopIteration', 'SyntaxError', 'SyntaxWarning', 'SystemError', 'SystemExit', 'TabError', 'TimeoutError', 'True', 'TypeError', 'UnboundLocalError', 'UnicodeDecodeError', 'UnicodeEncodeError', 'UnicodeError', 'UnicodeTranslateError', 'UnicodeWarning', 'UserWarning', 'ValueError', 'Warning', 'ZeroDivisionError', '__IPYTHON__', '__build_class__', '__debug__', '__doc__', '__import__', '__loader__', '__name__', '__package__', '__spec__', 'abs', 'aiter', 'all', 'anext', 'any', 'ascii', 'bin', 'bool', 'breakpoint', 'bytearray', 'bytes', 'callable', 'chr', 'classmethod', 'compile', 'complex', 'copyright', 'credits', 'delattr', 'dict', 'dir', 'display', 'divmod', 'enumerate', 'eval', 'exec', 'execfile', 'filter', 'float', 'format', 'frozenset', 'get_ipython', 'getattr', 'globals', 'hasattr', 'hash', 'help', 'hex', 'id', 'input', 'int', 'isinstance', 'issubclass', 'iter', 'len', 'license', 'list', 'locals', 'map', 'max', 'memoryview', 'min', 'next', 'object', 'oct', 'open', 'ord', 'pow', 'print', 'property', 'range', 'repr', 'reversed', 'round', 'runfile', 'set', 'setattr', 'slice', 'sorted', 'staticmethod', 'str', 'sum', 'super', 'tuple', 'type', 'vars', 'zip']\n"
     ]
    }
   ],
   "source": [
    "# 2.10\n",
    "import builtins\n",
    "print(dir(builtins))"
   ]
  },
  {
   "cell_type": "markdown",
   "metadata": {},
   "source": [
    "### Enclosing scope (Variables defined in enclosing functions)\n",
    "\n",
    "<font size='4'>\n",
    "    \n",
    "- They refer to variables defined in enclosing functions\n",
    "- Enclosing functions are functions that contain other functions (nested or hierarachical functions)\n",
    "- Enclosing scope is between local and global scopes in the LEGB rule"
   ]
  },
  {
   "cell_type": "code",
   "execution_count": 50,
   "metadata": {},
   "outputs": [],
   "source": [
    "# 2.11\n",
    "# Define a function that contains another function\n",
    "def outer():\n",
    "    x = 'outer->x' # local to outer()\n",
    "\n",
    "    # define a nested function\n",
    "    def inner():\n",
    "        x = 'inner->x' # local to inner()\n",
    "        print(x)\n",
    "\n",
    "    inner() # runner inner()\n",
    "    print(x)"
   ]
  },
  {
   "cell_type": "code",
   "execution_count": 52,
   "metadata": {},
   "outputs": [
    {
     "name": "stdout",
     "output_type": "stream",
     "text": [
      "inner->x\n",
      "outer->x\n"
     ]
    },
    {
     "ename": "NameError",
     "evalue": "name 'x' is not defined",
     "output_type": "error",
     "traceback": [
      "\u001b[31m---------------------------------------------------------------------------\u001b[39m",
      "\u001b[31mNameError\u001b[39m                                 Traceback (most recent call last)",
      "\u001b[36mCell\u001b[39m\u001b[36m \u001b[39m\u001b[32mIn[52]\u001b[39m\u001b[32m, line 4\u001b[39m\n\u001b[32m      2\u001b[39m \u001b[38;5;28;01mdel\u001b[39;00m x\n\u001b[32m      3\u001b[39m outer() \u001b[38;5;66;03m# run outer()\u001b[39;00m\n\u001b[32m----> \u001b[39m\u001b[32m4\u001b[39m \u001b[38;5;28mprint\u001b[39m(\u001b[43mx\u001b[49m)\n",
      "\u001b[31mNameError\u001b[39m: name 'x' is not defined"
     ]
    }
   ],
   "source": [
    "# Call the function\n",
    "del x\n",
    "outer() # run outer()\n",
    "print(x)"
   ]
  },
  {
   "cell_type": "markdown",
   "metadata": {},
   "source": [
    "## 3. Work with Python scripts\n",
    "\n",
    "<font size='4'>\n",
    "\n",
    "Please open `week_08_main_1.py` and `week_08_main_2.py`."
   ]
  }
 ],
 "metadata": {
  "kernelspec": {
   "display_name": "Python 3 (ipykernel)",
   "language": "python",
   "name": "python3"
  },
  "language_info": {
   "codemirror_mode": {
    "name": "ipython",
    "version": 3
   },
   "file_extension": ".py",
   "mimetype": "text/x-python",
   "name": "python",
   "nbconvert_exporter": "python",
   "pygments_lexer": "ipython3",
   "version": "3.11.4"
  },
  "vscode": {
   "interpreter": {
    "hash": "45fc1f684f6f416f40889115beff3ddf69879b64cf4bfee48cb72a61e9d15d1a"
   }
  }
 },
 "nbformat": 4,
 "nbformat_minor": 4
}
