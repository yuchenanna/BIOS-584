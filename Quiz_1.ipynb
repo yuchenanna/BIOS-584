{
 "cells": [
  {
   "cell_type": "markdown",
   "id": "e1d014ce-fe1d-4dbe-ad5c-9acb4db8600c",
   "metadata": {},
   "source": [
    "yuchen gong"
   ]
  },
  {
   "cell_type": "code",
   "execution_count": 1,
   "id": "1de5fb20-5d20-41b3-9d00-5d07bab72357",
   "metadata": {},
   "outputs": [
    {
     "name": "stdout",
     "output_type": "stream",
     "text": [
      "['cat1', 'cat1', 'cat1', 'cat2']\n"
     ]
    }
   ],
   "source": [
    "cat=['cat1', 'cat1', 'cat1']\n",
    "cat.append('cat2')\n",
    "print(cat)"
   ]
  },
  {
   "cell_type": "code",
   "execution_count": 2,
   "id": "104cef55-26ab-4105-aa6f-26a38eacac43",
   "metadata": {},
   "outputs": [
    {
     "name": "stdout",
     "output_type": "stream",
     "text": [
      "[]\n"
     ]
    }
   ],
   "source": [
    "cat=['cat1','cat1', 'cat1']\n",
    "cat.clear()\n",
    "print(cat)"
   ]
  },
  {
   "cell_type": "code",
   "execution_count": 3,
   "id": "40773083-2cd3-4805-81a9-98f7155ae854",
   "metadata": {},
   "outputs": [
    {
     "name": "stdout",
     "output_type": "stream",
     "text": [
      "['cat1', 'cat1', 'cat1']\n"
     ]
    }
   ],
   "source": [
    "cat=['cat1', 'cat1', 'cat1']\n",
    "cat.copy()\n",
    "print(cat)"
   ]
  },
  {
   "cell_type": "code",
   "execution_count": 4,
   "id": "3696a06a-5a3b-4f09-890d-38f025a887b6",
   "metadata": {},
   "outputs": [
    {
     "name": "stdout",
     "output_type": "stream",
     "text": [
      "2\n"
     ]
    }
   ],
   "source": [
    "cat=['cat1', 'cat1', 'cat2']\n",
    "print(cat.count('cat1'))"
   ]
  },
  {
   "cell_type": "code",
   "execution_count": 5,
   "id": "d592c4d7-3534-44ef-b0bb-6d3198b660dd",
   "metadata": {},
   "outputs": [
    {
     "name": "stdout",
     "output_type": "stream",
     "text": [
      "2\n"
     ]
    }
   ],
   "source": [
    "print(cat.index('cat2'))"
   ]
  },
  {
   "cell_type": "code",
   "execution_count": 6,
   "id": "4f217cff-0ab8-464f-8ef6-3fb3b0490473",
   "metadata": {},
   "outputs": [
    {
     "name": "stdout",
     "output_type": "stream",
     "text": [
      "['cat1', 'cat2', 'cat1', 'cat2']\n"
     ]
    }
   ],
   "source": [
    "cat.insert(1,'cat2')\n",
    "print(cat)"
   ]
  },
  {
   "cell_type": "code",
   "execution_count": 7,
   "id": "0b79ca6a-9eaf-4e9e-9e5b-73217372583f",
   "metadata": {},
   "outputs": [
    {
     "data": {
      "text/plain": [
       "'cat2'"
      ]
     },
     "execution_count": 7,
     "metadata": {},
     "output_type": "execute_result"
    }
   ],
   "source": [
    "cat=['cat1', 'cat1', 'cat2']\n",
    "cat.pop(2)"
   ]
  },
  {
   "cell_type": "code",
   "execution_count": 8,
   "id": "a5b70e3f-1a81-4b9f-b01d-eb10d953cbdc",
   "metadata": {},
   "outputs": [
    {
     "name": "stdout",
     "output_type": "stream",
     "text": [
      "['cat1', 'cat1']\n"
     ]
    }
   ],
   "source": [
    "cat=['cat1', 'cat1', 'cat2']\n",
    "cat.remove('cat2')\n",
    "print(cat)"
   ]
  },
  {
   "cell_type": "code",
   "execution_count": 9,
   "id": "1ed2077f-b3d5-4138-abb8-6a7fd1fed388",
   "metadata": {},
   "outputs": [
    {
     "name": "stdout",
     "output_type": "stream",
     "text": [
      "['cat2', 'cat1', 'cat1']\n"
     ]
    }
   ],
   "source": [
    "cat=['cat1', 'cat1', 'cat2']\n",
    "cat.reverse()\n",
    "print(cat)"
   ]
  },
  {
   "cell_type": "code",
   "execution_count": null,
   "id": "c7ad0fd1-b919-4e24-86e2-ed18d0966f6f",
   "metadata": {},
   "outputs": [],
   "source": []
  }
 ],
 "metadata": {
  "kernelspec": {
   "display_name": "Python 3 (ipykernel)",
   "language": "python",
   "name": "python3"
  },
  "language_info": {
   "codemirror_mode": {
    "name": "ipython",
    "version": 3
   },
   "file_extension": ".py",
   "mimetype": "text/x-python",
   "name": "python",
   "nbconvert_exporter": "python",
   "pygments_lexer": "ipython3",
   "version": "3.9.6"
  }
 },
 "nbformat": 4,
 "nbformat_minor": 5
}
