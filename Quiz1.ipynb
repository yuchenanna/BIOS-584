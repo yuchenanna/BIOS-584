{
 "cells": [
  {
   "cell_type": "markdown",
   "id": "6e8f7c75-2eb0-436a-9537-41f7df55f23e",
   "metadata": {},
   "source": [
    "yuchen gong"
   ]
  },
  {
   "cell_type": "code",
   "execution_count": 18,
   "id": "72c2351a-c4ab-496e-a341-935b654fbc83",
   "metadata": {},
   "outputs": [
    {
     "name": "stdout",
     "output_type": "stream",
     "text": [
      "['cat1', 'cat1', 'cat1', 'cat2']\n"
     ]
    }
   ],
   "source": [
    "list_name=['cat1','cat1','cat1']\n",
    "list_name.append('cat2')\n",
    "print(list_name)"
   ]
  },
  {
   "cell_type": "code",
   "execution_count": 19,
   "id": "cf45addf-0396-4ef2-b21c-2819245e0fa7",
   "metadata": {},
   "outputs": [
    {
     "name": "stdout",
     "output_type": "stream",
     "text": [
      "['cat1', 'cat1', 'cat1']\n"
     ]
    }
   ],
   "source": [
    "list_name.remove('cat2')\n",
    "print(list_name)"
   ]
  },
  {
   "cell_type": "code",
   "execution_count": 7,
   "id": "a56585b1-0fb1-45e4-a6d0-fcdafa9a989c",
   "metadata": {},
   "outputs": [
    {
     "name": "stdout",
     "output_type": "stream",
     "text": [
      "['cat1', 'cat1', 'cat1']\n"
     ]
    }
   ],
   "source": [
    "list_name.copy()\n",
    "print(list_name)"
   ]
  },
  {
   "cell_type": "code",
   "execution_count": 20,
   "id": "d20de80b-4879-4b36-8df2-e9c7f4c37f32",
   "metadata": {},
   "outputs": [
    {
     "name": "stdout",
     "output_type": "stream",
     "text": [
      "2\n"
     ]
    }
   ],
   "source": [
    "list_name_new=['cat1','cat1','cat2']\n",
    "print(list_name_new.count('cat1'))"
   ]
  },
  {
   "cell_type": "code",
   "execution_count": 11,
   "id": "2eedae7f-7417-4dc6-8e08-5fec3099bc06",
   "metadata": {},
   "outputs": [
    {
     "name": "stdout",
     "output_type": "stream",
     "text": [
      "2\n"
     ]
    }
   ],
   "source": [
    "print(list_name_new.index('cat2'))"
   ]
  },
  {
   "cell_type": "code",
   "execution_count": 21,
   "id": "64702d8b-40ba-4203-8128-b34d5f365364",
   "metadata": {},
   "outputs": [
    {
     "name": "stdout",
     "output_type": "stream",
     "text": [
      "['cat1', 'cat2', 'cat1', 'cat2']\n"
     ]
    }
   ],
   "source": [
    "list_name_new.insert(1,'cat2')\n",
    "print(list_name_new)"
   ]
  },
  {
   "cell_type": "code",
   "execution_count": 17,
   "id": "5b220fb9-19e6-43af-a536-575205f494ec",
   "metadata": {},
   "outputs": [
    {
     "data": {
      "text/plain": [
       "'cat2'"
      ]
     },
     "execution_count": 17,
     "metadata": {},
     "output_type": "execute_result"
    }
   ],
   "source": [
    "cat=['cat1','cat1','cat2']\n",
    "cat.pop(2)"
   ]
  },
  {
   "cell_type": "code",
   "execution_count": 23,
   "id": "bf6d23d4-5c13-4d9a-9375-38e2932ba406",
   "metadata": {},
   "outputs": [
    {
     "name": "stdout",
     "output_type": "stream",
     "text": [
      "['cat1', 'cat1']\n"
     ]
    }
   ],
   "source": [
    "cat=['cat1','cat1','cat2']\n",
    "cat.remove('cat2')\n",
    "print(cat)"
   ]
  },
  {
   "cell_type": "code",
   "execution_count": 25,
   "id": "0bc2e4c3-ca77-4c5c-8668-21359b7f1289",
   "metadata": {},
   "outputs": [
    {
     "name": "stdout",
     "output_type": "stream",
     "text": [
      "['cat2', 'cat1', 'cat1']\n"
     ]
    }
   ],
   "source": [
    "cat=['cat1','cat1','cat2']\n",
    "cat.reverse()\n",
    "print(cat)"
   ]
  },
  {
   "cell_type": "code",
   "execution_count": null,
   "id": "464ce45c-a04c-43d3-86ec-7d3781867e9c",
   "metadata": {},
   "outputs": [],
   "source": []
  }
 ],
 "metadata": {
  "kernelspec": {
   "display_name": "Python 3 (ipykernel)",
   "language": "python",
   "name": "python3"
  },
  "language_info": {
   "codemirror_mode": {
    "name": "ipython",
    "version": 3
   },
   "file_extension": ".py",
   "mimetype": "text/x-python",
   "name": "python",
   "nbconvert_exporter": "python",
   "pygments_lexer": "ipython3",
   "version": "3.9.6"
  }
 },
 "nbformat": 4,
 "nbformat_minor": 5
}
