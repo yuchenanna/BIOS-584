{
 "cells": [
  {
   "cell_type": "markdown",
   "id": "a2c3da7f-4059-4c0b-9350-475214bcd5f1",
   "metadata": {},
   "source": [
    "# Week-09: Tutorial on Pandas"
   ]
  },
  {
   "attachments": {},
   "cell_type": "markdown",
   "id": "aa253286-cc7b-4ef3-9fac-f50d9a3c8ceb",
   "metadata": {},
   "source": [
    "<font size='4'>\n",
    "\n",
    "This week, we start to revisit `pandas` in detail.\n",
    "\n",
    "Pandas is used for\n",
    "- Import datasets from databases, spreadsheets, comma-separated values (CSV) files, etc.\n",
    "- Clean datasets, i.e., handling missing values\n",
    "- Tidy datasets by reshaping the structure into a suitable format prior to analysis.\n",
    "- Aggregate data by calculating summary statistics.\n",
    "- Visualize datasets and uncover hidden patterns."
   ]
  },
  {
   "cell_type": "markdown",
   "id": "2d61f478-b3c5-415b-8546-f333cd85ebea",
   "metadata": {},
   "source": [
    "## 0. Import packages\n",
    "\n",
    "<font size='4'>\n",
    "\n",
    "You should be pretty familiar with importing packages."
   ]
  },
  {
   "cell_type": "code",
   "execution_count": 1,
   "id": "3e642381-2a5b-4017-8dfe-96d3f3b6aa8f",
   "metadata": {},
   "outputs": [],
   "source": [
    "# 0.1\n"
   ]
  },
  {
   "cell_type": "markdown",
   "id": "7cb6fe14-d82c-4869-8df1-d3efb104dec4",
   "metadata": {},
   "source": [
    "## 1. Import datasets/files to Pandas\n",
    "\n",
    "### 1.1. Import comma-separated values (CSV) file\n",
    "\n",
    "<font size='4'>\n",
    "    \n",
    "- Use `pd.read_csv()` with the path to the CSV file.\n",
    "- The resulting object is a pandas Dataframe object named `feature_df`.\n",
    "- https://pandas.pydata.org/docs/reference/api/pandas.read_csv.html"
   ]
  },
  {
   "cell_type": "code",
   "execution_count": 2,
   "id": "fe2d1125-b8c3-440b-b186-fcd298bcb9db",
   "metadata": {},
   "outputs": [],
   "source": [
    "# 1.1.1\n"
   ]
  },
  {
   "cell_type": "code",
   "execution_count": 3,
   "id": "0b661bc7-6a39-41d4-82d5-005af5bb1fc3",
   "metadata": {},
   "outputs": [],
   "source": [
    "# 1.1.2\n"
   ]
  },
  {
   "cell_type": "markdown",
   "id": "aa5b1790-8d7a-4574-b044-c3b97762b9cd",
   "metadata": {},
   "source": [
    "### 1.2. Import text files\n",
    "\n",
    "<font size='4'>\n",
    "\n",
    "- Reading text files is similar to CSV files.\n",
    "- You use `pd.read_csv()` function.\n",
    "- The only difference is that you need to specify a separator with the `sep` parameter (argument).\n",
    "- The separator argument refers to the symbol used to separate rows in a DataFrame.\n",
    "- Common separators include\n",
    "    - Comma (`sep=','`),\n",
    "    - Single whitespace (`sep='\\s'`),\n",
    "    - Multiple whitespace (`sep='\\s+'`),\n",
    "    - Tab (`sep='\\t'`),\n",
    "    - Colon (`sep=':'`) "
   ]
  },
  {
   "cell_type": "code",
   "execution_count": 4,
   "id": "b37e9921-a7b6-4796-9fe2-8b80f640b8b1",
   "metadata": {},
   "outputs": [],
   "source": [
    "# 1.2.1\n"
   ]
  },
  {
   "cell_type": "code",
   "execution_count": 5,
   "id": "97048366-1db0-4a26-aa71-0bff8b025bc2",
   "metadata": {},
   "outputs": [],
   "source": [
    "# 1.2.2\n"
   ]
  },
  {
   "cell_type": "code",
   "execution_count": 6,
   "id": "cf89eb95-50c3-42e3-ac79-fbb3d673664f",
   "metadata": {},
   "outputs": [],
   "source": [
    "# 1.2.3\n"
   ]
  },
  {
   "cell_type": "markdown",
   "id": "6fd219f0-6167-484a-a134-e24b424c0e52",
   "metadata": {},
   "source": [
    "### 1.3. Import Excel files (single sheet)\n",
    "\n",
    "<font size='4'>\n",
    "\n",
    "- For excel files (.xls and .xlsx), use `pd.read_excel()` function and fill in with the file path.\n",
    "- You can specify the `header`. It has a default value of `0`, which denotes the first row as headers or column names.\n",
    "- You can also specify column names as a list in the `names` argument.\n",
    "- The `index_col` (default is `None`) argument can be used if the file contains a row index.\n",
    "    - In a pd dataframe or series, the index is an identifier that points to the location of a row or column.\n",
    "    - You can access to a specific row or column by using its index.\n",
    "    - We will learn it more later."
   ]
  },
  {
   "cell_type": "code",
   "execution_count": 7,
   "id": "2bee8bd4-d113-49c2-9772-c898e86d3113",
   "metadata": {},
   "outputs": [],
   "source": [
    "# 1.3.1\n"
   ]
  },
  {
   "cell_type": "markdown",
   "id": "be0e6178-3991-4870-8c33-1a2bc4466a3d",
   "metadata": {},
   "source": [
    "### 1.4. Import Excel files (multiple sheets)\n",
    "\n",
    "<font size='4'>\n",
    "\n",
    "- As you may know, the `ptsd_df` above is an empty dataframe. That is because I manually created an empty one in the first tab.\n",
    "- To read the excel file with a particular tab name, simply specify the argument `sheet_name`. You can either pass the actual name (in a string) or an integer for the sheet position.\n",
    "- Note that the Python uses `0`-indexing."
   ]
  },
  {
   "cell_type": "code",
   "execution_count": 8,
   "id": "56c9562c-de59-4166-a389-531929d42023",
   "metadata": {},
   "outputs": [],
   "source": [
    "# 1.4.1\n"
   ]
  },
  {
   "cell_type": "code",
   "execution_count": 9,
   "id": "50783bd7-1309-42e0-ac45-485381ed2a8d",
   "metadata": {},
   "outputs": [],
   "source": [
    "# 1.4.2\n"
   ]
  },
  {
   "cell_type": "markdown",
   "id": "e7cb189c-974a-4130-a76d-f3bcbfc1a51c",
   "metadata": {},
   "source": [
    "### 1.5. Import JSON file\n",
    "\n",
    "<font size='4'>\n",
    "\n",
    "- Similar to .csv file, you use `pd.read_json()` function for JSON file.\n",
    "- A special trick to quickly identify the file directory using `*` and `glob.glob()` function."
   ]
  },
  {
   "cell_type": "code",
   "execution_count": 10,
   "id": "fa079bac-ae45-4c52-8caf-cd93e5e58bd8",
   "metadata": {},
   "outputs": [],
   "source": [
    "# 1.5.1\n"
   ]
  },
  {
   "cell_type": "markdown",
   "id": "4a9923b7-1fc2-48ca-a22a-bd9d4b0a33fa",
   "metadata": {},
   "source": [
    "## 2. Outputting data in pandas\n",
    "\n",
    "### 2.1. Outputting a DataFrame into a CSV file\n",
    "\n",
    "<font size='4'>\n",
    "\n",
    "- Suppose that we have created a dataframe `test_df` and we want to save it as a CSV file, we use `to_csv()` method.\n",
    "- The arguments include `path_or_buf` filename with path and `index`, where `index=True` implies including a separate column for the dataframe's index. It can also be `False` or `None`.\n",
    "- https://pandas.pydata.org/docs/reference/api/pandas.DataFrame.to_csv.html "
   ]
  },
  {
   "cell_type": "code",
   "execution_count": 11,
   "id": "ca384000-78d4-4db3-8d1a-31b754f7f2e1",
   "metadata": {},
   "outputs": [],
   "source": [
    "# 2.1.1\n"
   ]
  },
  {
   "cell_type": "markdown",
   "id": "33b46b92-6165-4da2-9a21-58e0a57d69b5",
   "metadata": {},
   "source": [
    "<font size='4'>\n",
    "\n",
    "- Open the APIs for `read_csv()` and `to_csv()` above.\n",
    "- A small distinction between `pd.read_csv()` and `pd.DataFrame.to_csv()` for their API references:\n",
    "- The first one (is a **function**) implies that it does not rely on an existing dataframe, while the second one (is a **method**) implies that it has to be called based on an existing dataframe.\n",
    "    - For our example, you import a new data file to your working environment, you simply write `xxx = pd.read_csv()`.\n",
    "    - You save your existing dataframe to a CSV file, you need to add `existing_df.to_csv()`."
   ]
  },
  {
   "cell_type": "markdown",
   "id": "23c12e3a-336a-400f-9714-1faef81a487a",
   "metadata": {},
   "source": [
    "### 2.2. Outputting a DataFrame into a text file\n",
    "\n",
    "<font size='4'>\n",
    "\n",
    "- Similar to CSV file, we use `to_csv()` method.\n",
    "- When saving the output file format in `.txt`, you specify a separator using the `sep` argument."
   ]
  },
  {
   "cell_type": "code",
   "execution_count": 12,
   "id": "ff59b5af-af0c-4f67-b0ed-fe79191dc434",
   "metadata": {},
   "outputs": [],
   "source": [
    "# 2.2.1\n"
   ]
  },
  {
   "cell_type": "markdown",
   "id": "adf4e7cf-800c-4087-9a5c-bd55492423fb",
   "metadata": {},
   "source": [
    "### 2.3. Outputting a DataFrame into a Excel file\n",
    "\n",
    "<font size='4'>\n",
    "\n",
    "- Similar to a `.xls` or `.xlsx` file, we use `to_excel()` method."
   ]
  },
  {
   "cell_type": "code",
   "execution_count": 13,
   "id": "22a95874-dd06-4b26-8aa2-087860c463ca",
   "metadata": {},
   "outputs": [],
   "source": [
    "# 2.3.1\n"
   ]
  },
  {
   "cell_type": "markdown",
   "id": "c8a591dc-67d5-44ce-9686-ce76a58054bd",
   "metadata": {},
   "source": [
    "### 2.4. Outputting a DataFrame into a JSON file\n",
    "\n",
    "<font size='4'>\n",
    "\n",
    "- Similar to a `.json` file, we use `to_json()` method."
   ]
  },
  {
   "cell_type": "code",
   "execution_count": 14,
   "id": "2f1b3770-f105-4648-8d5c-df640ce81a9b",
   "metadata": {},
   "outputs": [],
   "source": [
    "# 2.4.1\n"
   ]
  },
  {
   "cell_type": "markdown",
   "id": "9cc5e7e6-963b-46e2-bf5f-c5894c338dec",
   "metadata": {},
   "source": [
    "## 3. View and Understand DataFrames using Pandas\n",
    "\n",
    "### 3.1. Head and Tail Methods\n",
    "<font size='4'>\n",
    "\n",
    "- Similar to functions in R, you can view the first few or last few rows of a DataFrame using the `.head()` or `.tail()` methods, respectively.\n",
    "- You specify the number of rows through `n` argument (default value is 5)."
   ]
  },
  {
   "cell_type": "code",
   "execution_count": 15,
   "id": "bf74740d-1d4e-446b-8d88-9dcfb2072680",
   "metadata": {},
   "outputs": [],
   "source": [
    "# 3.1.1\n"
   ]
  },
  {
   "cell_type": "code",
   "execution_count": 16,
   "id": "392e84e0-c70a-4907-b85e-dcd146562f04",
   "metadata": {},
   "outputs": [],
   "source": [
    "# 3.1.2\n"
   ]
  },
  {
   "cell_type": "markdown",
   "id": "1f298d29-b09e-4855-b5a3-b63659ece0a7",
   "metadata": {},
   "source": [
    "### 3.2. Describe Method\n",
    "\n",
    "<font size='4'>\n",
    "\n",
    "- The `.describe()` method prints the summary statistics of all numeric columns, such as count, mean, std, range, and IQR.\n",
    "- It gives a quick look at the scale, skew, and range of numeric data."
   ]
  },
  {
   "cell_type": "code",
   "execution_count": 17,
   "id": "0fef0634-b423-4510-b49c-896f926434b3",
   "metadata": {},
   "outputs": [],
   "source": [
    "# 3.2.1\n"
   ]
  },
  {
   "cell_type": "markdown",
   "id": "6cbff80e-bf81-442f-ac27-93c68711075c",
   "metadata": {},
   "source": [
    "<font size='4'>\n",
    "\n",
    "- You can modify the quartiles using `percentiles` argument. The input argument takes a list of values between 0 and 1."
   ]
  },
  {
   "cell_type": "code",
   "execution_count": 18,
   "id": "99b8d752-2196-4034-8987-688b2ff01664",
   "metadata": {},
   "outputs": [],
   "source": [
    "# 3.2.2\n"
   ]
  },
  {
   "cell_type": "markdown",
   "id": "6b18ddb2-1f00-4f0e-b938-92f4a4e1e480",
   "metadata": {},
   "source": [
    "<font size='4'>\n",
    "\n",
    "- You can inlcude or exclude specific data types in the summary output."
   ]
  },
  {
   "cell_type": "code",
   "execution_count": 19,
   "id": "726fa93e-609d-4a7e-9a7d-cb5797865f38",
   "metadata": {},
   "outputs": [],
   "source": [
    "# 3.2.3\n"
   ]
  },
  {
   "cell_type": "code",
   "execution_count": 20,
   "id": "07f3d23d-01c6-4fd4-9fb2-4936f21b590b",
   "metadata": {},
   "outputs": [],
   "source": [
    "# 3.2.4\n"
   ]
  },
  {
   "cell_type": "markdown",
   "id": "e762b76e-a793-4762-8626-2f165c6613ce",
   "metadata": {},
   "source": [
    "<font size='4'>\n",
    "    \n",
    "- Pandas Cheatsheet for data wrangling in Python: \n",
    "- https://www.datacamp.com/cheat-sheet/pandas-cheat-sheet-data-wrangling-in-python"
   ]
  },
  {
   "cell_type": "markdown",
   "id": "97ed8bc3-6b28-4d0c-bee6-eee74b8a4f4f",
   "metadata": {},
   "source": [
    "### 3.3. Info Method\n",
    "\n",
    "<font size='4'>\n",
    "\n",
    "- The `.info()` method: A quick way to look at data types, missing values, and data size of a DataFrame.\n",
    "- Some frequently used parameters: `show_counts`, `memory_usage`, and `verbose`."
   ]
  },
  {
   "cell_type": "code",
   "execution_count": 21,
   "id": "2425d6ab-19bb-4807-b2e1-3996e0fefd39",
   "metadata": {},
   "outputs": [],
   "source": [
    "# 3.3.1\n"
   ]
  },
  {
   "cell_type": "markdown",
   "id": "cae0836c-9597-415c-94ff-e8422b3a94f2",
   "metadata": {},
   "source": [
    "### 3.4. Shape Attribute\n",
    "<font size='4'>\n",
    "    \n",
    "- The number of rows and columns of a DataFrame can be determined using the `.shape` attribute.\n",
    "- An attribute is a feature or property of a specific python object. It does not have `()` because it is fixed once the object is specified.\n",
    "- It returns a tuple (row, column) and can be indexed to only obtain rows, and only columns as output."
   ]
  },
  {
   "cell_type": "code",
   "execution_count": 22,
   "id": "bf1e7134-3869-4b96-8e56-8f30778a70bb",
   "metadata": {},
   "outputs": [],
   "source": [
    "# 3.4.1\n"
   ]
  },
  {
   "cell_type": "code",
   "execution_count": 23,
   "id": "0a2b97be-85d3-4ee1-aebd-983a31fa6367",
   "metadata": {},
   "outputs": [],
   "source": [
    "# 3.4.2\n"
   ]
  },
  {
   "cell_type": "code",
   "execution_count": 24,
   "id": "97631a69-d452-45a9-96db-9aa9401b5ebc",
   "metadata": {},
   "outputs": [],
   "source": [
    "# 3.4.3\n"
   ]
  },
  {
   "cell_type": "code",
   "execution_count": 25,
   "id": "6b0a9a8c-5ab2-4552-85d6-13d77a05fa28",
   "metadata": {},
   "outputs": [],
   "source": [
    "# 3.4.4\n"
   ]
  },
  {
   "cell_type": "code",
   "execution_count": 26,
   "id": "bb579a95-1b7e-4145-902e-f0e97e2c7af6",
   "metadata": {},
   "outputs": [],
   "source": [
    "# 3.4.5\n"
   ]
  },
  {
   "cell_type": "markdown",
   "id": "064b3a60-1dbe-402e-b5b2-78e0822286af",
   "metadata": {},
   "source": [
    "### 3.5. Get all columns and their column names\n",
    "\n",
    "<font size='4'>\n",
    "\n",
    "- The `.columns` attribute of a DataFrame object returns the column names in the form of an `Index` object.\n",
    "- A pandas index is the address/label of the row or column.\n",
    "- You previously converted it to a list using a `list()` function.\n"
   ]
  },
  {
   "cell_type": "code",
   "execution_count": 27,
   "id": "cfe9998c-939b-4130-bf7a-726c1c9d45a0",
   "metadata": {},
   "outputs": [],
   "source": [
    "# 3.5.1\n"
   ]
  },
  {
   "cell_type": "markdown",
   "id": "9fe93eea-c439-4116-abd2-0ad3bc69730d",
   "metadata": {},
   "source": [
    "### 3.6. Check for missing values\n",
    "\n",
    "<font size='4'>\n",
    "\n",
    "- The `.copy()` method makes a copy of the original DataFrame.\n",
    "- This is done to ensure that any changes to the copy do not reflect in the original DataFrame.\n",
    "- Using `.loc`, you can modify the values with given rows and column names, i.e., `NaN`. (`NaN` denotes missing values.)"
   ]
  },
  {
   "cell_type": "code",
   "execution_count": 28,
   "id": "48853534-912c-4404-b890-ddce9aaf4e69",
   "metadata": {},
   "outputs": [],
   "source": [
    "# 3.6.1\n"
   ]
  },
  {
   "cell_type": "markdown",
   "id": "4e1d19b6-dcb2-4f2f-889a-bdf18cf08c03",
   "metadata": {},
   "source": [
    "<font size='4'>\n",
    "\n",
    "- You can check whether each element in a DataFrame is missing using `.isnull()` method.\n",
    "- You can combine `.isnull()` and `.sum()` to count the number of nulls in each column."
   ]
  },
  {
   "cell_type": "code",
   "execution_count": 29,
   "id": "1164380a-646c-4b67-b604-34c2cb93d58b",
   "metadata": {},
   "outputs": [],
   "source": [
    "# 3.6.2\n"
   ]
  },
  {
   "cell_type": "code",
   "execution_count": 30,
   "id": "9a072056-5ce2-4401-97c7-73ef81b3386b",
   "metadata": {},
   "outputs": [],
   "source": [
    "# 3.6.3\n"
   ]
  },
  {
   "cell_type": "code",
   "execution_count": 31,
   "id": "8a921b7d-2d96-4fbe-be8c-3203bbcd1a05",
   "metadata": {},
   "outputs": [],
   "source": [
    "# 3.6.4\n"
   ]
  },
  {
   "cell_type": "markdown",
   "id": "064e0140-56f4-4fee-be34-cab500691a01",
   "metadata": {},
   "source": [
    "## 4. Sorting, Slicing, and Extracting Data in pandas\n",
    "\n",
    "### 4.1. Sorting\n",
    "\n",
    "<font size='4'>\n",
    "\n",
    "- To sort a DataFrame by a specific column, use `.sort_values()` method.\n",
    "- `inplace` argument refers to performing an operation \"in-place\" means modifying the original data structure or object directly, without creating a separate copy of it."
   ]
  },
  {
   "cell_type": "code",
   "execution_count": 32,
   "id": "1828e0a5-c8e1-4404-8fce-42bea55e4a89",
   "metadata": {},
   "outputs": [],
   "source": [
    "# 4.1.1\n"
   ]
  },
  {
   "cell_type": "code",
   "execution_count": 33,
   "id": "33cac621-217a-4d64-9b5d-e0a794a2c648",
   "metadata": {},
   "outputs": [],
   "source": [
    "# 4.1.2\n"
   ]
  },
  {
   "cell_type": "markdown",
   "id": "03df9636-d4a8-467e-afbe-63aadf872ee5",
   "metadata": {},
   "source": [
    "### 4.2. Resetting the index\n",
    "\n",
    "<font size='4'>\n",
    "\n",
    "- If you filter or sort a DataFrame, your index might become misaligned. Use `.reset_index()` to fix this."
   ]
  },
  {
   "cell_type": "code",
   "execution_count": 34,
   "id": "71563779-7376-492b-b0eb-c7b0feb16e90",
   "metadata": {},
   "outputs": [],
   "source": [
    "# 4.2.1\n"
   ]
  },
  {
   "cell_type": "markdown",
   "id": "674ef17d-a9a0-4b44-b8ca-013b53809177",
   "metadata": {},
   "source": [
    "### 4.3. Filtering data using conditions\n",
    "\n",
    "<font size='4'>\n",
    "\n",
    "- Use `[]` to specify conditions"
   ]
  },
  {
   "cell_type": "code",
   "execution_count": 35,
   "id": "20dcf9c9-44ae-48cd-955a-dc6ba66dafb0",
   "metadata": {},
   "outputs": [],
   "source": [
    "# 4.3.1\n"
   ]
  },
  {
   "cell_type": "markdown",
   "id": "d038414d-ff35-42de-980c-a4e5fd44fc32",
   "metadata": {},
   "source": [
    "### 4.4. Isolating one column using `[ ]`\n",
    "<font size='4'>\n",
    "\n",
    "- You can isolate a single column using a square bracket `[]` with a column name in it.\n",
    "- The output is a pandas `Series` object.\n",
    "- A pandas Series is a one-dimensional array containing data of any type, including integer, float, string, boolean, python objects, etc.\n",
    "- A DataFrame is comprised of many series that act as columns."
   ]
  },
  {
   "cell_type": "code",
   "execution_count": 36,
   "id": "b2c5e151-cb2c-4a9e-a332-3c72317a3f26",
   "metadata": {},
   "outputs": [],
   "source": [
    "# 4.4.1\n"
   ]
  },
  {
   "cell_type": "markdown",
   "id": "49fd9e74-36a9-43b1-ac54-7da4d24ad1ef",
   "metadata": {},
   "source": [
    "### 4.5. Isolating one column using `[[ ]]`\n",
    "\n",
    "<font size='4'>\n",
    "\n",
    "- Isolating two or more columns using `[[ ]]`\n",
    "- You can provide a `list` of columns inside the square brackets to fetch more than one column.\n",
    "- Here, square brackets had two functions:\n",
    "- The outer square brackets indicate a subset of a DataFrame.\n",
    "- The inner suqare brackets is to create a list."
   ]
  },
  {
   "cell_type": "code",
   "execution_count": 37,
   "id": "7d847d90-3158-4dd6-b077-363ec6bbc721",
   "metadata": {},
   "outputs": [],
   "source": [
    "# 4.5.1\n"
   ]
  },
  {
   "cell_type": "markdown",
   "id": "c1c26328-7b6f-41f4-81a4-398f574b89fc",
   "metadata": {},
   "source": [
    "### 4.6. Isolating one row using `[ ]`\n",
    "\n",
    "<font size='4'>\n",
    "\n",
    "- We have talked about subsetting columns. What about subsetting rows?\n",
    "- A single row can be fetched by passing in a boolean series with one `True` value.\n",
    "- For example, let's select the second row `index=1`."
   ]
  },
  {
   "cell_type": "code",
   "execution_count": 38,
   "id": "33890b16-757c-4efb-81a0-1fe20f480180",
   "metadata": {},
   "outputs": [],
   "source": [
    "# 4.6.1\n"
   ]
  },
  {
   "cell_type": "markdown",
   "id": "85a194a9-2e06-40da-935e-6e31e33abe0c",
   "metadata": {},
   "source": [
    "### 4.7. Isolating two or more rows using `[ ]`\n",
    "\n",
    "<font size='4'>\n",
    "\n",
    "- Similarly, we use `[ ]` to isolate two or more rows and `.isin()` method instead of `==` operator."
   ]
  },
  {
   "cell_type": "code",
   "execution_count": 39,
   "id": "1b40c113-2e4f-4b23-bf41-3a4d9f3138f4",
   "metadata": {},
   "outputs": [],
   "source": [
    "# 4.7.1\n",
    "\n",
    "# Notice that range(2, 10) has lower inclusive but upper exclusive."
   ]
  },
  {
   "cell_type": "markdown",
   "id": "390389cd-a852-49aa-9d87-829ee122e277",
   "metadata": {},
   "source": [
    "### 4.8. Use `.loc[]` and `.iloc[]`\n",
    "\n",
    "<font size='4'>\n",
    "\n",
    "- Use `.loc[]` and `.iloc[]` to fetch rows\n",
    "- `.loc[]` uses a label to point to a row, column, or cell\n",
    "- `.iloc[]` uses the numeric position."
   ]
  },
  {
   "cell_type": "code",
   "execution_count": 40,
   "id": "6800907e-d8d7-49ac-9150-98256edcb183",
   "metadata": {},
   "outputs": [],
   "source": [
    "# 4.8.1\n"
   ]
  },
  {
   "cell_type": "code",
   "execution_count": 41,
   "id": "4535afc4-aa99-408b-93f1-7d00d74a9e26",
   "metadata": {},
   "outputs": [],
   "source": [
    "# 4.8.2\n"
   ]
  },
  {
   "cell_type": "code",
   "execution_count": 42,
   "id": "ffc8a7a8-aa90-454c-bd91-e226a2ee9b80",
   "metadata": {},
   "outputs": [],
   "source": [
    "# 4.8.3\n"
   ]
  },
  {
   "cell_type": "code",
   "execution_count": 43,
   "id": "eccd67b7-0625-4396-8d6d-09974d249495",
   "metadata": {},
   "outputs": [],
   "source": [
    "# 4.8.4\n",
    "\n",
    "# it returns a Series object"
   ]
  },
  {
   "cell_type": "code",
   "execution_count": 44,
   "id": "82aed3e5-d099-4383-870e-28bc1680bfc1",
   "metadata": {},
   "outputs": [],
   "source": [
    "# 4.8.5\n",
    "\n",
    "# always start from 0, its absolute numeric index."
   ]
  },
  {
   "cell_type": "code",
   "execution_count": 45,
   "id": "fbe5e6ef-7097-4921-a34d-897373a8e7c0",
   "metadata": {},
   "outputs": [],
   "source": [
    "# 4.8.6\n"
   ]
  },
  {
   "cell_type": "code",
   "execution_count": 46,
   "id": "c87657e1-a6bb-4b3b-85de-354a739decb7",
   "metadata": {},
   "outputs": [],
   "source": [
    "# 4.8.7\n"
   ]
  },
  {
   "cell_type": "markdown",
   "id": "7fa9ad46-7c90-456d-ac46-24d85b9caf50",
   "metadata": {},
   "source": [
    "<font size='4'>\n",
    "\n",
    "- You can subset using a list instead of a range."
   ]
  },
  {
   "cell_type": "code",
   "execution_count": 47,
   "id": "7dbcb129-cae3-42bd-9ede-88ecf1277ea0",
   "metadata": {},
   "outputs": [],
   "source": [
    "# 4.8.8\n"
   ]
  },
  {
   "cell_type": "code",
   "execution_count": 48,
   "id": "b8070947-bdaf-4e19-88fb-043defb6d74f",
   "metadata": {},
   "outputs": [],
   "source": [
    "# 4.8.9\n"
   ]
  },
  {
   "cell_type": "markdown",
   "id": "32bd5741-28bd-4bad-97e6-a6632560bae5",
   "metadata": {},
   "source": [
    "<font size='4'>\n",
    "\n",
    "- You can also select specific columns along with rows.\n",
    "- `loc[]` requires all labels, while `iloc[]` requires all numbers to index the locations.\n",
    "    - You can use either list or numpy array. For numpy array, make sure they are all integers."
   ]
  },
  {
   "cell_type": "code",
   "execution_count": 49,
   "id": "3bfad1ad-6f5a-4efe-a926-ab1c8a642726",
   "metadata": {},
   "outputs": [],
   "source": [
    "# 4.8.10\n"
   ]
  },
  {
   "cell_type": "code",
   "execution_count": 50,
   "id": "40eb938b-c028-46cb-843a-56bf80647570",
   "metadata": {},
   "outputs": [],
   "source": [
    "# 4.8.11\n"
   ]
  },
  {
   "cell_type": "code",
   "execution_count": 51,
   "id": "47e9cfe9-eac2-4523-af3e-86625cff246d",
   "metadata": {},
   "outputs": [],
   "source": [
    "# 4.8.12\n"
   ]
  },
  {
   "cell_type": "markdown",
   "id": "f4d6d1d5-1125-465e-9f41-e0995e64a9e4",
   "metadata": {},
   "source": [
    "<font size='4'>\n",
    "\n",
    "- You can update/modify certain values by using the assignment opertaor `=`."
   ]
  },
  {
   "cell_type": "code",
   "execution_count": 52,
   "id": "51b949ab-9b5d-47aa-8a53-699ee0ebd2af",
   "metadata": {},
   "outputs": [],
   "source": [
    "# 4.8.13\n",
    "\n",
    "# We want to change the third mpg from NaN to 16.0."
   ]
  },
  {
   "cell_type": "code",
   "execution_count": 53,
   "id": "5441c14e-04bd-48b1-9876-64726b97fbd6",
   "metadata": {},
   "outputs": [],
   "source": [
    "# 4.8.14\n"
   ]
  },
  {
   "cell_type": "code",
   "execution_count": 54,
   "id": "60382a1a-84bf-429b-ae25-5ae223145192",
   "metadata": {},
   "outputs": [],
   "source": [
    "# 4.8.15\n"
   ]
  },
  {
   "cell_type": "code",
   "execution_count": 55,
   "id": "7e5b6f02-52d5-4685-b963-b25fd728b589",
   "metadata": {},
   "outputs": [],
   "source": [
    "# 4.8.16\n",
    "# Or we can use iloc[], make sure all inputs are integers (starting from 0).\n"
   ]
  },
  {
   "cell_type": "markdown",
   "id": "0986205d-d3e3-41d0-80b9-0a7f91c04c5e",
   "metadata": {},
   "source": [
    "### 4.9. Conditional slicing\n",
    "\n",
    "<font size='4'>\n",
    "\n",
    "- For example, we want to find the rows where **cylinders** are 6.\n",
    "- We isolate rows using the square bractes `[]` and use equal operator `==` to identify cylinders are 6."
   ]
  },
  {
   "cell_type": "code",
   "execution_count": 56,
   "id": "b4fb1654-4a35-4aba-a73c-2439f05573b1",
   "metadata": {},
   "outputs": [],
   "source": [
    "# 4.9.1\n"
   ]
  },
  {
   "cell_type": "code",
   "execution_count": 57,
   "id": "309fb7aa-eba1-48c8-a9b1-9404777f3701",
   "metadata": {},
   "outputs": [],
   "source": [
    "# 4.9.2\n"
   ]
  },
  {
   "cell_type": "markdown",
   "id": "2b244f03-f3ac-4f31-ab9f-8b6ae7805429",
   "metadata": {},
   "source": [
    "## 5. Debugging in PyCharm\n",
    "\n",
    "<font size='4'>\n",
    "\n",
    "https://www.jetbrains.com/help/pycharm/debugging-your-first-python-application.html#summary "
   ]
  }
 ],
 "metadata": {
  "kernelspec": {
   "display_name": "Python 3 (ipykernel)",
   "language": "python",
   "name": "python3"
  },
  "language_info": {
   "codemirror_mode": {
    "name": "ipython",
    "version": 3
   },
   "file_extension": ".py",
   "mimetype": "text/x-python",
   "name": "python",
   "nbconvert_exporter": "python",
   "pygments_lexer": "ipython3",
   "version": "3.11.4"
  }
 },
 "nbformat": 4,
 "nbformat_minor": 5
}
