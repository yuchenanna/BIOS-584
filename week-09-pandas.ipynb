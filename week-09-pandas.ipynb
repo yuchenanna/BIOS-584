{
 "cells": [
  {
   "cell_type": "markdown",
   "id": "a2c3da7f-4059-4c0b-9350-475214bcd5f1",
   "metadata": {},
   "source": [
    "# Week-09: Tutorial on Pandas"
   ]
  },
  {
   "attachments": {},
   "cell_type": "markdown",
   "id": "aa253286-cc7b-4ef3-9fac-f50d9a3c8ceb",
   "metadata": {},
   "source": [
    "<font size='4'>\n",
    "\n",
    "This week, we start to revisit `pandas` in detail.\n",
    "\n",
    "Pandas is used for\n",
    "- Import datasets from databases, spreadsheets, comma-separated values (CSV) files, etc.\n",
    "- Clean datasets, i.e., handling missing values\n",
    "- Tidy datasets by reshaping the structure into a suitable format prior to analysis.\n",
    "- Aggregate data by calculating summary statistics.\n",
    "- Visualize datasets and uncover hidden patterns."
   ]
  },
  {
   "cell_type": "markdown",
   "id": "2d61f478-b3c5-415b-8546-f333cd85ebea",
   "metadata": {},
   "source": [
    "## 0. Import packages\n",
    "\n",
    "<font size='4'>\n",
    "\n",
    "You should be pretty familiar with importing packages."
   ]
  },
  {
   "cell_type": "code",
   "execution_count": 2,
   "id": "3e642381-2a5b-4017-8dfe-96d3f3b6aa8f",
   "metadata": {},
   "outputs": [],
   "source": [
    "# 0.1\n",
    "import os\n",
    "import glob\n",
    "import numpy as np\n",
    "import pandas as pd"
   ]
  },
  {
   "cell_type": "markdown",
   "id": "7cb6fe14-d82c-4869-8df1-d3efb104dec4",
   "metadata": {},
   "source": [
    "## 1. Import datasets/files to Pandas\n",
    "\n",
    "### 1.1. Import comma-separated values (CSV) file\n",
    "\n",
    "<font size='4'>\n",
    "    \n",
    "- Use `pd.read_csv()` with the path to the CSV file.\n",
    "- The resulting object is a pandas Dataframe object named `feature_df`.\n",
    "- https://pandas.pydata.org/docs/reference/api/pandas.read_csv.html"
   ]
  },
  {
   "cell_type": "code",
   "execution_count": 3,
   "id": "fe2d1125-b8c3-440b-b186-fcd298bcb9db",
   "metadata": {},
   "outputs": [
    {
     "name": "stdout",
     "output_type": "stream",
     "text": [
      "/Users/tma33/Library/CloudStorage/OneDrive-EmoryUniversity/Emory/Rollins SPH/2025/BIOS-584/python_proj\n"
     ]
    }
   ],
   "source": [
    "# 1.1.1\n",
    "print(os.getcwd())"
   ]
  },
  {
   "cell_type": "code",
   "execution_count": 4,
   "id": "0b661bc7-6a39-41d4-82d5-005af5bb1fc3",
   "metadata": {},
   "outputs": [
    {
     "name": "stdout",
     "output_type": "stream",
     "text": [
      "<class 'pandas.core.frame.DataFrame'>\n",
      "      mpg  cylinders  displacement horsepower  weight  acceleration vehicle id\n",
      "0    18.0          8           307        130    3504          12.0  C-1689780\n",
      "1    15.0          8           350        165    3693          11.5  B-1689791\n",
      "2    18.0          8           318        150    3436          11.0  P-1689802\n",
      "3    16.0          8           304        150    3433          12.0  A-1689813\n",
      "4    17.0          8           302        140    3449          10.5  F-1689824\n",
      "..    ...        ...           ...        ...     ...           ...        ...\n",
      "393  27.0          4           140         86    2790          15.6  F-1694103\n",
      "394  44.0          4            97         52    2130          24.6  V-1694114\n",
      "395  32.0          4           135         84    2295          11.6  D-1694125\n",
      "396  28.0          4           120         79    2625          18.6  F-1694136\n",
      "397  31.0          4           119         82    2720          19.4  C-1694147\n",
      "\n",
      "[398 rows x 7 columns]\n"
     ]
    }
   ],
   "source": [
    "# 1.1.2\n",
    "feature_dir = '{}/data/features.csv'.format(os.getcwd())\n",
    "feature_df = pd.read_csv(feature_dir)\n",
    "print(type(feature_df))\n",
    "print(feature_df)"
   ]
  },
  {
   "cell_type": "markdown",
   "id": "aa5b1790-8d7a-4574-b044-c3b97762b9cd",
   "metadata": {},
   "source": [
    "### 1.2. Import text files\n",
    "\n",
    "<font size='4'>\n",
    "\n",
    "- Reading text files is similar to CSV files.\n",
    "- You use `pd.read_csv()` function.\n",
    "- The only difference is that you need to specify a separator with the `sep` parameter (argument).\n",
    "- The separator argument refers to the symbol used to separate rows in a DataFrame.\n",
    "- Common separators include\n",
    "    - Comma (`sep=','`),\n",
    "    - Single whitespace (`sep='\\s'`),\n",
    "    - Multiple whitespace (`sep='\\s+'`),\n",
    "    - Tab (`sep='\\t'`),\n",
    "    - Colon (`sep=':'`) "
   ]
  },
  {
   "cell_type": "code",
   "execution_count": 5,
   "id": "b37e9921-a7b6-4796-9fe2-8b80f640b8b1",
   "metadata": {},
   "outputs": [
    {
     "name": "stdout",
     "output_type": "stream",
     "text": [
      "   Value1  Value2  Value3\n",
      "0  0.4839  0.4536  0.3561\n",
      "1  0.1292  0.6875 -9.0000\n",
      "2  0.1781  0.3049  0.8928\n",
      "3 -9.0000  0.5801  0.2038\n",
      "4  0.5993  0.4357  0.7410\n"
     ]
    },
    {
     "name": "stderr",
     "output_type": "stream",
     "text": [
      "/var/folders/px/3t9pwsbd4sqchzgzl4b75th00000gq/T/ipykernel_8923/1119222367.py:3: ParserWarning: Falling back to the 'python' engine because the 'c' engine does not support regex separators (separators > 1 char and different from '\\s+' are interpreted as regex); you can avoid this warning by specifying engine='python'.\n",
      "  arr_space_df = pd.read_csv(arr_space_dir, sep='\\s')\n"
     ]
    }
   ],
   "source": [
    "# 1.2.1\n",
    "arr_space_dir = '{}/data/my_arr2_delimiter_space.txt'.format(os.getcwd())\n",
    "arr_space_df = pd.read_csv(arr_space_dir, sep='\\s')\n",
    "print(arr_space_df)"
   ]
  },
  {
   "cell_type": "code",
   "execution_count": 6,
   "id": "97048366-1db0-4a26-aa71-0bff8b025bc2",
   "metadata": {},
   "outputs": [
    {
     "name": "stdout",
     "output_type": "stream",
     "text": [
      "   Value1  Value2  Value3\n",
      "0  0.4839  0.4536  0.3561\n",
      "1  0.1292  0.6875 -9.0000\n",
      "2  0.1781  0.3049  0.8928\n",
      "3 -9.0000  0.5801  0.2038\n",
      "4  0.5993  0.4357  0.7410\n"
     ]
    }
   ],
   "source": [
    "# 1.2.2\n",
    "arr_space_dir = '{}/data/my_arr2_delimiter_space.txt'.format(os.getcwd())\n",
    "arr_space_df = pd.read_csv(arr_space_dir, sep='\\s+')\n",
    "print(arr_space_df)"
   ]
  },
  {
   "cell_type": "code",
   "execution_count": 7,
   "id": "cf89eb95-50c3-42e3-ac79-fbb3d673664f",
   "metadata": {},
   "outputs": [
    {
     "name": "stdout",
     "output_type": "stream",
     "text": [
      "   Value1  Value2  Value3\n",
      "0  0.4839  0.4536  0.3561\n",
      "1  0.1292  0.6875 -9.0000\n",
      "2  0.1781  0.3049  0.8928\n",
      "3 -9.0000  0.5801  0.2038\n",
      "4  0.5993  0.4357  0.7410\n"
     ]
    }
   ],
   "source": [
    "# 1.2.3\n",
    "arr_comma_dir = '{}/data/my_arr2_delimiter_comma.txt'.format(os.getcwd())\n",
    "arr_comma_df = pd.read_csv(arr_comma_dir, sep=',')\n",
    "print(arr_comma_df)"
   ]
  },
  {
   "cell_type": "markdown",
   "id": "6fd219f0-6167-484a-a134-e24b424c0e52",
   "metadata": {},
   "source": [
    "### 1.3. Import Excel files (single sheet)\n",
    "\n",
    "<font size='4'>\n",
    "\n",
    "- For excel files (.xls and .xlsx), use `pd.read_excel()` function and fill in with the file path.\n",
    "- You can specify the `header`. It has a default value of `0`, which denotes the first row as headers or column names.\n",
    "- You can also specify column names as a list in the `names` argument.\n",
    "- The `index_col` (default is `None`) argument can be used if the file contains a row index.\n",
    "    - In a pd dataframe or series, the index is an identifier that points to the location of a row or column.\n",
    "    - You can access to a specific row or column by using its index.\n",
    "    - We will learn it more later."
   ]
  },
  {
   "cell_type": "code",
   "execution_count": 8,
   "id": "2bee8bd4-d113-49c2-9772-c898e86d3113",
   "metadata": {},
   "outputs": [
    {
     "name": "stdout",
     "output_type": "stream",
     "text": [
      "Empty DataFrame\n",
      "Columns: []\n",
      "Index: []\n"
     ]
    }
   ],
   "source": [
    "# 1.3.1\n",
    "ptsd_dir = '{}/data/PTSD dataset.xlsx'.format(os.getcwd())\n",
    "ptsd_df = pd.read_excel(ptsd_dir)\n",
    "print(ptsd_df)"
   ]
  },
  {
   "cell_type": "markdown",
   "id": "be0e6178-3991-4870-8c33-1a2bc4466a3d",
   "metadata": {},
   "source": [
    "### 1.4. Import Excel files (multiple sheets)\n",
    "\n",
    "<font size='4'>\n",
    "\n",
    "- As you may know, the `ptsd_df` above is an empty dataframe. That is because I manually created an empty one in the first tab.\n",
    "- To read the excel file with a particular tab name, simply specify the argument `sheet_name`. You can either pass the actual name (in a string) or an integer for the sheet position.\n",
    "- Note that the Python uses `0`-indexing."
   ]
  },
  {
   "cell_type": "code",
   "execution_count": 9,
   "id": "56c9562c-de59-4166-a389-531929d42023",
   "metadata": {},
   "outputs": [],
   "source": [
    "# 1.4.1\n",
    "ptsd_dir = '{}/data/PTSD dataset.xlsx'.format(os.getcwd())\n",
    "ptsd_df = pd.read_excel(ptsd_dir, sheet_name='main_dataset')\n",
    "# print(ptsd_df)"
   ]
  },
  {
   "cell_type": "code",
   "execution_count": 10,
   "id": "50783bd7-1309-42e0-ac45-485381ed2a8d",
   "metadata": {},
   "outputs": [
    {
     "name": "stdout",
     "output_type": "stream",
     "text": [
      "Or\n"
     ]
    }
   ],
   "source": [
    "# 1.4.2\n",
    "print('Or')\n",
    "ptsd_df = pd.read_excel(ptsd_dir, sheet_name=1) # remember that python's index starts from 0.\n",
    "# print(ptsd_df)"
   ]
  },
  {
   "cell_type": "markdown",
   "id": "e7cb189c-974a-4130-a76d-f3bcbfc1a51c",
   "metadata": {},
   "source": [
    "### 1.5. Import JSON file\n",
    "\n",
    "<font size='4'>\n",
    "\n",
    "- Similar to .csv file, you use `pd.read_json()` function for JSON file.\n",
    "- A special trick to quickly identify the file directory using `*` and `glob.glob()` function."
   ]
  },
  {
   "cell_type": "code",
   "execution_count": 11,
   "id": "fa079bac-ae45-4c52-8caf-cd93e5e58bd8",
   "metadata": {},
   "outputs": [
    {
     "name": "stdout",
     "output_type": "stream",
     "text": [
      "/Users/tma33/Library/CloudStorage/OneDrive-EmoryUniversity/Emory/Rollins SPH/2025/BIOS-584/python_proj/data/swLDA*\n",
      "['/Users/tma33/Library/CloudStorage/OneDrive-EmoryUniversity/Emory/Rollins SPH/2025/BIOS-584/python_proj/data/swLDA_predict_BCI_001_TRN_test_seq_size_1_threshold_0.5.json']\n",
      "Index(['NewOnly', 'Strict'], dtype='object')\n",
      "\n",
      "letter    [[Z, T, T, T, T, T, T], [H, H, H, H, H, H, H],...\n",
      "prob      [[[0.000766330793406, 0.07476473805305, 0.0001...\n",
      "Name: NewOnly, dtype: object\n",
      "\n"
     ]
    }
   ],
   "source": [
    "# 1.5.1\n",
    "swlda_dir = '{}/data/swLDA*'.format(os.getcwd())\n",
    "print(swlda_dir)\n",
    "print(glob.glob(swlda_dir))\n",
    "swlda_df = pd.read_json(glob.glob(swlda_dir)[0])\n",
    "print(swlda_df.keys())\n",
    "print()\n",
    "print(swlda_df['NewOnly'])\n",
    "print()\n",
    "# print(swlda_df['NewOnly']['letter'])\n",
    "# print(swlda_df['NewOnly']['prob'])"
   ]
  },
  {
   "cell_type": "code",
   "execution_count": 12,
   "id": "9e86c3e3-92c7-4433-8a56-a067c3d1c930",
   "metadata": {},
   "outputs": [
    {
     "name": "stdout",
     "output_type": "stream",
     "text": [
      "['/Users/tma33/Library/CloudStorage/OneDrive-EmoryUniversity/Emory/Rollins SPH/2025/BIOS-584/python_proj/data/PTSD_data_dictionary.xlsx']\n"
     ]
    }
   ],
   "source": [
    "PTSD_data_dictionary_dir = '{}/data/*dictionary*'.format(os.getcwd())\n",
    "print(glob.glob(PTSD_data_dictionary_dir))"
   ]
  },
  {
   "cell_type": "markdown",
   "id": "4a9923b7-1fc2-48ca-a22a-bd9d4b0a33fa",
   "metadata": {},
   "source": [
    "## 2. Outputting data in pandas\n",
    "\n",
    "### 2.1. Outputting a DataFrame into a CSV file\n",
    "\n",
    "<font size='4'>\n",
    "\n",
    "- Suppose that we have created a dataframe `test_df` and we want to save it as a CSV file, we use `to_csv()` method.\n",
    "- The arguments include `path_or_buf` filename with path and `index`, where `index=True` implies including a separate column for the dataframe's index. It can also be `False` or `None`.\n",
    "- https://pandas.pydata.org/docs/reference/api/pandas.DataFrame.to_csv.html "
   ]
  },
  {
   "cell_type": "code",
   "execution_count": 13,
   "id": "ca384000-78d4-4db3-8d1a-31b754f7f2e1",
   "metadata": {},
   "outputs": [
    {
     "name": "stdout",
     "output_type": "stream",
     "text": [
      "   var1  var2  var3\n",
      "0     1     2     3\n",
      "1     4     5     6\n",
      "2     7     8     9\n",
      "3    10    11    12\n",
      "4    13    14    15\n",
      "5    16    17    18\n"
     ]
    }
   ],
   "source": [
    "# 2.1.1\n",
    "input_ls = [[1,2,3],[4,5,6],[7,8,9],[10,11,12],[13,14,15],[16,17,18]]\n",
    "test_df = pd.DataFrame(input_ls, columns=['var1', 'var2', 'var3'])\n",
    "print(test_df)\n",
    "test_df_csv_dir = '{}/data/week_09_test.csv'.format(os.getcwd())\n",
    "test_df.to_csv(path_or_buf=test_df_csv_dir, index=False)"
   ]
  },
  {
   "cell_type": "markdown",
   "id": "33b46b92-6165-4da2-9a21-58e0a57d69b5",
   "metadata": {},
   "source": [
    "<font size='4'>\n",
    "\n",
    "- Open the APIs for `read_csv()` and `to_csv()` above.\n",
    "- A small distinction between `pd.read_csv()` and `pd.DataFrame.to_csv()` for their API references:\n",
    "- The first one (is a **function**) implies that it does not rely on an existing dataframe, while the second one (is a **method**) implies that it has to be called based on an existing dataframe.\n",
    "    - For our example, you import a new data file to your working environment, you simply write `xxx = pd.read_csv()`.\n",
    "    - You save your existing dataframe to a CSV file, you need to add `existing_df.to_csv()`."
   ]
  },
  {
   "cell_type": "markdown",
   "id": "23c12e3a-336a-400f-9714-1faef81a487a",
   "metadata": {},
   "source": [
    "### 2.2. Outputting a DataFrame into a text file\n",
    "\n",
    "<font size='4'>\n",
    "\n",
    "- Similar to CSV file, we use `to_csv()` method.\n",
    "- When saving the output file format in `.txt`, you specify a separator using the `sep` argument."
   ]
  },
  {
   "cell_type": "code",
   "execution_count": 14,
   "id": "ff59b5af-af0c-4f67-b0ed-fe79191dc434",
   "metadata": {},
   "outputs": [],
   "source": [
    "# 2.2.1\n",
    "test_df_text_dir = '{}/data/week_09_test.txt'.format(os.getcwd())\n",
    "test_df.to_csv(path_or_buf=test_df_text_dir, index=None, sep=',')"
   ]
  },
  {
   "cell_type": "markdown",
   "id": "adf4e7cf-800c-4087-9a5c-bd55492423fb",
   "metadata": {},
   "source": [
    "### 2.3. Outputting a DataFrame into a Excel file\n",
    "\n",
    "<font size='4'>\n",
    "\n",
    "- Similar to a `.xls` or `.xlsx` file, we use `to_excel()` method."
   ]
  },
  {
   "cell_type": "code",
   "execution_count": 15,
   "id": "22a95874-dd06-4b26-8aa2-087860c463ca",
   "metadata": {},
   "outputs": [],
   "source": [
    "# 2.3.1\n",
    "test_df_excel_dir = '{}/data/week_09_test.xlsx'.format(os.getcwd())\n",
    "test_df.to_excel(excel_writer=test_df_excel_dir, index=None, sheet_name='week_09_test')"
   ]
  },
  {
   "cell_type": "markdown",
   "id": "c8a591dc-67d5-44ce-9686-ce76a58054bd",
   "metadata": {},
   "source": [
    "### 2.4. Outputting a DataFrame into a JSON file\n",
    "\n",
    "<font size='4'>\n",
    "\n",
    "- Similar to a `.json` file, we use `to_json()` method."
   ]
  },
  {
   "cell_type": "code",
   "execution_count": 16,
   "id": "2f1b3770-f105-4648-8d5c-df640ce81a9b",
   "metadata": {},
   "outputs": [],
   "source": [
    "# 2.4.1\n",
    "test_df_json_dir = '{}/data/week_09_test.json'.format(os.getcwd())\n",
    "test_df.to_json(path_or_buf=test_df_json_dir)"
   ]
  },
  {
   "cell_type": "markdown",
   "id": "9cc5e7e6-963b-46e2-bf5f-c5894c338dec",
   "metadata": {},
   "source": [
    "## 3. View and Understand DataFrames using Pandas\n",
    "\n",
    "### 3.1. Head and Tail Methods\n",
    "<font size='4'>\n",
    "\n",
    "- Similar to functions in R, you can view the first few or last few rows of a DataFrame using the `.head()` or `.tail()` methods, respectively.\n",
    "- You specify the number of rows through `n` argument (default value is 5)."
   ]
  },
  {
   "cell_type": "code",
   "execution_count": 17,
   "id": "bf74740d-1d4e-446b-8d88-9dcfb2072680",
   "metadata": {},
   "outputs": [
    {
     "data": {
      "text/html": [
       "<div>\n",
       "<style scoped>\n",
       "    .dataframe tbody tr th:only-of-type {\n",
       "        vertical-align: middle;\n",
       "    }\n",
       "\n",
       "    .dataframe tbody tr th {\n",
       "        vertical-align: top;\n",
       "    }\n",
       "\n",
       "    .dataframe thead th {\n",
       "        text-align: right;\n",
       "    }\n",
       "</style>\n",
       "<table border=\"1\" class=\"dataframe\">\n",
       "  <thead>\n",
       "    <tr style=\"text-align: right;\">\n",
       "      <th></th>\n",
       "      <th>mpg</th>\n",
       "      <th>cylinders</th>\n",
       "      <th>displacement</th>\n",
       "      <th>horsepower</th>\n",
       "      <th>weight</th>\n",
       "      <th>acceleration</th>\n",
       "      <th>vehicle id</th>\n",
       "    </tr>\n",
       "  </thead>\n",
       "  <tbody>\n",
       "    <tr>\n",
       "      <th>0</th>\n",
       "      <td>18.0</td>\n",
       "      <td>8</td>\n",
       "      <td>307</td>\n",
       "      <td>130</td>\n",
       "      <td>3504</td>\n",
       "      <td>12.0</td>\n",
       "      <td>C-1689780</td>\n",
       "    </tr>\n",
       "    <tr>\n",
       "      <th>1</th>\n",
       "      <td>15.0</td>\n",
       "      <td>8</td>\n",
       "      <td>350</td>\n",
       "      <td>165</td>\n",
       "      <td>3693</td>\n",
       "      <td>11.5</td>\n",
       "      <td>B-1689791</td>\n",
       "    </tr>\n",
       "    <tr>\n",
       "      <th>2</th>\n",
       "      <td>18.0</td>\n",
       "      <td>8</td>\n",
       "      <td>318</td>\n",
       "      <td>150</td>\n",
       "      <td>3436</td>\n",
       "      <td>11.0</td>\n",
       "      <td>P-1689802</td>\n",
       "    </tr>\n",
       "    <tr>\n",
       "      <th>3</th>\n",
       "      <td>16.0</td>\n",
       "      <td>8</td>\n",
       "      <td>304</td>\n",
       "      <td>150</td>\n",
       "      <td>3433</td>\n",
       "      <td>12.0</td>\n",
       "      <td>A-1689813</td>\n",
       "    </tr>\n",
       "    <tr>\n",
       "      <th>4</th>\n",
       "      <td>17.0</td>\n",
       "      <td>8</td>\n",
       "      <td>302</td>\n",
       "      <td>140</td>\n",
       "      <td>3449</td>\n",
       "      <td>10.5</td>\n",
       "      <td>F-1689824</td>\n",
       "    </tr>\n",
       "  </tbody>\n",
       "</table>\n",
       "</div>"
      ],
      "text/plain": [
       "    mpg  cylinders  displacement horsepower  weight  acceleration vehicle id\n",
       "0  18.0          8           307        130    3504          12.0  C-1689780\n",
       "1  15.0          8           350        165    3693          11.5  B-1689791\n",
       "2  18.0          8           318        150    3436          11.0  P-1689802\n",
       "3  16.0          8           304        150    3433          12.0  A-1689813\n",
       "4  17.0          8           302        140    3449          10.5  F-1689824"
      ]
     },
     "execution_count": 17,
     "metadata": {},
     "output_type": "execute_result"
    }
   ],
   "source": [
    "# 3.1.1\n",
    "feature_df.head()"
   ]
  },
  {
   "cell_type": "code",
   "execution_count": 18,
   "id": "392e84e0-c70a-4907-b85e-dcd146562f04",
   "metadata": {},
   "outputs": [
    {
     "data": {
      "text/html": [
       "<div>\n",
       "<style scoped>\n",
       "    .dataframe tbody tr th:only-of-type {\n",
       "        vertical-align: middle;\n",
       "    }\n",
       "\n",
       "    .dataframe tbody tr th {\n",
       "        vertical-align: top;\n",
       "    }\n",
       "\n",
       "    .dataframe thead th {\n",
       "        text-align: right;\n",
       "    }\n",
       "</style>\n",
       "<table border=\"1\" class=\"dataframe\">\n",
       "  <thead>\n",
       "    <tr style=\"text-align: right;\">\n",
       "      <th></th>\n",
       "      <th>mpg</th>\n",
       "      <th>cylinders</th>\n",
       "      <th>displacement</th>\n",
       "      <th>horsepower</th>\n",
       "      <th>weight</th>\n",
       "      <th>acceleration</th>\n",
       "      <th>vehicle id</th>\n",
       "    </tr>\n",
       "  </thead>\n",
       "  <tbody>\n",
       "    <tr>\n",
       "      <th>392</th>\n",
       "      <td>27.0</td>\n",
       "      <td>4</td>\n",
       "      <td>151</td>\n",
       "      <td>90</td>\n",
       "      <td>2950</td>\n",
       "      <td>17.3</td>\n",
       "      <td>C-1694092</td>\n",
       "    </tr>\n",
       "    <tr>\n",
       "      <th>393</th>\n",
       "      <td>27.0</td>\n",
       "      <td>4</td>\n",
       "      <td>140</td>\n",
       "      <td>86</td>\n",
       "      <td>2790</td>\n",
       "      <td>15.6</td>\n",
       "      <td>F-1694103</td>\n",
       "    </tr>\n",
       "    <tr>\n",
       "      <th>394</th>\n",
       "      <td>44.0</td>\n",
       "      <td>4</td>\n",
       "      <td>97</td>\n",
       "      <td>52</td>\n",
       "      <td>2130</td>\n",
       "      <td>24.6</td>\n",
       "      <td>V-1694114</td>\n",
       "    </tr>\n",
       "    <tr>\n",
       "      <th>395</th>\n",
       "      <td>32.0</td>\n",
       "      <td>4</td>\n",
       "      <td>135</td>\n",
       "      <td>84</td>\n",
       "      <td>2295</td>\n",
       "      <td>11.6</td>\n",
       "      <td>D-1694125</td>\n",
       "    </tr>\n",
       "    <tr>\n",
       "      <th>396</th>\n",
       "      <td>28.0</td>\n",
       "      <td>4</td>\n",
       "      <td>120</td>\n",
       "      <td>79</td>\n",
       "      <td>2625</td>\n",
       "      <td>18.6</td>\n",
       "      <td>F-1694136</td>\n",
       "    </tr>\n",
       "    <tr>\n",
       "      <th>397</th>\n",
       "      <td>31.0</td>\n",
       "      <td>4</td>\n",
       "      <td>119</td>\n",
       "      <td>82</td>\n",
       "      <td>2720</td>\n",
       "      <td>19.4</td>\n",
       "      <td>C-1694147</td>\n",
       "    </tr>\n",
       "  </tbody>\n",
       "</table>\n",
       "</div>"
      ],
      "text/plain": [
       "      mpg  cylinders  displacement horsepower  weight  acceleration vehicle id\n",
       "392  27.0          4           151         90    2950          17.3  C-1694092\n",
       "393  27.0          4           140         86    2790          15.6  F-1694103\n",
       "394  44.0          4            97         52    2130          24.6  V-1694114\n",
       "395  32.0          4           135         84    2295          11.6  D-1694125\n",
       "396  28.0          4           120         79    2625          18.6  F-1694136\n",
       "397  31.0          4           119         82    2720          19.4  C-1694147"
      ]
     },
     "execution_count": 18,
     "metadata": {},
     "output_type": "execute_result"
    }
   ],
   "source": [
    "# 3.1.2\n",
    "feature_df.tail(n=6)"
   ]
  },
  {
   "cell_type": "markdown",
   "id": "1f298d29-b09e-4855-b5a3-b63659ece0a7",
   "metadata": {},
   "source": [
    "### 3.2. Describe Method\n",
    "\n",
    "<font size='4'>\n",
    "\n",
    "- The `.describe()` method prints the summary statistics of all numeric columns, such as count, mean, std, range, and IQR.\n",
    "- It gives a quick look at the scale, skew, and range of numeric data."
   ]
  },
  {
   "cell_type": "code",
   "execution_count": 19,
   "id": "0fef0634-b423-4510-b49c-896f926434b3",
   "metadata": {},
   "outputs": [
    {
     "data": {
      "text/html": [
       "<div>\n",
       "<style scoped>\n",
       "    .dataframe tbody tr th:only-of-type {\n",
       "        vertical-align: middle;\n",
       "    }\n",
       "\n",
       "    .dataframe tbody tr th {\n",
       "        vertical-align: top;\n",
       "    }\n",
       "\n",
       "    .dataframe thead th {\n",
       "        text-align: right;\n",
       "    }\n",
       "</style>\n",
       "<table border=\"1\" class=\"dataframe\">\n",
       "  <thead>\n",
       "    <tr style=\"text-align: right;\">\n",
       "      <th></th>\n",
       "      <th>mpg</th>\n",
       "      <th>cylinders</th>\n",
       "      <th>displacement</th>\n",
       "      <th>weight</th>\n",
       "      <th>acceleration</th>\n",
       "    </tr>\n",
       "  </thead>\n",
       "  <tbody>\n",
       "    <tr>\n",
       "      <th>count</th>\n",
       "      <td>398.000000</td>\n",
       "      <td>398.000000</td>\n",
       "      <td>398.000000</td>\n",
       "      <td>398.000000</td>\n",
       "      <td>398.000000</td>\n",
       "    </tr>\n",
       "    <tr>\n",
       "      <th>mean</th>\n",
       "      <td>23.514573</td>\n",
       "      <td>5.454774</td>\n",
       "      <td>193.427136</td>\n",
       "      <td>2970.424623</td>\n",
       "      <td>15.568090</td>\n",
       "    </tr>\n",
       "    <tr>\n",
       "      <th>std</th>\n",
       "      <td>7.815984</td>\n",
       "      <td>1.701004</td>\n",
       "      <td>104.268683</td>\n",
       "      <td>846.841774</td>\n",
       "      <td>2.757689</td>\n",
       "    </tr>\n",
       "    <tr>\n",
       "      <th>min</th>\n",
       "      <td>9.000000</td>\n",
       "      <td>3.000000</td>\n",
       "      <td>68.000000</td>\n",
       "      <td>1613.000000</td>\n",
       "      <td>8.000000</td>\n",
       "    </tr>\n",
       "    <tr>\n",
       "      <th>25%</th>\n",
       "      <td>17.500000</td>\n",
       "      <td>4.000000</td>\n",
       "      <td>104.250000</td>\n",
       "      <td>2223.750000</td>\n",
       "      <td>13.825000</td>\n",
       "    </tr>\n",
       "    <tr>\n",
       "      <th>50%</th>\n",
       "      <td>23.000000</td>\n",
       "      <td>4.000000</td>\n",
       "      <td>148.500000</td>\n",
       "      <td>2803.500000</td>\n",
       "      <td>15.500000</td>\n",
       "    </tr>\n",
       "    <tr>\n",
       "      <th>75%</th>\n",
       "      <td>29.000000</td>\n",
       "      <td>8.000000</td>\n",
       "      <td>262.000000</td>\n",
       "      <td>3608.000000</td>\n",
       "      <td>17.175000</td>\n",
       "    </tr>\n",
       "    <tr>\n",
       "      <th>max</th>\n",
       "      <td>46.600000</td>\n",
       "      <td>8.000000</td>\n",
       "      <td>455.000000</td>\n",
       "      <td>5140.000000</td>\n",
       "      <td>24.800000</td>\n",
       "    </tr>\n",
       "  </tbody>\n",
       "</table>\n",
       "</div>"
      ],
      "text/plain": [
       "              mpg   cylinders  displacement       weight  acceleration\n",
       "count  398.000000  398.000000    398.000000   398.000000    398.000000\n",
       "mean    23.514573    5.454774    193.427136  2970.424623     15.568090\n",
       "std      7.815984    1.701004    104.268683   846.841774      2.757689\n",
       "min      9.000000    3.000000     68.000000  1613.000000      8.000000\n",
       "25%     17.500000    4.000000    104.250000  2223.750000     13.825000\n",
       "50%     23.000000    4.000000    148.500000  2803.500000     15.500000\n",
       "75%     29.000000    8.000000    262.000000  3608.000000     17.175000\n",
       "max     46.600000    8.000000    455.000000  5140.000000     24.800000"
      ]
     },
     "execution_count": 19,
     "metadata": {},
     "output_type": "execute_result"
    }
   ],
   "source": [
    "# 3.2.1\n",
    "feature_df.describe()"
   ]
  },
  {
   "cell_type": "markdown",
   "id": "6cbff80e-bf81-442f-ac27-93c68711075c",
   "metadata": {},
   "source": [
    "<font size='4'>\n",
    "\n",
    "- You can modify the quartiles using `percentiles` argument. The input argument takes a list of values between 0 and 1."
   ]
  },
  {
   "cell_type": "code",
   "execution_count": 20,
   "id": "99b8d752-2196-4034-8987-688b2ff01664",
   "metadata": {},
   "outputs": [
    {
     "data": {
      "text/html": [
       "<div>\n",
       "<style scoped>\n",
       "    .dataframe tbody tr th:only-of-type {\n",
       "        vertical-align: middle;\n",
       "    }\n",
       "\n",
       "    .dataframe tbody tr th {\n",
       "        vertical-align: top;\n",
       "    }\n",
       "\n",
       "    .dataframe thead th {\n",
       "        text-align: right;\n",
       "    }\n",
       "</style>\n",
       "<table border=\"1\" class=\"dataframe\">\n",
       "  <thead>\n",
       "    <tr style=\"text-align: right;\">\n",
       "      <th></th>\n",
       "      <th>mpg</th>\n",
       "      <th>cylinders</th>\n",
       "      <th>displacement</th>\n",
       "      <th>weight</th>\n",
       "      <th>acceleration</th>\n",
       "    </tr>\n",
       "  </thead>\n",
       "  <tbody>\n",
       "    <tr>\n",
       "      <th>count</th>\n",
       "      <td>398.000000</td>\n",
       "      <td>398.000000</td>\n",
       "      <td>398.000000</td>\n",
       "      <td>398.000000</td>\n",
       "      <td>398.000000</td>\n",
       "    </tr>\n",
       "    <tr>\n",
       "      <th>mean</th>\n",
       "      <td>23.514573</td>\n",
       "      <td>5.454774</td>\n",
       "      <td>193.427136</td>\n",
       "      <td>2970.424623</td>\n",
       "      <td>15.568090</td>\n",
       "    </tr>\n",
       "    <tr>\n",
       "      <th>std</th>\n",
       "      <td>7.815984</td>\n",
       "      <td>1.701004</td>\n",
       "      <td>104.268683</td>\n",
       "      <td>846.841774</td>\n",
       "      <td>2.757689</td>\n",
       "    </tr>\n",
       "    <tr>\n",
       "      <th>min</th>\n",
       "      <td>9.000000</td>\n",
       "      <td>3.000000</td>\n",
       "      <td>68.000000</td>\n",
       "      <td>1613.000000</td>\n",
       "      <td>8.000000</td>\n",
       "    </tr>\n",
       "    <tr>\n",
       "      <th>30%</th>\n",
       "      <td>18.000000</td>\n",
       "      <td>4.000000</td>\n",
       "      <td>112.000000</td>\n",
       "      <td>2301.000000</td>\n",
       "      <td>14.200000</td>\n",
       "    </tr>\n",
       "    <tr>\n",
       "      <th>50%</th>\n",
       "      <td>23.000000</td>\n",
       "      <td>4.000000</td>\n",
       "      <td>148.500000</td>\n",
       "      <td>2803.500000</td>\n",
       "      <td>15.500000</td>\n",
       "    </tr>\n",
       "    <tr>\n",
       "      <th>70%</th>\n",
       "      <td>27.490000</td>\n",
       "      <td>6.000000</td>\n",
       "      <td>250.000000</td>\n",
       "      <td>3424.500000</td>\n",
       "      <td>16.800000</td>\n",
       "    </tr>\n",
       "    <tr>\n",
       "      <th>max</th>\n",
       "      <td>46.600000</td>\n",
       "      <td>8.000000</td>\n",
       "      <td>455.000000</td>\n",
       "      <td>5140.000000</td>\n",
       "      <td>24.800000</td>\n",
       "    </tr>\n",
       "  </tbody>\n",
       "</table>\n",
       "</div>"
      ],
      "text/plain": [
       "              mpg   cylinders  displacement       weight  acceleration\n",
       "count  398.000000  398.000000    398.000000   398.000000    398.000000\n",
       "mean    23.514573    5.454774    193.427136  2970.424623     15.568090\n",
       "std      7.815984    1.701004    104.268683   846.841774      2.757689\n",
       "min      9.000000    3.000000     68.000000  1613.000000      8.000000\n",
       "30%     18.000000    4.000000    112.000000  2301.000000     14.200000\n",
       "50%     23.000000    4.000000    148.500000  2803.500000     15.500000\n",
       "70%     27.490000    6.000000    250.000000  3424.500000     16.800000\n",
       "max     46.600000    8.000000    455.000000  5140.000000     24.800000"
      ]
     },
     "execution_count": 20,
     "metadata": {},
     "output_type": "execute_result"
    }
   ],
   "source": [
    "# 3.2.2\n",
    "feature_df.describe(percentiles=[0.3, 0.5, 0.7])"
   ]
  },
  {
   "cell_type": "markdown",
   "id": "6b18ddb2-1f00-4f0e-b938-92f4a4e1e480",
   "metadata": {},
   "source": [
    "<font size='4'>\n",
    "\n",
    "- You can inlcude or exclude specific data types in the summary output."
   ]
  },
  {
   "cell_type": "code",
   "execution_count": 21,
   "id": "726fa93e-609d-4a7e-9a7d-cb5797865f38",
   "metadata": {},
   "outputs": [
    {
     "data": {
      "text/html": [
       "<div>\n",
       "<style scoped>\n",
       "    .dataframe tbody tr th:only-of-type {\n",
       "        vertical-align: middle;\n",
       "    }\n",
       "\n",
       "    .dataframe tbody tr th {\n",
       "        vertical-align: top;\n",
       "    }\n",
       "\n",
       "    .dataframe thead th {\n",
       "        text-align: right;\n",
       "    }\n",
       "</style>\n",
       "<table border=\"1\" class=\"dataframe\">\n",
       "  <thead>\n",
       "    <tr style=\"text-align: right;\">\n",
       "      <th></th>\n",
       "      <th>cylinders</th>\n",
       "      <th>displacement</th>\n",
       "      <th>weight</th>\n",
       "    </tr>\n",
       "  </thead>\n",
       "  <tbody>\n",
       "    <tr>\n",
       "      <th>count</th>\n",
       "      <td>398.000000</td>\n",
       "      <td>398.000000</td>\n",
       "      <td>398.000000</td>\n",
       "    </tr>\n",
       "    <tr>\n",
       "      <th>mean</th>\n",
       "      <td>5.454774</td>\n",
       "      <td>193.427136</td>\n",
       "      <td>2970.424623</td>\n",
       "    </tr>\n",
       "    <tr>\n",
       "      <th>std</th>\n",
       "      <td>1.701004</td>\n",
       "      <td>104.268683</td>\n",
       "      <td>846.841774</td>\n",
       "    </tr>\n",
       "    <tr>\n",
       "      <th>min</th>\n",
       "      <td>3.000000</td>\n",
       "      <td>68.000000</td>\n",
       "      <td>1613.000000</td>\n",
       "    </tr>\n",
       "    <tr>\n",
       "      <th>25%</th>\n",
       "      <td>4.000000</td>\n",
       "      <td>104.250000</td>\n",
       "      <td>2223.750000</td>\n",
       "    </tr>\n",
       "    <tr>\n",
       "      <th>50%</th>\n",
       "      <td>4.000000</td>\n",
       "      <td>148.500000</td>\n",
       "      <td>2803.500000</td>\n",
       "    </tr>\n",
       "    <tr>\n",
       "      <th>75%</th>\n",
       "      <td>8.000000</td>\n",
       "      <td>262.000000</td>\n",
       "      <td>3608.000000</td>\n",
       "    </tr>\n",
       "    <tr>\n",
       "      <th>max</th>\n",
       "      <td>8.000000</td>\n",
       "      <td>455.000000</td>\n",
       "      <td>5140.000000</td>\n",
       "    </tr>\n",
       "  </tbody>\n",
       "</table>\n",
       "</div>"
      ],
      "text/plain": [
       "        cylinders  displacement       weight\n",
       "count  398.000000    398.000000   398.000000\n",
       "mean     5.454774    193.427136  2970.424623\n",
       "std      1.701004    104.268683   846.841774\n",
       "min      3.000000     68.000000  1613.000000\n",
       "25%      4.000000    104.250000  2223.750000\n",
       "50%      4.000000    148.500000  2803.500000\n",
       "75%      8.000000    262.000000  3608.000000\n",
       "max      8.000000    455.000000  5140.000000"
      ]
     },
     "execution_count": 21,
     "metadata": {},
     "output_type": "execute_result"
    }
   ],
   "source": [
    "# 3.2.3\n",
    "feature_df.describe(include=[int])"
   ]
  },
  {
   "cell_type": "code",
   "execution_count": 22,
   "id": "07f3d23d-01c6-4fd4-9fb2-4936f21b590b",
   "metadata": {},
   "outputs": [
    {
     "data": {
      "text/html": [
       "<div>\n",
       "<style scoped>\n",
       "    .dataframe tbody tr th:only-of-type {\n",
       "        vertical-align: middle;\n",
       "    }\n",
       "\n",
       "    .dataframe tbody tr th {\n",
       "        vertical-align: top;\n",
       "    }\n",
       "\n",
       "    .dataframe thead th {\n",
       "        text-align: right;\n",
       "    }\n",
       "</style>\n",
       "<table border=\"1\" class=\"dataframe\">\n",
       "  <thead>\n",
       "    <tr style=\"text-align: right;\">\n",
       "      <th></th>\n",
       "      <th>count</th>\n",
       "      <th>mean</th>\n",
       "      <th>std</th>\n",
       "      <th>min</th>\n",
       "      <th>25%</th>\n",
       "      <th>50%</th>\n",
       "      <th>75%</th>\n",
       "      <th>max</th>\n",
       "    </tr>\n",
       "  </thead>\n",
       "  <tbody>\n",
       "    <tr>\n",
       "      <th>mpg</th>\n",
       "      <td>398.0</td>\n",
       "      <td>23.514573</td>\n",
       "      <td>7.815984</td>\n",
       "      <td>9.0</td>\n",
       "      <td>17.500</td>\n",
       "      <td>23.0</td>\n",
       "      <td>29.000</td>\n",
       "      <td>46.6</td>\n",
       "    </tr>\n",
       "    <tr>\n",
       "      <th>cylinders</th>\n",
       "      <td>398.0</td>\n",
       "      <td>5.454774</td>\n",
       "      <td>1.701004</td>\n",
       "      <td>3.0</td>\n",
       "      <td>4.000</td>\n",
       "      <td>4.0</td>\n",
       "      <td>8.000</td>\n",
       "      <td>8.0</td>\n",
       "    </tr>\n",
       "    <tr>\n",
       "      <th>displacement</th>\n",
       "      <td>398.0</td>\n",
       "      <td>193.427136</td>\n",
       "      <td>104.268683</td>\n",
       "      <td>68.0</td>\n",
       "      <td>104.250</td>\n",
       "      <td>148.5</td>\n",
       "      <td>262.000</td>\n",
       "      <td>455.0</td>\n",
       "    </tr>\n",
       "    <tr>\n",
       "      <th>weight</th>\n",
       "      <td>398.0</td>\n",
       "      <td>2970.424623</td>\n",
       "      <td>846.841774</td>\n",
       "      <td>1613.0</td>\n",
       "      <td>2223.750</td>\n",
       "      <td>2803.5</td>\n",
       "      <td>3608.000</td>\n",
       "      <td>5140.0</td>\n",
       "    </tr>\n",
       "    <tr>\n",
       "      <th>acceleration</th>\n",
       "      <td>398.0</td>\n",
       "      <td>15.568090</td>\n",
       "      <td>2.757689</td>\n",
       "      <td>8.0</td>\n",
       "      <td>13.825</td>\n",
       "      <td>15.5</td>\n",
       "      <td>17.175</td>\n",
       "      <td>24.8</td>\n",
       "    </tr>\n",
       "  </tbody>\n",
       "</table>\n",
       "</div>"
      ],
      "text/plain": [
       "              count         mean         std     min       25%     50%  \\\n",
       "mpg           398.0    23.514573    7.815984     9.0    17.500    23.0   \n",
       "cylinders     398.0     5.454774    1.701004     3.0     4.000     4.0   \n",
       "displacement  398.0   193.427136  104.268683    68.0   104.250   148.5   \n",
       "weight        398.0  2970.424623  846.841774  1613.0  2223.750  2803.5   \n",
       "acceleration  398.0    15.568090    2.757689     8.0    13.825    15.5   \n",
       "\n",
       "                   75%     max  \n",
       "mpg             29.000    46.6  \n",
       "cylinders        8.000     8.0  \n",
       "displacement   262.000   455.0  \n",
       "weight        3608.000  5140.0  \n",
       "acceleration    17.175    24.8  "
      ]
     },
     "execution_count": 22,
     "metadata": {},
     "output_type": "execute_result"
    }
   ],
   "source": [
    "# 3.2.4\n",
    "feature_df.describe().T"
   ]
  },
  {
   "cell_type": "markdown",
   "id": "e762b76e-a793-4762-8626-2f165c6613ce",
   "metadata": {},
   "source": [
    "<font size='4'>\n",
    "    \n",
    "- Pandas Cheatsheet for data wrangling in Python: \n",
    "- https://www.datacamp.com/cheat-sheet/pandas-cheat-sheet-data-wrangling-in-python"
   ]
  },
  {
   "cell_type": "markdown",
   "id": "97ed8bc3-6b28-4d0c-bee6-eee74b8a4f4f",
   "metadata": {},
   "source": [
    "### 3.3. Info Method\n",
    "\n",
    "<font size='4'>\n",
    "\n",
    "- The `.info()` method: A quick way to look at data types, missing values, and data size of a DataFrame.\n",
    "- Some frequently used parameters: `show_counts`, `memory_usage`, and `verbose`."
   ]
  },
  {
   "cell_type": "code",
   "execution_count": 23,
   "id": "2425d6ab-19bb-4807-b2e1-3996e0fefd39",
   "metadata": {},
   "outputs": [
    {
     "name": "stdout",
     "output_type": "stream",
     "text": [
      "<class 'pandas.core.frame.DataFrame'>\n",
      "RangeIndex: 398 entries, 0 to 397\n",
      "Data columns (total 7 columns):\n",
      " #   Column        Non-Null Count  Dtype  \n",
      "---  ------        --------------  -----  \n",
      " 0   mpg           398 non-null    float64\n",
      " 1   cylinders     398 non-null    int64  \n",
      " 2   displacement  398 non-null    int64  \n",
      " 3   horsepower    397 non-null    object \n",
      " 4   weight        398 non-null    int64  \n",
      " 5   acceleration  398 non-null    float64\n",
      " 6   vehicle id    398 non-null    object \n",
      "dtypes: float64(2), int64(3), object(2)\n",
      "memory usage: 21.9+ KB\n"
     ]
    }
   ],
   "source": [
    "# 3.3.1\n",
    "feature_df.info(show_counts=True, memory_usage=True, verbose=True)"
   ]
  },
  {
   "cell_type": "markdown",
   "id": "cae0836c-9597-415c-94ff-e8422b3a94f2",
   "metadata": {},
   "source": [
    "### 3.4. Shape Attribute\n",
    "<font size='4'>\n",
    "    \n",
    "- The number of rows and columns of a DataFrame can be determined using the `.shape` attribute.\n",
    "- An attribute is a feature or property of a specific python object. It does not have `()` because it is fixed once the object is specified.\n",
    "- It returns a tuple (row, column) and can be indexed to only obtain rows, and only columns as output."
   ]
  },
  {
   "cell_type": "code",
   "execution_count": 24,
   "id": "bf1e7134-3869-4b96-8e56-8f30778a70bb",
   "metadata": {},
   "outputs": [
    {
     "data": {
      "text/plain": [
       "(398, 7)"
      ]
     },
     "execution_count": 24,
     "metadata": {},
     "output_type": "execute_result"
    }
   ],
   "source": [
    "# 3.4.1\n",
    "feature_df.shape"
   ]
  },
  {
   "cell_type": "code",
   "execution_count": 25,
   "id": "0a2b97be-85d3-4ee1-aebd-983a31fa6367",
   "metadata": {},
   "outputs": [
    {
     "data": {
      "text/plain": [
       "398"
      ]
     },
     "execution_count": 25,
     "metadata": {},
     "output_type": "execute_result"
    }
   ],
   "source": [
    "# 3.4.2\n",
    "feature_df.shape[0] # the number of rows only"
   ]
  },
  {
   "cell_type": "code",
   "execution_count": 26,
   "id": "97631a69-d452-45a9-96db-9aa9401b5ebc",
   "metadata": {},
   "outputs": [
    {
     "data": {
      "text/plain": [
       "7"
      ]
     },
     "execution_count": 26,
     "metadata": {},
     "output_type": "execute_result"
    }
   ],
   "source": [
    "# 3.4.3\n",
    "feature_df.shape[1] # the number of columns only"
   ]
  },
  {
   "cell_type": "code",
   "execution_count": 27,
   "id": "6b0a9a8c-5ab2-4552-85d6-13d77a05fa28",
   "metadata": {},
   "outputs": [
    {
     "name": "stdout",
     "output_type": "stream",
     "text": [
      "398 7\n"
     ]
    }
   ],
   "source": [
    "# 3.4.4\n",
    "n_row, n_col = feature_df.shape\n",
    "print(n_row, n_col)"
   ]
  },
  {
   "cell_type": "code",
   "execution_count": 28,
   "id": "bb579a95-1b7e-4145-902e-f0e97e2c7af6",
   "metadata": {},
   "outputs": [],
   "source": [
    "# 3.4.5\n",
    "n_row, _ = feature_df.shape # if you do not care about # of column.\n",
    "for n_iter in range(n_row):\n",
    "    pass"
   ]
  },
  {
   "cell_type": "markdown",
   "id": "064b3a60-1dbe-402e-b5b2-78e0822286af",
   "metadata": {},
   "source": [
    "### 3.5. Get all columns and their column names\n",
    "\n",
    "<font size='4'>\n",
    "\n",
    "- The `.columns` attribute of a DataFrame object returns the column names in the form of an `Index` object.\n",
    "- A pandas index is the address/label of the row or column.\n",
    "- You previously converted it to a list using a `list()` function.\n"
   ]
  },
  {
   "cell_type": "code",
   "execution_count": 29,
   "id": "cfe9998c-939b-4130-bf7a-726c1c9d45a0",
   "metadata": {},
   "outputs": [
    {
     "name": "stdout",
     "output_type": "stream",
     "text": [
      "['mpg', 'cylinders', 'displacement', 'horsepower', 'weight', 'acceleration', 'vehicle id']\n",
      "['mpg', 'cylinders', 'displacement', 'horsepower', 'weight', 'acceleration', 'vehicle id']\n"
     ]
    }
   ],
   "source": [
    "# 3.5.1\n",
    "feature_df.columns\n",
    "column_ls = feature_df.columns.tolist()\n",
    "print(column_ls)\n",
    "column_ls = list(feature_df.columns)\n",
    "print(column_ls)"
   ]
  },
  {
   "cell_type": "markdown",
   "id": "9fe93eea-c439-4116-abd2-0ad3bc69730d",
   "metadata": {},
   "source": [
    "### 3.6. Check for missing values\n",
    "\n",
    "<font size='4'>\n",
    "\n",
    "- The `.copy()` method makes a copy of the original DataFrame.\n",
    "- This is done to ensure that any changes to the copy do not reflect in the original DataFrame.\n",
    "- Using `.loc`, you can modify the values with given rows and column names, i.e., `NaN`. (`NaN` denotes missing values.)"
   ]
  },
  {
   "cell_type": "code",
   "execution_count": 30,
   "id": "48853534-912c-4404-b890-ddce9aaf4e69",
   "metadata": {},
   "outputs": [
    {
     "data": {
      "text/html": [
       "<div>\n",
       "<style scoped>\n",
       "    .dataframe tbody tr th:only-of-type {\n",
       "        vertical-align: middle;\n",
       "    }\n",
       "\n",
       "    .dataframe tbody tr th {\n",
       "        vertical-align: top;\n",
       "    }\n",
       "\n",
       "    .dataframe thead th {\n",
       "        text-align: right;\n",
       "    }\n",
       "</style>\n",
       "<table border=\"1\" class=\"dataframe\">\n",
       "  <thead>\n",
       "    <tr style=\"text-align: right;\">\n",
       "      <th></th>\n",
       "      <th>mpg</th>\n",
       "      <th>cylinders</th>\n",
       "      <th>displacement</th>\n",
       "      <th>horsepower</th>\n",
       "      <th>weight</th>\n",
       "      <th>acceleration</th>\n",
       "      <th>vehicle id</th>\n",
       "    </tr>\n",
       "  </thead>\n",
       "  <tbody>\n",
       "    <tr>\n",
       "      <th>0</th>\n",
       "      <td>18.0</td>\n",
       "      <td>8</td>\n",
       "      <td>307</td>\n",
       "      <td>130</td>\n",
       "      <td>3504</td>\n",
       "      <td>12.0</td>\n",
       "      <td>C-1689780</td>\n",
       "    </tr>\n",
       "    <tr>\n",
       "      <th>1</th>\n",
       "      <td>15.0</td>\n",
       "      <td>8</td>\n",
       "      <td>350</td>\n",
       "      <td>165</td>\n",
       "      <td>3693</td>\n",
       "      <td>11.5</td>\n",
       "      <td>B-1689791</td>\n",
       "    </tr>\n",
       "    <tr>\n",
       "      <th>2</th>\n",
       "      <td>NaN</td>\n",
       "      <td>8</td>\n",
       "      <td>318</td>\n",
       "      <td>150</td>\n",
       "      <td>3436</td>\n",
       "      <td>11.0</td>\n",
       "      <td>P-1689802</td>\n",
       "    </tr>\n",
       "    <tr>\n",
       "      <th>3</th>\n",
       "      <td>NaN</td>\n",
       "      <td>8</td>\n",
       "      <td>304</td>\n",
       "      <td>150</td>\n",
       "      <td>3433</td>\n",
       "      <td>12.0</td>\n",
       "      <td>A-1689813</td>\n",
       "    </tr>\n",
       "    <tr>\n",
       "      <th>4</th>\n",
       "      <td>NaN</td>\n",
       "      <td>8</td>\n",
       "      <td>302</td>\n",
       "      <td>140</td>\n",
       "      <td>3449</td>\n",
       "      <td>10.5</td>\n",
       "      <td>F-1689824</td>\n",
       "    </tr>\n",
       "  </tbody>\n",
       "</table>\n",
       "</div>"
      ],
      "text/plain": [
       "    mpg  cylinders  displacement horsepower  weight  acceleration vehicle id\n",
       "0  18.0          8           307        130    3504          12.0  C-1689780\n",
       "1  15.0          8           350        165    3693          11.5  B-1689791\n",
       "2   NaN          8           318        150    3436          11.0  P-1689802\n",
       "3   NaN          8           304        150    3433          12.0  A-1689813\n",
       "4   NaN          8           302        140    3449          10.5  F-1689824"
      ]
     },
     "execution_count": 30,
     "metadata": {},
     "output_type": "execute_result"
    }
   ],
   "source": [
    "# 3.6.1\n",
    "feature_df2 = feature_df.copy()\n",
    "feature_df2.loc[2:5, 'mpg'] = None # starts from zero, both boundaries are INCLUSIVE.\n",
    "feature_df2.head(n=5)"
   ]
  },
  {
   "cell_type": "markdown",
   "id": "4e1d19b6-dcb2-4f2f-889a-bdf18cf08c03",
   "metadata": {},
   "source": [
    "<font size='4'>\n",
    "\n",
    "- You can check whether each element in a DataFrame is missing using `.isnull()` method.\n",
    "- You can combine `.isnull()` and `.sum()` to count the number of nulls in each column."
   ]
  },
  {
   "cell_type": "code",
   "execution_count": 31,
   "id": "1164380a-646c-4b67-b604-34c2cb93d58b",
   "metadata": {},
   "outputs": [
    {
     "data": {
      "text/html": [
       "<div>\n",
       "<style scoped>\n",
       "    .dataframe tbody tr th:only-of-type {\n",
       "        vertical-align: middle;\n",
       "    }\n",
       "\n",
       "    .dataframe tbody tr th {\n",
       "        vertical-align: top;\n",
       "    }\n",
       "\n",
       "    .dataframe thead th {\n",
       "        text-align: right;\n",
       "    }\n",
       "</style>\n",
       "<table border=\"1\" class=\"dataframe\">\n",
       "  <thead>\n",
       "    <tr style=\"text-align: right;\">\n",
       "      <th></th>\n",
       "      <th>mpg</th>\n",
       "      <th>cylinders</th>\n",
       "      <th>displacement</th>\n",
       "      <th>horsepower</th>\n",
       "      <th>weight</th>\n",
       "      <th>acceleration</th>\n",
       "      <th>vehicle id</th>\n",
       "    </tr>\n",
       "  </thead>\n",
       "  <tbody>\n",
       "    <tr>\n",
       "      <th>0</th>\n",
       "      <td>False</td>\n",
       "      <td>False</td>\n",
       "      <td>False</td>\n",
       "      <td>False</td>\n",
       "      <td>False</td>\n",
       "      <td>False</td>\n",
       "      <td>False</td>\n",
       "    </tr>\n",
       "    <tr>\n",
       "      <th>1</th>\n",
       "      <td>False</td>\n",
       "      <td>False</td>\n",
       "      <td>False</td>\n",
       "      <td>False</td>\n",
       "      <td>False</td>\n",
       "      <td>False</td>\n",
       "      <td>False</td>\n",
       "    </tr>\n",
       "    <tr>\n",
       "      <th>2</th>\n",
       "      <td>True</td>\n",
       "      <td>False</td>\n",
       "      <td>False</td>\n",
       "      <td>False</td>\n",
       "      <td>False</td>\n",
       "      <td>False</td>\n",
       "      <td>False</td>\n",
       "    </tr>\n",
       "    <tr>\n",
       "      <th>3</th>\n",
       "      <td>True</td>\n",
       "      <td>False</td>\n",
       "      <td>False</td>\n",
       "      <td>False</td>\n",
       "      <td>False</td>\n",
       "      <td>False</td>\n",
       "      <td>False</td>\n",
       "    </tr>\n",
       "    <tr>\n",
       "      <th>4</th>\n",
       "      <td>True</td>\n",
       "      <td>False</td>\n",
       "      <td>False</td>\n",
       "      <td>False</td>\n",
       "      <td>False</td>\n",
       "      <td>False</td>\n",
       "      <td>False</td>\n",
       "    </tr>\n",
       "    <tr>\n",
       "      <th>5</th>\n",
       "      <td>True</td>\n",
       "      <td>False</td>\n",
       "      <td>False</td>\n",
       "      <td>False</td>\n",
       "      <td>False</td>\n",
       "      <td>False</td>\n",
       "      <td>False</td>\n",
       "    </tr>\n",
       "  </tbody>\n",
       "</table>\n",
       "</div>"
      ],
      "text/plain": [
       "     mpg  cylinders  displacement  horsepower  weight  acceleration  \\\n",
       "0  False      False         False       False   False         False   \n",
       "1  False      False         False       False   False         False   \n",
       "2   True      False         False       False   False         False   \n",
       "3   True      False         False       False   False         False   \n",
       "4   True      False         False       False   False         False   \n",
       "5   True      False         False       False   False         False   \n",
       "\n",
       "   vehicle id  \n",
       "0       False  \n",
       "1       False  \n",
       "2       False  \n",
       "3       False  \n",
       "4       False  \n",
       "5       False  "
      ]
     },
     "execution_count": 31,
     "metadata": {},
     "output_type": "execute_result"
    }
   ],
   "source": [
    "# 3.6.2\n",
    "feature_df2.isnull().head(n=6)"
   ]
  },
  {
   "cell_type": "code",
   "execution_count": 32,
   "id": "9a072056-5ce2-4401-97c7-73ef81b3386b",
   "metadata": {},
   "outputs": [
    {
     "data": {
      "text/plain": [
       "mpg             4\n",
       "cylinders       0\n",
       "displacement    0\n",
       "horsepower      1\n",
       "weight          0\n",
       "acceleration    0\n",
       "vehicle id      0\n",
       "dtype: int64"
      ]
     },
     "execution_count": 32,
     "metadata": {},
     "output_type": "execute_result"
    }
   ],
   "source": [
    "# 3.6.3\n",
    "feature_df2.isnull().sum()"
   ]
  },
  {
   "cell_type": "code",
   "execution_count": 33,
   "id": "8a921b7d-2d96-4fbe-be8c-3203bbcd1a05",
   "metadata": {},
   "outputs": [
    {
     "data": {
      "text/plain": [
       "5"
      ]
     },
     "execution_count": 33,
     "metadata": {},
     "output_type": "execute_result"
    }
   ],
   "source": [
    "# 3.6.4\n",
    "int(feature_df2.isnull().sum().sum())"
   ]
  },
  {
   "cell_type": "markdown",
   "id": "064e0140-56f4-4fee-be34-cab500691a01",
   "metadata": {},
   "source": [
    "## 4. Sorting, Slicing, and Extracting Data in pandas\n",
    "\n",
    "### 4.1. Sorting\n",
    "\n",
    "<font size='4'>\n",
    "\n",
    "- To sort a DataFrame by a specific column, use `.sort_values()` method.\n",
    "- `inplace` argument refers to performing an operation \"in-place\" means modifying the original data structure or object directly, without creating a separate copy of it."
   ]
  },
  {
   "cell_type": "code",
   "execution_count": 34,
   "id": "1828e0a5-c8e1-4404-8fce-42bea55e4a89",
   "metadata": {},
   "outputs": [
    {
     "name": "stdout",
     "output_type": "stream",
     "text": [
      "      mpg  cylinders  displacement horsepower  weight  acceleration vehicle id\n",
      "322  46.6          4            86         65    2110          17.9  M-1693322\n",
      "329  44.6          4            91         67    1850          13.8  H-1693399\n",
      "325  44.3          4            90         48    2085          21.7  V-1693355\n",
      "394  44.0          4            97         52    2130          24.6  V-1694114\n",
      "326  43.4          4            90         48    2335          23.7  V-1693366\n",
      "244  43.1          4            90         48    1985          21.5  V-1692464\n",
      "309  41.5          4            98         76    2144          14.7  V-1693179\n",
      "330  40.9          4            85          ?    1835          17.3  R-1693410\n",
      "324  40.8          4            85         65    2110          19.2  D-1693344\n",
      "247  39.4          4            85         70    2070          18.6  D-1692497\n"
     ]
    }
   ],
   "source": [
    "# 4.1.1\n",
    "feature_df.sort_values(by='mpg', ascending=False, inplace=True)\n",
    "print(feature_df.head(n=10))"
   ]
  },
  {
   "cell_type": "code",
   "execution_count": 35,
   "id": "33cac621-217a-4d64-9b5d-e0a794a2c648",
   "metadata": {},
   "outputs": [
    {
     "name": "stdout",
     "output_type": "stream",
     "text": [
      "      mpg  cylinders  displacement horsepower  weight  acceleration vehicle id\n",
      "322  46.6          4            86         65    2110          17.9  M-1693322\n",
      "329  44.6          4            91         67    1850          13.8  H-1693399\n",
      "325  44.3          4            90         48    2085          21.7  V-1693355\n",
      "394  44.0          4            97         52    2130          24.6  V-1694114\n",
      "326  43.4          4            90         48    2335          23.7  V-1693366\n",
      "244  43.1          4            90         48    1985          21.5  V-1692464\n",
      "309  41.5          4            98         76    2144          14.7  V-1693179\n",
      "330  40.9          4            85          ?    1835          17.3  R-1693410\n",
      "324  40.8          4            85         65    2110          19.2  D-1693344\n",
      "247  39.4          4            85         70    2070          18.6  D-1692497\n"
     ]
    }
   ],
   "source": [
    "# 4.1.2\n",
    "feature_df.sort_values(by=['mpg', 'acceleration'], ascending=[False, True], inplace=True)\n",
    "print(feature_df.head(n=10))"
   ]
  },
  {
   "cell_type": "markdown",
   "id": "03df9636-d4a8-467e-afbe-63aadf872ee5",
   "metadata": {},
   "source": [
    "### 4.2. Resetting the index\n",
    "\n",
    "<font size='4'>\n",
    "\n",
    "- If you filter or sort a DataFrame, your index might become misaligned. Use `.reset_index()` to fix this."
   ]
  },
  {
   "cell_type": "code",
   "execution_count": 36,
   "id": "71563779-7376-492b-b0eb-c7b0feb16e90",
   "metadata": {},
   "outputs": [
    {
     "name": "stdout",
     "output_type": "stream",
     "text": [
      "    mpg  cylinders  displacement horsepower  weight  acceleration vehicle id\n",
      "0  46.6          4            86         65    2110          17.9  M-1693322\n",
      "1  44.6          4            91         67    1850          13.8  H-1693399\n",
      "2  44.3          4            90         48    2085          21.7  V-1693355\n",
      "3  44.0          4            97         52    2130          24.6  V-1694114\n",
      "4  43.4          4            90         48    2335          23.7  V-1693366\n",
      "5  43.1          4            90         48    1985          21.5  V-1692464\n",
      "6  41.5          4            98         76    2144          14.7  V-1693179\n",
      "7  40.9          4            85          ?    1835          17.3  R-1693410\n",
      "8  40.8          4            85         65    2110          19.2  D-1693344\n",
      "9  39.4          4            85         70    2070          18.6  D-1692497\n"
     ]
    }
   ],
   "source": [
    "# 4.2.1\n",
    "feature_df.reset_index(drop=True, inplace=True) # reset index and remove old one\n",
    "print(feature_df.head(n=10))"
   ]
  },
  {
   "cell_type": "markdown",
   "id": "674ef17d-a9a0-4b44-b8ca-013b53809177",
   "metadata": {},
   "source": [
    "### 4.3. Filtering data using conditions\n",
    "\n",
    "<font size='4'>\n",
    "\n",
    "- Use `[]` to specify conditions"
   ]
  },
  {
   "cell_type": "code",
   "execution_count": 37,
   "id": "20dcf9c9-44ae-48cd-955a-dc6ba66dafb0",
   "metadata": {},
   "outputs": [
    {
     "data": {
      "text/html": [
       "<div>\n",
       "<style scoped>\n",
       "    .dataframe tbody tr th:only-of-type {\n",
       "        vertical-align: middle;\n",
       "    }\n",
       "\n",
       "    .dataframe tbody tr th {\n",
       "        vertical-align: top;\n",
       "    }\n",
       "\n",
       "    .dataframe thead th {\n",
       "        text-align: right;\n",
       "    }\n",
       "</style>\n",
       "<table border=\"1\" class=\"dataframe\">\n",
       "  <thead>\n",
       "    <tr style=\"text-align: right;\">\n",
       "      <th></th>\n",
       "      <th>mpg</th>\n",
       "      <th>cylinders</th>\n",
       "      <th>displacement</th>\n",
       "      <th>horsepower</th>\n",
       "      <th>weight</th>\n",
       "      <th>acceleration</th>\n",
       "      <th>vehicle id</th>\n",
       "    </tr>\n",
       "  </thead>\n",
       "  <tbody>\n",
       "    <tr>\n",
       "      <th>1</th>\n",
       "      <td>44.6</td>\n",
       "      <td>4</td>\n",
       "      <td>91</td>\n",
       "      <td>67</td>\n",
       "      <td>1850</td>\n",
       "      <td>13.8</td>\n",
       "      <td>H-1693399</td>\n",
       "    </tr>\n",
       "    <tr>\n",
       "      <th>5</th>\n",
       "      <td>43.1</td>\n",
       "      <td>4</td>\n",
       "      <td>90</td>\n",
       "      <td>48</td>\n",
       "      <td>1985</td>\n",
       "      <td>21.5</td>\n",
       "      <td>V-1692464</td>\n",
       "    </tr>\n",
       "    <tr>\n",
       "      <th>7</th>\n",
       "      <td>40.9</td>\n",
       "      <td>4</td>\n",
       "      <td>85</td>\n",
       "      <td>?</td>\n",
       "      <td>1835</td>\n",
       "      <td>17.3</td>\n",
       "      <td>R-1693410</td>\n",
       "    </tr>\n",
       "  </tbody>\n",
       "</table>\n",
       "</div>"
      ],
      "text/plain": [
       "    mpg  cylinders  displacement horsepower  weight  acceleration vehicle id\n",
       "1  44.6          4            91         67    1850          13.8  H-1693399\n",
       "5  43.1          4            90         48    1985          21.5  V-1692464\n",
       "7  40.9          4            85          ?    1835          17.3  R-1693410"
      ]
     },
     "execution_count": 37,
     "metadata": {},
     "output_type": "execute_result"
    }
   ],
   "source": [
    "# 4.3.1\n",
    "feature_sub_df = feature_df[feature_df['weight']<2000]\n",
    "feature_sub_df.head(n=3)"
   ]
  },
  {
   "cell_type": "markdown",
   "id": "d038414d-ff35-42de-980c-a4e5fd44fc32",
   "metadata": {},
   "source": [
    "### 4.4. Isolating one column using `[ ]`\n",
    "<font size='4'>\n",
    "\n",
    "- You can isolate a single column using a square bracket `[]` with a column name in it.\n",
    "- The output is a pandas `Series` object.\n",
    "- A pandas Series is a one-dimensional array containing data of any type, including integer, float, string, boolean, python objects, etc.\n",
    "- A DataFrame is comprised of many series that act as columns."
   ]
  },
  {
   "cell_type": "code",
   "execution_count": 38,
   "id": "b2c5e151-cb2c-4a9e-a332-3c72317a3f26",
   "metadata": {},
   "outputs": [
    {
     "data": {
      "text/plain": [
       "0      4\n",
       "1      4\n",
       "2      4\n",
       "3      4\n",
       "4      4\n",
       "      ..\n",
       "393    8\n",
       "394    8\n",
       "395    8\n",
       "396    8\n",
       "397    8\n",
       "Name: cylinders, Length: 398, dtype: int64"
      ]
     },
     "execution_count": 38,
     "metadata": {},
     "output_type": "execute_result"
    }
   ],
   "source": [
    "# 4.4.1\n",
    "feature_df['cylinders']"
   ]
  },
  {
   "cell_type": "markdown",
   "id": "49fd9e74-36a9-43b1-ac54-7da4d24ad1ef",
   "metadata": {},
   "source": [
    "### 4.5. Isolating more than one columns using `[[ ]]`\n",
    "\n",
    "<font size='4'>\n",
    "\n",
    "- Isolating two or more columns using `[[ ]]`\n",
    "- You can provide a `list` of columns inside the square brackets to fetch more than one column.\n",
    "- Here, square brackets had two functions:\n",
    "- The outer square brackets indicate a subset of a DataFrame.\n",
    "- The inner suqare brackets is to create a list."
   ]
  },
  {
   "cell_type": "code",
   "execution_count": 39,
   "id": "7d847d90-3158-4dd6-b077-363ec6bbc721",
   "metadata": {},
   "outputs": [
    {
     "name": "stdout",
     "output_type": "stream",
     "text": [
      "    mpg vehicle id\n",
      "0  46.6  M-1693322\n",
      "1  44.6  H-1693399\n",
      "2  44.3  V-1693355\n"
     ]
    }
   ],
   "source": [
    "# 4.5.1\n",
    "feature_sub_df2 = feature_df[['mpg', 'vehicle id']]\n",
    "print(feature_sub_df2.head(n=3))"
   ]
  },
  {
   "cell_type": "markdown",
   "id": "c1c26328-7b6f-41f4-81a4-398f574b89fc",
   "metadata": {},
   "source": [
    "### 4.6. Isolating one row using `[ ]`\n",
    "\n",
    "<font size='4'>\n",
    "\n",
    "- We have talked about subsetting columns. What about subsetting rows?\n",
    "- A single row can be fetched by passing in a boolean series with one `True` value.\n",
    "- For example, let's select the second row `index=1`."
   ]
  },
  {
   "cell_type": "code",
   "execution_count": 40,
   "id": "33890b16-757c-4efb-81a0-1fe20f480180",
   "metadata": {},
   "outputs": [
    {
     "data": {
      "text/html": [
       "<div>\n",
       "<style scoped>\n",
       "    .dataframe tbody tr th:only-of-type {\n",
       "        vertical-align: middle;\n",
       "    }\n",
       "\n",
       "    .dataframe tbody tr th {\n",
       "        vertical-align: top;\n",
       "    }\n",
       "\n",
       "    .dataframe thead th {\n",
       "        text-align: right;\n",
       "    }\n",
       "</style>\n",
       "<table border=\"1\" class=\"dataframe\">\n",
       "  <thead>\n",
       "    <tr style=\"text-align: right;\">\n",
       "      <th></th>\n",
       "      <th>mpg</th>\n",
       "      <th>cylinders</th>\n",
       "      <th>displacement</th>\n",
       "      <th>horsepower</th>\n",
       "      <th>weight</th>\n",
       "      <th>acceleration</th>\n",
       "      <th>vehicle id</th>\n",
       "    </tr>\n",
       "  </thead>\n",
       "  <tbody>\n",
       "    <tr>\n",
       "      <th>1</th>\n",
       "      <td>44.6</td>\n",
       "      <td>4</td>\n",
       "      <td>91</td>\n",
       "      <td>67</td>\n",
       "      <td>1850</td>\n",
       "      <td>13.8</td>\n",
       "      <td>H-1693399</td>\n",
       "    </tr>\n",
       "  </tbody>\n",
       "</table>\n",
       "</div>"
      ],
      "text/plain": [
       "    mpg  cylinders  displacement horsepower  weight  acceleration vehicle id\n",
       "1  44.6          4            91         67    1850          13.8  H-1693399"
      ]
     },
     "execution_count": 40,
     "metadata": {},
     "output_type": "execute_result"
    }
   ],
   "source": [
    "# 4.6.1\n",
    "feature_df[feature_df.index==1]"
   ]
  },
  {
   "cell_type": "markdown",
   "id": "85a194a9-2e06-40da-935e-6e31e33abe0c",
   "metadata": {},
   "source": [
    "### 4.7. Isolating two or more rows using `[ ]`\n",
    "\n",
    "<font size='4'>\n",
    "\n",
    "- Similarly, we use `[ ]` to isolate two or more rows and `.isin()` method instead of `==` operator."
   ]
  },
  {
   "cell_type": "code",
   "execution_count": 41,
   "id": "1b40c113-2e4f-4b23-bf41-3a4d9f3138f4",
   "metadata": {},
   "outputs": [
    {
     "data": {
      "text/html": [
       "<div>\n",
       "<style scoped>\n",
       "    .dataframe tbody tr th:only-of-type {\n",
       "        vertical-align: middle;\n",
       "    }\n",
       "\n",
       "    .dataframe tbody tr th {\n",
       "        vertical-align: top;\n",
       "    }\n",
       "\n",
       "    .dataframe thead th {\n",
       "        text-align: right;\n",
       "    }\n",
       "</style>\n",
       "<table border=\"1\" class=\"dataframe\">\n",
       "  <thead>\n",
       "    <tr style=\"text-align: right;\">\n",
       "      <th></th>\n",
       "      <th>mpg</th>\n",
       "      <th>cylinders</th>\n",
       "      <th>displacement</th>\n",
       "      <th>horsepower</th>\n",
       "      <th>weight</th>\n",
       "      <th>acceleration</th>\n",
       "      <th>vehicle id</th>\n",
       "    </tr>\n",
       "  </thead>\n",
       "  <tbody>\n",
       "    <tr>\n",
       "      <th>2</th>\n",
       "      <td>44.3</td>\n",
       "      <td>4</td>\n",
       "      <td>90</td>\n",
       "      <td>48</td>\n",
       "      <td>2085</td>\n",
       "      <td>21.7</td>\n",
       "      <td>V-1693355</td>\n",
       "    </tr>\n",
       "    <tr>\n",
       "      <th>3</th>\n",
       "      <td>44.0</td>\n",
       "      <td>4</td>\n",
       "      <td>97</td>\n",
       "      <td>52</td>\n",
       "      <td>2130</td>\n",
       "      <td>24.6</td>\n",
       "      <td>V-1694114</td>\n",
       "    </tr>\n",
       "    <tr>\n",
       "      <th>4</th>\n",
       "      <td>43.4</td>\n",
       "      <td>4</td>\n",
       "      <td>90</td>\n",
       "      <td>48</td>\n",
       "      <td>2335</td>\n",
       "      <td>23.7</td>\n",
       "      <td>V-1693366</td>\n",
       "    </tr>\n",
       "    <tr>\n",
       "      <th>5</th>\n",
       "      <td>43.1</td>\n",
       "      <td>4</td>\n",
       "      <td>90</td>\n",
       "      <td>48</td>\n",
       "      <td>1985</td>\n",
       "      <td>21.5</td>\n",
       "      <td>V-1692464</td>\n",
       "    </tr>\n",
       "    <tr>\n",
       "      <th>6</th>\n",
       "      <td>41.5</td>\n",
       "      <td>4</td>\n",
       "      <td>98</td>\n",
       "      <td>76</td>\n",
       "      <td>2144</td>\n",
       "      <td>14.7</td>\n",
       "      <td>V-1693179</td>\n",
       "    </tr>\n",
       "    <tr>\n",
       "      <th>7</th>\n",
       "      <td>40.9</td>\n",
       "      <td>4</td>\n",
       "      <td>85</td>\n",
       "      <td>?</td>\n",
       "      <td>1835</td>\n",
       "      <td>17.3</td>\n",
       "      <td>R-1693410</td>\n",
       "    </tr>\n",
       "    <tr>\n",
       "      <th>8</th>\n",
       "      <td>40.8</td>\n",
       "      <td>4</td>\n",
       "      <td>85</td>\n",
       "      <td>65</td>\n",
       "      <td>2110</td>\n",
       "      <td>19.2</td>\n",
       "      <td>D-1693344</td>\n",
       "    </tr>\n",
       "    <tr>\n",
       "      <th>9</th>\n",
       "      <td>39.4</td>\n",
       "      <td>4</td>\n",
       "      <td>85</td>\n",
       "      <td>70</td>\n",
       "      <td>2070</td>\n",
       "      <td>18.6</td>\n",
       "      <td>D-1692497</td>\n",
       "    </tr>\n",
       "  </tbody>\n",
       "</table>\n",
       "</div>"
      ],
      "text/plain": [
       "    mpg  cylinders  displacement horsepower  weight  acceleration vehicle id\n",
       "2  44.3          4            90         48    2085          21.7  V-1693355\n",
       "3  44.0          4            97         52    2130          24.6  V-1694114\n",
       "4  43.4          4            90         48    2335          23.7  V-1693366\n",
       "5  43.1          4            90         48    1985          21.5  V-1692464\n",
       "6  41.5          4            98         76    2144          14.7  V-1693179\n",
       "7  40.9          4            85          ?    1835          17.3  R-1693410\n",
       "8  40.8          4            85         65    2110          19.2  D-1693344\n",
       "9  39.4          4            85         70    2070          18.6  D-1692497"
      ]
     },
     "execution_count": 41,
     "metadata": {},
     "output_type": "execute_result"
    }
   ],
   "source": [
    "# 4.7.1\n",
    "feature_df[feature_df.index.isin(range(2,10))]\n",
    "# Notice that range(2, 10) has lower inclusive but upper exclusive."
   ]
  },
  {
   "cell_type": "markdown",
   "id": "390389cd-a852-49aa-9d87-829ee122e277",
   "metadata": {},
   "source": [
    "### 4.8. Use `.loc[]` and `.iloc[]`\n",
    "\n",
    "<font size='4'>\n",
    "\n",
    "- Use `.loc[]` and `.iloc[]` to fetch rows\n",
    "- `.loc[]` uses a label to point to a row, column, or cell\n",
    "- `.iloc[]` uses the numeric position."
   ]
  },
  {
   "cell_type": "code",
   "execution_count": 42,
   "id": "6800907e-d8d7-49ac-9150-98256edcb183",
   "metadata": {},
   "outputs": [
    {
     "data": {
      "text/plain": [
       "(398, 7)"
      ]
     },
     "execution_count": 42,
     "metadata": {},
     "output_type": "execute_result"
    }
   ],
   "source": [
    "# 4.8.1\n",
    "feature_df2.shape"
   ]
  },
  {
   "cell_type": "code",
   "execution_count": 43,
   "id": "4535afc4-aa99-408b-93f1-7d00d74a9e26",
   "metadata": {},
   "outputs": [],
   "source": [
    "# 4.8.2\n",
    "feature_df2.index = np.arange(1, 399, 1)"
   ]
  },
  {
   "cell_type": "code",
   "execution_count": 44,
   "id": "ffc8a7a8-aa90-454c-bd91-e226a2ee9b80",
   "metadata": {},
   "outputs": [
    {
     "data": {
      "text/html": [
       "<div>\n",
       "<style scoped>\n",
       "    .dataframe tbody tr th:only-of-type {\n",
       "        vertical-align: middle;\n",
       "    }\n",
       "\n",
       "    .dataframe tbody tr th {\n",
       "        vertical-align: top;\n",
       "    }\n",
       "\n",
       "    .dataframe thead th {\n",
       "        text-align: right;\n",
       "    }\n",
       "</style>\n",
       "<table border=\"1\" class=\"dataframe\">\n",
       "  <thead>\n",
       "    <tr style=\"text-align: right;\">\n",
       "      <th></th>\n",
       "      <th>mpg</th>\n",
       "      <th>cylinders</th>\n",
       "      <th>displacement</th>\n",
       "      <th>horsepower</th>\n",
       "      <th>weight</th>\n",
       "      <th>acceleration</th>\n",
       "      <th>vehicle id</th>\n",
       "    </tr>\n",
       "  </thead>\n",
       "  <tbody>\n",
       "    <tr>\n",
       "      <th>1</th>\n",
       "      <td>18.0</td>\n",
       "      <td>8</td>\n",
       "      <td>307</td>\n",
       "      <td>130</td>\n",
       "      <td>3504</td>\n",
       "      <td>12.0</td>\n",
       "      <td>C-1689780</td>\n",
       "    </tr>\n",
       "    <tr>\n",
       "      <th>2</th>\n",
       "      <td>15.0</td>\n",
       "      <td>8</td>\n",
       "      <td>350</td>\n",
       "      <td>165</td>\n",
       "      <td>3693</td>\n",
       "      <td>11.5</td>\n",
       "      <td>B-1689791</td>\n",
       "    </tr>\n",
       "    <tr>\n",
       "      <th>3</th>\n",
       "      <td>NaN</td>\n",
       "      <td>8</td>\n",
       "      <td>318</td>\n",
       "      <td>150</td>\n",
       "      <td>3436</td>\n",
       "      <td>11.0</td>\n",
       "      <td>P-1689802</td>\n",
       "    </tr>\n",
       "    <tr>\n",
       "      <th>4</th>\n",
       "      <td>NaN</td>\n",
       "      <td>8</td>\n",
       "      <td>304</td>\n",
       "      <td>150</td>\n",
       "      <td>3433</td>\n",
       "      <td>12.0</td>\n",
       "      <td>A-1689813</td>\n",
       "    </tr>\n",
       "    <tr>\n",
       "      <th>5</th>\n",
       "      <td>NaN</td>\n",
       "      <td>8</td>\n",
       "      <td>302</td>\n",
       "      <td>140</td>\n",
       "      <td>3449</td>\n",
       "      <td>10.5</td>\n",
       "      <td>F-1689824</td>\n",
       "    </tr>\n",
       "  </tbody>\n",
       "</table>\n",
       "</div>"
      ],
      "text/plain": [
       "    mpg  cylinders  displacement horsepower  weight  acceleration vehicle id\n",
       "1  18.0          8           307        130    3504          12.0  C-1689780\n",
       "2  15.0          8           350        165    3693          11.5  B-1689791\n",
       "3   NaN          8           318        150    3436          11.0  P-1689802\n",
       "4   NaN          8           304        150    3433          12.0  A-1689813\n",
       "5   NaN          8           302        140    3449          10.5  F-1689824"
      ]
     },
     "execution_count": 44,
     "metadata": {},
     "output_type": "execute_result"
    }
   ],
   "source": [
    "# 4.8.3\n",
    "feature_df2.head(n=5)"
   ]
  },
  {
   "cell_type": "code",
   "execution_count": 45,
   "id": "eccd67b7-0625-4396-8d6d-09974d249495",
   "metadata": {},
   "outputs": [
    {
     "data": {
      "text/plain": [
       "mpg                  18.0\n",
       "cylinders               8\n",
       "displacement          307\n",
       "horsepower            130\n",
       "weight               3504\n",
       "acceleration         12.0\n",
       "vehicle id      C-1689780\n",
       "Name: 1, dtype: object"
      ]
     },
     "execution_count": 45,
     "metadata": {},
     "output_type": "execute_result"
    }
   ],
   "source": [
    "# 4.8.4\n",
    "feature_df2.loc[1]\n",
    "# it returns a Series object"
   ]
  },
  {
   "cell_type": "code",
   "execution_count": 46,
   "id": "82aed3e5-d099-4383-870e-28bc1680bfc1",
   "metadata": {},
   "outputs": [
    {
     "data": {
      "text/plain": [
       "mpg                  18.0\n",
       "cylinders               8\n",
       "displacement          307\n",
       "horsepower            130\n",
       "weight               3504\n",
       "acceleration         12.0\n",
       "vehicle id      C-1689780\n",
       "Name: 1, dtype: object"
      ]
     },
     "execution_count": 46,
     "metadata": {},
     "output_type": "execute_result"
    }
   ],
   "source": [
    "# 4.8.5\n",
    "feature_df2.iloc[0]\n",
    "# always start from 0, its absolute numeric index."
   ]
  },
  {
   "cell_type": "code",
   "execution_count": 47,
   "id": "fbe5e6ef-7097-4921-a34d-897373a8e7c0",
   "metadata": {},
   "outputs": [
    {
     "name": "stdout",
     "output_type": "stream",
     "text": [
      "    mpg  cylinders  displacement horsepower  weight  acceleration vehicle id\n",
      "1  18.0          8           307        130    3504          12.0  C-1689780\n",
      "2  15.0          8           350        165    3693          11.5  B-1689791\n",
      "3   NaN          8           318        150    3436          11.0  P-1689802\n",
      "4   NaN          8           304        150    3433          12.0  A-1689813\n",
      "5   NaN          8           302        140    3449          10.5  F-1689824\n"
     ]
    },
    {
     "data": {
      "text/html": [
       "<div>\n",
       "<style scoped>\n",
       "    .dataframe tbody tr th:only-of-type {\n",
       "        vertical-align: middle;\n",
       "    }\n",
       "\n",
       "    .dataframe tbody tr th {\n",
       "        vertical-align: top;\n",
       "    }\n",
       "\n",
       "    .dataframe thead th {\n",
       "        text-align: right;\n",
       "    }\n",
       "</style>\n",
       "<table border=\"1\" class=\"dataframe\">\n",
       "  <thead>\n",
       "    <tr style=\"text-align: right;\">\n",
       "      <th></th>\n",
       "      <th>mpg</th>\n",
       "      <th>cylinders</th>\n",
       "      <th>displacement</th>\n",
       "      <th>horsepower</th>\n",
       "      <th>weight</th>\n",
       "      <th>acceleration</th>\n",
       "      <th>vehicle id</th>\n",
       "    </tr>\n",
       "  </thead>\n",
       "  <tbody>\n",
       "    <tr>\n",
       "      <th>1</th>\n",
       "      <td>18.0</td>\n",
       "      <td>8</td>\n",
       "      <td>307</td>\n",
       "      <td>130</td>\n",
       "      <td>3504</td>\n",
       "      <td>12.0</td>\n",
       "      <td>C-1689780</td>\n",
       "    </tr>\n",
       "    <tr>\n",
       "      <th>2</th>\n",
       "      <td>15.0</td>\n",
       "      <td>8</td>\n",
       "      <td>350</td>\n",
       "      <td>165</td>\n",
       "      <td>3693</td>\n",
       "      <td>11.5</td>\n",
       "      <td>B-1689791</td>\n",
       "    </tr>\n",
       "    <tr>\n",
       "      <th>3</th>\n",
       "      <td>NaN</td>\n",
       "      <td>8</td>\n",
       "      <td>318</td>\n",
       "      <td>150</td>\n",
       "      <td>3436</td>\n",
       "      <td>11.0</td>\n",
       "      <td>P-1689802</td>\n",
       "    </tr>\n",
       "    <tr>\n",
       "      <th>4</th>\n",
       "      <td>NaN</td>\n",
       "      <td>8</td>\n",
       "      <td>304</td>\n",
       "      <td>150</td>\n",
       "      <td>3433</td>\n",
       "      <td>12.0</td>\n",
       "      <td>A-1689813</td>\n",
       "    </tr>\n",
       "  </tbody>\n",
       "</table>\n",
       "</div>"
      ],
      "text/plain": [
       "    mpg  cylinders  displacement horsepower  weight  acceleration vehicle id\n",
       "1  18.0          8           307        130    3504          12.0  C-1689780\n",
       "2  15.0          8           350        165    3693          11.5  B-1689791\n",
       "3   NaN          8           318        150    3436          11.0  P-1689802\n",
       "4   NaN          8           304        150    3433          12.0  A-1689813"
      ]
     },
     "execution_count": 47,
     "metadata": {},
     "output_type": "execute_result"
    }
   ],
   "source": [
    "# 4.8.6\n",
    "print(feature_df2.head(n=5))\n",
    "feature_df2.loc[1:4]"
   ]
  },
  {
   "cell_type": "code",
   "execution_count": 48,
   "id": "c87657e1-a6bb-4b3b-85de-354a739decb7",
   "metadata": {},
   "outputs": [
    {
     "data": {
      "text/html": [
       "<div>\n",
       "<style scoped>\n",
       "    .dataframe tbody tr th:only-of-type {\n",
       "        vertical-align: middle;\n",
       "    }\n",
       "\n",
       "    .dataframe tbody tr th {\n",
       "        vertical-align: top;\n",
       "    }\n",
       "\n",
       "    .dataframe thead th {\n",
       "        text-align: right;\n",
       "    }\n",
       "</style>\n",
       "<table border=\"1\" class=\"dataframe\">\n",
       "  <thead>\n",
       "    <tr style=\"text-align: right;\">\n",
       "      <th></th>\n",
       "      <th>mpg</th>\n",
       "      <th>cylinders</th>\n",
       "      <th>displacement</th>\n",
       "      <th>horsepower</th>\n",
       "      <th>weight</th>\n",
       "      <th>acceleration</th>\n",
       "      <th>vehicle id</th>\n",
       "    </tr>\n",
       "  </thead>\n",
       "  <tbody>\n",
       "    <tr>\n",
       "      <th>1</th>\n",
       "      <td>18.0</td>\n",
       "      <td>8</td>\n",
       "      <td>307</td>\n",
       "      <td>130</td>\n",
       "      <td>3504</td>\n",
       "      <td>12.0</td>\n",
       "      <td>C-1689780</td>\n",
       "    </tr>\n",
       "    <tr>\n",
       "      <th>2</th>\n",
       "      <td>15.0</td>\n",
       "      <td>8</td>\n",
       "      <td>350</td>\n",
       "      <td>165</td>\n",
       "      <td>3693</td>\n",
       "      <td>11.5</td>\n",
       "      <td>B-1689791</td>\n",
       "    </tr>\n",
       "    <tr>\n",
       "      <th>3</th>\n",
       "      <td>NaN</td>\n",
       "      <td>8</td>\n",
       "      <td>318</td>\n",
       "      <td>150</td>\n",
       "      <td>3436</td>\n",
       "      <td>11.0</td>\n",
       "      <td>P-1689802</td>\n",
       "    </tr>\n",
       "    <tr>\n",
       "      <th>4</th>\n",
       "      <td>NaN</td>\n",
       "      <td>8</td>\n",
       "      <td>304</td>\n",
       "      <td>150</td>\n",
       "      <td>3433</td>\n",
       "      <td>12.0</td>\n",
       "      <td>A-1689813</td>\n",
       "    </tr>\n",
       "  </tbody>\n",
       "</table>\n",
       "</div>"
      ],
      "text/plain": [
       "    mpg  cylinders  displacement horsepower  weight  acceleration vehicle id\n",
       "1  18.0          8           307        130    3504          12.0  C-1689780\n",
       "2  15.0          8           350        165    3693          11.5  B-1689791\n",
       "3   NaN          8           318        150    3436          11.0  P-1689802\n",
       "4   NaN          8           304        150    3433          12.0  A-1689813"
      ]
     },
     "execution_count": 48,
     "metadata": {},
     "output_type": "execute_result"
    }
   ],
   "source": [
    "# 4.8.7\n",
    "feature_df2.iloc[:4]"
   ]
  },
  {
   "cell_type": "markdown",
   "id": "7fa9ad46-7c90-456d-ac46-24d85b9caf50",
   "metadata": {},
   "source": [
    "<font size='4'>\n",
    "\n",
    "- You can subset using a list instead of a range."
   ]
  },
  {
   "cell_type": "code",
   "execution_count": 49,
   "id": "7dbcb129-cae3-42bd-9ede-88ecf1277ea0",
   "metadata": {},
   "outputs": [
    {
     "data": {
      "text/html": [
       "<div>\n",
       "<style scoped>\n",
       "    .dataframe tbody tr th:only-of-type {\n",
       "        vertical-align: middle;\n",
       "    }\n",
       "\n",
       "    .dataframe tbody tr th {\n",
       "        vertical-align: top;\n",
       "    }\n",
       "\n",
       "    .dataframe thead th {\n",
       "        text-align: right;\n",
       "    }\n",
       "</style>\n",
       "<table border=\"1\" class=\"dataframe\">\n",
       "  <thead>\n",
       "    <tr style=\"text-align: right;\">\n",
       "      <th></th>\n",
       "      <th>mpg</th>\n",
       "      <th>cylinders</th>\n",
       "      <th>displacement</th>\n",
       "      <th>horsepower</th>\n",
       "      <th>weight</th>\n",
       "      <th>acceleration</th>\n",
       "      <th>vehicle id</th>\n",
       "    </tr>\n",
       "  </thead>\n",
       "  <tbody>\n",
       "    <tr>\n",
       "      <th>1</th>\n",
       "      <td>18.0</td>\n",
       "      <td>8</td>\n",
       "      <td>307</td>\n",
       "      <td>130</td>\n",
       "      <td>3504</td>\n",
       "      <td>12.0</td>\n",
       "      <td>C-1689780</td>\n",
       "    </tr>\n",
       "    <tr>\n",
       "      <th>3</th>\n",
       "      <td>NaN</td>\n",
       "      <td>8</td>\n",
       "      <td>318</td>\n",
       "      <td>150</td>\n",
       "      <td>3436</td>\n",
       "      <td>11.0</td>\n",
       "      <td>P-1689802</td>\n",
       "    </tr>\n",
       "    <tr>\n",
       "      <th>5</th>\n",
       "      <td>NaN</td>\n",
       "      <td>8</td>\n",
       "      <td>302</td>\n",
       "      <td>140</td>\n",
       "      <td>3449</td>\n",
       "      <td>10.5</td>\n",
       "      <td>F-1689824</td>\n",
       "    </tr>\n",
       "  </tbody>\n",
       "</table>\n",
       "</div>"
      ],
      "text/plain": [
       "    mpg  cylinders  displacement horsepower  weight  acceleration vehicle id\n",
       "1  18.0          8           307        130    3504          12.0  C-1689780\n",
       "3   NaN          8           318        150    3436          11.0  P-1689802\n",
       "5   NaN          8           302        140    3449          10.5  F-1689824"
      ]
     },
     "execution_count": 49,
     "metadata": {},
     "output_type": "execute_result"
    }
   ],
   "source": [
    "# 4.8.8\n",
    "feature_df2.loc[[1,3,5]]\n",
    "# print(feature_df2.head(n=5))"
   ]
  },
  {
   "cell_type": "code",
   "execution_count": 50,
   "id": "b8070947-bdaf-4e19-88fb-043defb6d74f",
   "metadata": {},
   "outputs": [
    {
     "data": {
      "text/html": [
       "<div>\n",
       "<style scoped>\n",
       "    .dataframe tbody tr th:only-of-type {\n",
       "        vertical-align: middle;\n",
       "    }\n",
       "\n",
       "    .dataframe tbody tr th {\n",
       "        vertical-align: top;\n",
       "    }\n",
       "\n",
       "    .dataframe thead th {\n",
       "        text-align: right;\n",
       "    }\n",
       "</style>\n",
       "<table border=\"1\" class=\"dataframe\">\n",
       "  <thead>\n",
       "    <tr style=\"text-align: right;\">\n",
       "      <th></th>\n",
       "      <th>mpg</th>\n",
       "      <th>cylinders</th>\n",
       "      <th>displacement</th>\n",
       "      <th>horsepower</th>\n",
       "      <th>weight</th>\n",
       "      <th>acceleration</th>\n",
       "      <th>vehicle id</th>\n",
       "    </tr>\n",
       "  </thead>\n",
       "  <tbody>\n",
       "    <tr>\n",
       "      <th>1</th>\n",
       "      <td>18.0</td>\n",
       "      <td>8</td>\n",
       "      <td>307</td>\n",
       "      <td>130</td>\n",
       "      <td>3504</td>\n",
       "      <td>12.0</td>\n",
       "      <td>C-1689780</td>\n",
       "    </tr>\n",
       "    <tr>\n",
       "      <th>3</th>\n",
       "      <td>NaN</td>\n",
       "      <td>8</td>\n",
       "      <td>318</td>\n",
       "      <td>150</td>\n",
       "      <td>3436</td>\n",
       "      <td>11.0</td>\n",
       "      <td>P-1689802</td>\n",
       "    </tr>\n",
       "    <tr>\n",
       "      <th>5</th>\n",
       "      <td>NaN</td>\n",
       "      <td>8</td>\n",
       "      <td>302</td>\n",
       "      <td>140</td>\n",
       "      <td>3449</td>\n",
       "      <td>10.5</td>\n",
       "      <td>F-1689824</td>\n",
       "    </tr>\n",
       "  </tbody>\n",
       "</table>\n",
       "</div>"
      ],
      "text/plain": [
       "    mpg  cylinders  displacement horsepower  weight  acceleration vehicle id\n",
       "1  18.0          8           307        130    3504          12.0  C-1689780\n",
       "3   NaN          8           318        150    3436          11.0  P-1689802\n",
       "5   NaN          8           302        140    3449          10.5  F-1689824"
      ]
     },
     "execution_count": 50,
     "metadata": {},
     "output_type": "execute_result"
    }
   ],
   "source": [
    "# 4.8.9\n",
    "feature_df2.iloc[[0,2,4]]"
   ]
  },
  {
   "cell_type": "markdown",
   "id": "32bd5741-28bd-4bad-97e6-a6632560bae5",
   "metadata": {},
   "source": [
    "<font size='4'>\n",
    "\n",
    "- You can also select specific columns along with rows.\n",
    "- `loc[]` requires all labels, while `iloc[]` requires all numbers to index the locations.\n",
    "    - You can use either list or numpy array. For numpy array, make sure they are all integers."
   ]
  },
  {
   "cell_type": "code",
   "execution_count": 51,
   "id": "3bfad1ad-6f5a-4efe-a926-ab1c8a642726",
   "metadata": {},
   "outputs": [
    {
     "data": {
      "text/html": [
       "<div>\n",
       "<style scoped>\n",
       "    .dataframe tbody tr th:only-of-type {\n",
       "        vertical-align: middle;\n",
       "    }\n",
       "\n",
       "    .dataframe tbody tr th {\n",
       "        vertical-align: top;\n",
       "    }\n",
       "\n",
       "    .dataframe thead th {\n",
       "        text-align: right;\n",
       "    }\n",
       "</style>\n",
       "<table border=\"1\" class=\"dataframe\">\n",
       "  <thead>\n",
       "    <tr style=\"text-align: right;\">\n",
       "      <th></th>\n",
       "      <th>mpg</th>\n",
       "      <th>vehicle id</th>\n",
       "    </tr>\n",
       "  </thead>\n",
       "  <tbody>\n",
       "    <tr>\n",
       "      <th>1</th>\n",
       "      <td>18.0</td>\n",
       "      <td>C-1689780</td>\n",
       "    </tr>\n",
       "    <tr>\n",
       "      <th>2</th>\n",
       "      <td>15.0</td>\n",
       "      <td>B-1689791</td>\n",
       "    </tr>\n",
       "    <tr>\n",
       "      <th>3</th>\n",
       "      <td>NaN</td>\n",
       "      <td>P-1689802</td>\n",
       "    </tr>\n",
       "    <tr>\n",
       "      <th>4</th>\n",
       "      <td>NaN</td>\n",
       "      <td>A-1689813</td>\n",
       "    </tr>\n",
       "    <tr>\n",
       "      <th>5</th>\n",
       "      <td>NaN</td>\n",
       "      <td>F-1689824</td>\n",
       "    </tr>\n",
       "  </tbody>\n",
       "</table>\n",
       "</div>"
      ],
      "text/plain": [
       "    mpg vehicle id\n",
       "1  18.0  C-1689780\n",
       "2  15.0  B-1689791\n",
       "3   NaN  P-1689802\n",
       "4   NaN  A-1689813\n",
       "5   NaN  F-1689824"
      ]
     },
     "execution_count": 51,
     "metadata": {},
     "output_type": "execute_result"
    }
   ],
   "source": [
    "# 4.8.10\n",
    "feature_df2.loc[1:5, ['mpg', 'vehicle id']]"
   ]
  },
  {
   "cell_type": "code",
   "execution_count": 52,
   "id": "40eb938b-c028-46cb-843a-56bf80647570",
   "metadata": {},
   "outputs": [
    {
     "data": {
      "text/html": [
       "<div>\n",
       "<style scoped>\n",
       "    .dataframe tbody tr th:only-of-type {\n",
       "        vertical-align: middle;\n",
       "    }\n",
       "\n",
       "    .dataframe tbody tr th {\n",
       "        vertical-align: top;\n",
       "    }\n",
       "\n",
       "    .dataframe thead th {\n",
       "        text-align: right;\n",
       "    }\n",
       "</style>\n",
       "<table border=\"1\" class=\"dataframe\">\n",
       "  <thead>\n",
       "    <tr style=\"text-align: right;\">\n",
       "      <th></th>\n",
       "      <th>mpg</th>\n",
       "      <th>vehicle id</th>\n",
       "    </tr>\n",
       "  </thead>\n",
       "  <tbody>\n",
       "    <tr>\n",
       "      <th>1</th>\n",
       "      <td>18.0</td>\n",
       "      <td>C-1689780</td>\n",
       "    </tr>\n",
       "    <tr>\n",
       "      <th>2</th>\n",
       "      <td>15.0</td>\n",
       "      <td>B-1689791</td>\n",
       "    </tr>\n",
       "    <tr>\n",
       "      <th>3</th>\n",
       "      <td>NaN</td>\n",
       "      <td>P-1689802</td>\n",
       "    </tr>\n",
       "    <tr>\n",
       "      <th>4</th>\n",
       "      <td>NaN</td>\n",
       "      <td>A-1689813</td>\n",
       "    </tr>\n",
       "    <tr>\n",
       "      <th>5</th>\n",
       "      <td>NaN</td>\n",
       "      <td>F-1689824</td>\n",
       "    </tr>\n",
       "  </tbody>\n",
       "</table>\n",
       "</div>"
      ],
      "text/plain": [
       "    mpg vehicle id\n",
       "1  18.0  C-1689780\n",
       "2  15.0  B-1689791\n",
       "3   NaN  P-1689802\n",
       "4   NaN  A-1689813\n",
       "5   NaN  F-1689824"
      ]
     },
     "execution_count": 52,
     "metadata": {},
     "output_type": "execute_result"
    }
   ],
   "source": [
    "# 4.8.11\n",
    "feature_df2.iloc[:5, [0, 6]]"
   ]
  },
  {
   "cell_type": "code",
   "execution_count": 53,
   "id": "47e9cfe9-eac2-4523-af3e-86625cff246d",
   "metadata": {},
   "outputs": [
    {
     "data": {
      "text/html": [
       "<div>\n",
       "<style scoped>\n",
       "    .dataframe tbody tr th:only-of-type {\n",
       "        vertical-align: middle;\n",
       "    }\n",
       "\n",
       "    .dataframe tbody tr th {\n",
       "        vertical-align: top;\n",
       "    }\n",
       "\n",
       "    .dataframe thead th {\n",
       "        text-align: right;\n",
       "    }\n",
       "</style>\n",
       "<table border=\"1\" class=\"dataframe\">\n",
       "  <thead>\n",
       "    <tr style=\"text-align: right;\">\n",
       "      <th></th>\n",
       "      <th>mpg</th>\n",
       "      <th>vehicle id</th>\n",
       "    </tr>\n",
       "  </thead>\n",
       "  <tbody>\n",
       "    <tr>\n",
       "      <th>1</th>\n",
       "      <td>18.0</td>\n",
       "      <td>C-1689780</td>\n",
       "    </tr>\n",
       "    <tr>\n",
       "      <th>2</th>\n",
       "      <td>15.0</td>\n",
       "      <td>B-1689791</td>\n",
       "    </tr>\n",
       "    <tr>\n",
       "      <th>3</th>\n",
       "      <td>NaN</td>\n",
       "      <td>P-1689802</td>\n",
       "    </tr>\n",
       "    <tr>\n",
       "      <th>4</th>\n",
       "      <td>NaN</td>\n",
       "      <td>A-1689813</td>\n",
       "    </tr>\n",
       "  </tbody>\n",
       "</table>\n",
       "</div>"
      ],
      "text/plain": [
       "    mpg vehicle id\n",
       "1  18.0  C-1689780\n",
       "2  15.0  B-1689791\n",
       "3   NaN  P-1689802\n",
       "4   NaN  A-1689813"
      ]
     },
     "execution_count": 53,
     "metadata": {},
     "output_type": "execute_result"
    }
   ],
   "source": [
    "# 4.8.12\n",
    "feature_df2.iloc[:4, np.array([0, 6])]"
   ]
  },
  {
   "cell_type": "markdown",
   "id": "f4d6d1d5-1125-465e-9f41-e0995e64a9e4",
   "metadata": {},
   "source": [
    "<font size='4'>\n",
    "\n",
    "- You can update/modify certain values by using the assignment opertaor `=`."
   ]
  },
  {
   "cell_type": "code",
   "execution_count": 54,
   "id": "51b949ab-9b5d-47aa-8a53-699ee0ebd2af",
   "metadata": {},
   "outputs": [
    {
     "data": {
      "text/html": [
       "<div>\n",
       "<style scoped>\n",
       "    .dataframe tbody tr th:only-of-type {\n",
       "        vertical-align: middle;\n",
       "    }\n",
       "\n",
       "    .dataframe tbody tr th {\n",
       "        vertical-align: top;\n",
       "    }\n",
       "\n",
       "    .dataframe thead th {\n",
       "        text-align: right;\n",
       "    }\n",
       "</style>\n",
       "<table border=\"1\" class=\"dataframe\">\n",
       "  <thead>\n",
       "    <tr style=\"text-align: right;\">\n",
       "      <th></th>\n",
       "      <th>mpg</th>\n",
       "      <th>cylinders</th>\n",
       "      <th>displacement</th>\n",
       "      <th>horsepower</th>\n",
       "      <th>weight</th>\n",
       "      <th>acceleration</th>\n",
       "      <th>vehicle id</th>\n",
       "    </tr>\n",
       "  </thead>\n",
       "  <tbody>\n",
       "    <tr>\n",
       "      <th>1</th>\n",
       "      <td>18.0</td>\n",
       "      <td>8</td>\n",
       "      <td>307</td>\n",
       "      <td>130</td>\n",
       "      <td>3504</td>\n",
       "      <td>12.0</td>\n",
       "      <td>C-1689780</td>\n",
       "    </tr>\n",
       "    <tr>\n",
       "      <th>2</th>\n",
       "      <td>15.0</td>\n",
       "      <td>8</td>\n",
       "      <td>350</td>\n",
       "      <td>165</td>\n",
       "      <td>3693</td>\n",
       "      <td>11.5</td>\n",
       "      <td>B-1689791</td>\n",
       "    </tr>\n",
       "    <tr>\n",
       "      <th>3</th>\n",
       "      <td>NaN</td>\n",
       "      <td>8</td>\n",
       "      <td>318</td>\n",
       "      <td>150</td>\n",
       "      <td>3436</td>\n",
       "      <td>11.0</td>\n",
       "      <td>P-1689802</td>\n",
       "    </tr>\n",
       "    <tr>\n",
       "      <th>4</th>\n",
       "      <td>NaN</td>\n",
       "      <td>8</td>\n",
       "      <td>304</td>\n",
       "      <td>150</td>\n",
       "      <td>3433</td>\n",
       "      <td>12.0</td>\n",
       "      <td>A-1689813</td>\n",
       "    </tr>\n",
       "    <tr>\n",
       "      <th>5</th>\n",
       "      <td>NaN</td>\n",
       "      <td>8</td>\n",
       "      <td>302</td>\n",
       "      <td>140</td>\n",
       "      <td>3449</td>\n",
       "      <td>10.5</td>\n",
       "      <td>F-1689824</td>\n",
       "    </tr>\n",
       "  </tbody>\n",
       "</table>\n",
       "</div>"
      ],
      "text/plain": [
       "    mpg  cylinders  displacement horsepower  weight  acceleration vehicle id\n",
       "1  18.0          8           307        130    3504          12.0  C-1689780\n",
       "2  15.0          8           350        165    3693          11.5  B-1689791\n",
       "3   NaN          8           318        150    3436          11.0  P-1689802\n",
       "4   NaN          8           304        150    3433          12.0  A-1689813\n",
       "5   NaN          8           302        140    3449          10.5  F-1689824"
      ]
     },
     "execution_count": 54,
     "metadata": {},
     "output_type": "execute_result"
    }
   ],
   "source": [
    "# 4.8.13\n",
    "feature_df2.head(n=5)\n",
    "# We want to change the third mpg from NaN to 16.0."
   ]
  },
  {
   "cell_type": "code",
   "execution_count": 55,
   "id": "5441c14e-04bd-48b1-9876-64726b97fbd6",
   "metadata": {},
   "outputs": [
    {
     "data": {
      "text/html": [
       "<div>\n",
       "<style scoped>\n",
       "    .dataframe tbody tr th:only-of-type {\n",
       "        vertical-align: middle;\n",
       "    }\n",
       "\n",
       "    .dataframe tbody tr th {\n",
       "        vertical-align: top;\n",
       "    }\n",
       "\n",
       "    .dataframe thead th {\n",
       "        text-align: right;\n",
       "    }\n",
       "</style>\n",
       "<table border=\"1\" class=\"dataframe\">\n",
       "  <thead>\n",
       "    <tr style=\"text-align: right;\">\n",
       "      <th></th>\n",
       "      <th>mpg</th>\n",
       "      <th>cylinders</th>\n",
       "      <th>displacement</th>\n",
       "      <th>horsepower</th>\n",
       "      <th>weight</th>\n",
       "      <th>acceleration</th>\n",
       "      <th>vehicle id</th>\n",
       "    </tr>\n",
       "  </thead>\n",
       "  <tbody>\n",
       "    <tr>\n",
       "      <th>1</th>\n",
       "      <td>18.0</td>\n",
       "      <td>8</td>\n",
       "      <td>307</td>\n",
       "      <td>130</td>\n",
       "      <td>3504</td>\n",
       "      <td>12.0</td>\n",
       "      <td>C-1689780</td>\n",
       "    </tr>\n",
       "    <tr>\n",
       "      <th>2</th>\n",
       "      <td>15.0</td>\n",
       "      <td>8</td>\n",
       "      <td>350</td>\n",
       "      <td>165</td>\n",
       "      <td>3693</td>\n",
       "      <td>11.5</td>\n",
       "      <td>B-1689791</td>\n",
       "    </tr>\n",
       "    <tr>\n",
       "      <th>3</th>\n",
       "      <td>16.0</td>\n",
       "      <td>8</td>\n",
       "      <td>318</td>\n",
       "      <td>150</td>\n",
       "      <td>3436</td>\n",
       "      <td>11.0</td>\n",
       "      <td>P-1689802</td>\n",
       "    </tr>\n",
       "    <tr>\n",
       "      <th>4</th>\n",
       "      <td>NaN</td>\n",
       "      <td>8</td>\n",
       "      <td>304</td>\n",
       "      <td>150</td>\n",
       "      <td>3433</td>\n",
       "      <td>12.0</td>\n",
       "      <td>A-1689813</td>\n",
       "    </tr>\n",
       "    <tr>\n",
       "      <th>5</th>\n",
       "      <td>NaN</td>\n",
       "      <td>8</td>\n",
       "      <td>302</td>\n",
       "      <td>140</td>\n",
       "      <td>3449</td>\n",
       "      <td>10.5</td>\n",
       "      <td>F-1689824</td>\n",
       "    </tr>\n",
       "  </tbody>\n",
       "</table>\n",
       "</div>"
      ],
      "text/plain": [
       "    mpg  cylinders  displacement horsepower  weight  acceleration vehicle id\n",
       "1  18.0          8           307        130    3504          12.0  C-1689780\n",
       "2  15.0          8           350        165    3693          11.5  B-1689791\n",
       "3  16.0          8           318        150    3436          11.0  P-1689802\n",
       "4   NaN          8           304        150    3433          12.0  A-1689813\n",
       "5   NaN          8           302        140    3449          10.5  F-1689824"
      ]
     },
     "execution_count": 55,
     "metadata": {},
     "output_type": "execute_result"
    }
   ],
   "source": [
    "# 4.8.14\n",
    "feature_df2.loc[3, ['mpg']] = 16.0\n",
    "feature_df2.head(n=5)"
   ]
  },
  {
   "cell_type": "code",
   "execution_count": 56,
   "id": "60382a1a-84bf-429b-ae25-5ae223145192",
   "metadata": {},
   "outputs": [
    {
     "data": {
      "text/html": [
       "<div>\n",
       "<style scoped>\n",
       "    .dataframe tbody tr th:only-of-type {\n",
       "        vertical-align: middle;\n",
       "    }\n",
       "\n",
       "    .dataframe tbody tr th {\n",
       "        vertical-align: top;\n",
       "    }\n",
       "\n",
       "    .dataframe thead th {\n",
       "        text-align: right;\n",
       "    }\n",
       "</style>\n",
       "<table border=\"1\" class=\"dataframe\">\n",
       "  <thead>\n",
       "    <tr style=\"text-align: right;\">\n",
       "      <th></th>\n",
       "      <th>mpg</th>\n",
       "      <th>cylinders</th>\n",
       "      <th>displacement</th>\n",
       "      <th>horsepower</th>\n",
       "      <th>weight</th>\n",
       "      <th>acceleration</th>\n",
       "      <th>vehicle id</th>\n",
       "    </tr>\n",
       "  </thead>\n",
       "  <tbody>\n",
       "    <tr>\n",
       "      <th>1</th>\n",
       "      <td>18.0</td>\n",
       "      <td>8</td>\n",
       "      <td>307</td>\n",
       "      <td>130</td>\n",
       "      <td>3504</td>\n",
       "      <td>12.0</td>\n",
       "      <td>C-1689780</td>\n",
       "    </tr>\n",
       "    <tr>\n",
       "      <th>2</th>\n",
       "      <td>15.0</td>\n",
       "      <td>8</td>\n",
       "      <td>350</td>\n",
       "      <td>165</td>\n",
       "      <td>3693</td>\n",
       "      <td>11.5</td>\n",
       "      <td>B-1689791</td>\n",
       "    </tr>\n",
       "    <tr>\n",
       "      <th>3</th>\n",
       "      <td>NaN</td>\n",
       "      <td>8</td>\n",
       "      <td>318</td>\n",
       "      <td>150</td>\n",
       "      <td>3436</td>\n",
       "      <td>11.0</td>\n",
       "      <td>P-1689802</td>\n",
       "    </tr>\n",
       "    <tr>\n",
       "      <th>4</th>\n",
       "      <td>NaN</td>\n",
       "      <td>8</td>\n",
       "      <td>304</td>\n",
       "      <td>150</td>\n",
       "      <td>3433</td>\n",
       "      <td>12.0</td>\n",
       "      <td>A-1689813</td>\n",
       "    </tr>\n",
       "    <tr>\n",
       "      <th>5</th>\n",
       "      <td>NaN</td>\n",
       "      <td>8</td>\n",
       "      <td>302</td>\n",
       "      <td>140</td>\n",
       "      <td>3449</td>\n",
       "      <td>10.5</td>\n",
       "      <td>F-1689824</td>\n",
       "    </tr>\n",
       "  </tbody>\n",
       "</table>\n",
       "</div>"
      ],
      "text/plain": [
       "    mpg  cylinders  displacement horsepower  weight  acceleration vehicle id\n",
       "1  18.0          8           307        130    3504          12.0  C-1689780\n",
       "2  15.0          8           350        165    3693          11.5  B-1689791\n",
       "3   NaN          8           318        150    3436          11.0  P-1689802\n",
       "4   NaN          8           304        150    3433          12.0  A-1689813\n",
       "5   NaN          8           302        140    3449          10.5  F-1689824"
      ]
     },
     "execution_count": 56,
     "metadata": {},
     "output_type": "execute_result"
    }
   ],
   "source": [
    "# 4.8.15\n",
    "feature_df2.loc[3, ['mpg']] = None\n",
    "feature_df2.head(n=5)"
   ]
  },
  {
   "cell_type": "code",
   "execution_count": 57,
   "id": "7e5b6f02-52d5-4685-b963-b25fd728b589",
   "metadata": {},
   "outputs": [
    {
     "data": {
      "text/html": [
       "<div>\n",
       "<style scoped>\n",
       "    .dataframe tbody tr th:only-of-type {\n",
       "        vertical-align: middle;\n",
       "    }\n",
       "\n",
       "    .dataframe tbody tr th {\n",
       "        vertical-align: top;\n",
       "    }\n",
       "\n",
       "    .dataframe thead th {\n",
       "        text-align: right;\n",
       "    }\n",
       "</style>\n",
       "<table border=\"1\" class=\"dataframe\">\n",
       "  <thead>\n",
       "    <tr style=\"text-align: right;\">\n",
       "      <th></th>\n",
       "      <th>mpg</th>\n",
       "      <th>cylinders</th>\n",
       "      <th>displacement</th>\n",
       "      <th>horsepower</th>\n",
       "      <th>weight</th>\n",
       "      <th>acceleration</th>\n",
       "      <th>vehicle id</th>\n",
       "    </tr>\n",
       "  </thead>\n",
       "  <tbody>\n",
       "    <tr>\n",
       "      <th>1</th>\n",
       "      <td>18.0</td>\n",
       "      <td>8</td>\n",
       "      <td>307</td>\n",
       "      <td>130</td>\n",
       "      <td>3504</td>\n",
       "      <td>12.0</td>\n",
       "      <td>C-1689780</td>\n",
       "    </tr>\n",
       "    <tr>\n",
       "      <th>2</th>\n",
       "      <td>15.0</td>\n",
       "      <td>8</td>\n",
       "      <td>350</td>\n",
       "      <td>165</td>\n",
       "      <td>3693</td>\n",
       "      <td>11.5</td>\n",
       "      <td>B-1689791</td>\n",
       "    </tr>\n",
       "    <tr>\n",
       "      <th>3</th>\n",
       "      <td>16.0</td>\n",
       "      <td>8</td>\n",
       "      <td>318</td>\n",
       "      <td>150</td>\n",
       "      <td>3436</td>\n",
       "      <td>11.0</td>\n",
       "      <td>P-1689802</td>\n",
       "    </tr>\n",
       "    <tr>\n",
       "      <th>4</th>\n",
       "      <td>NaN</td>\n",
       "      <td>8</td>\n",
       "      <td>304</td>\n",
       "      <td>150</td>\n",
       "      <td>3433</td>\n",
       "      <td>12.0</td>\n",
       "      <td>A-1689813</td>\n",
       "    </tr>\n",
       "    <tr>\n",
       "      <th>5</th>\n",
       "      <td>NaN</td>\n",
       "      <td>8</td>\n",
       "      <td>302</td>\n",
       "      <td>140</td>\n",
       "      <td>3449</td>\n",
       "      <td>10.5</td>\n",
       "      <td>F-1689824</td>\n",
       "    </tr>\n",
       "  </tbody>\n",
       "</table>\n",
       "</div>"
      ],
      "text/plain": [
       "    mpg  cylinders  displacement horsepower  weight  acceleration vehicle id\n",
       "1  18.0          8           307        130    3504          12.0  C-1689780\n",
       "2  15.0          8           350        165    3693          11.5  B-1689791\n",
       "3  16.0          8           318        150    3436          11.0  P-1689802\n",
       "4   NaN          8           304        150    3433          12.0  A-1689813\n",
       "5   NaN          8           302        140    3449          10.5  F-1689824"
      ]
     },
     "execution_count": 57,
     "metadata": {},
     "output_type": "execute_result"
    }
   ],
   "source": [
    "# 4.8.16\n",
    "# Or we can use iloc[], make sure all inputs are integers (starting from 0).\n",
    "feature_df2.iloc[2, 0] = 16.0\n",
    "feature_df2.head(n=5)"
   ]
  },
  {
   "cell_type": "markdown",
   "id": "0986205d-d3e3-41d0-80b9-0a7f91c04c5e",
   "metadata": {},
   "source": [
    "### 4.9. Conditional slicing\n",
    "\n",
    "<font size='4'>\n",
    "\n",
    "- For example, we want to find the rows where **cylinders** are 6.\n",
    "- We isolate rows using the square bractes `[]` and use equal operator `==` to identify cylinders are 6."
   ]
  },
  {
   "cell_type": "code",
   "execution_count": 58,
   "id": "b4fb1654-4a35-4aba-a73c-2439f05573b1",
   "metadata": {},
   "outputs": [
    {
     "data": {
      "text/html": [
       "<div>\n",
       "<style scoped>\n",
       "    .dataframe tbody tr th:only-of-type {\n",
       "        vertical-align: middle;\n",
       "    }\n",
       "\n",
       "    .dataframe tbody tr th {\n",
       "        vertical-align: top;\n",
       "    }\n",
       "\n",
       "    .dataframe thead th {\n",
       "        text-align: right;\n",
       "    }\n",
       "</style>\n",
       "<table border=\"1\" class=\"dataframe\">\n",
       "  <thead>\n",
       "    <tr style=\"text-align: right;\">\n",
       "      <th></th>\n",
       "      <th>mpg</th>\n",
       "      <th>cylinders</th>\n",
       "      <th>displacement</th>\n",
       "      <th>horsepower</th>\n",
       "      <th>weight</th>\n",
       "      <th>acceleration</th>\n",
       "      <th>vehicle id</th>\n",
       "    </tr>\n",
       "  </thead>\n",
       "  <tbody>\n",
       "    <tr>\n",
       "      <th>16</th>\n",
       "      <td>22.0</td>\n",
       "      <td>6</td>\n",
       "      <td>198</td>\n",
       "      <td>95</td>\n",
       "      <td>2833</td>\n",
       "      <td>15.5</td>\n",
       "      <td>P-1689945</td>\n",
       "    </tr>\n",
       "    <tr>\n",
       "      <th>17</th>\n",
       "      <td>18.0</td>\n",
       "      <td>6</td>\n",
       "      <td>199</td>\n",
       "      <td>97</td>\n",
       "      <td>2774</td>\n",
       "      <td>15.5</td>\n",
       "      <td>A-1689956</td>\n",
       "    </tr>\n",
       "    <tr>\n",
       "      <th>18</th>\n",
       "      <td>21.0</td>\n",
       "      <td>6</td>\n",
       "      <td>200</td>\n",
       "      <td>85</td>\n",
       "      <td>2587</td>\n",
       "      <td>16.0</td>\n",
       "      <td>F-1689967</td>\n",
       "    </tr>\n",
       "    <tr>\n",
       "      <th>25</th>\n",
       "      <td>21.0</td>\n",
       "      <td>6</td>\n",
       "      <td>199</td>\n",
       "      <td>90</td>\n",
       "      <td>2648</td>\n",
       "      <td>15.0</td>\n",
       "      <td>A-1690044</td>\n",
       "    </tr>\n",
       "    <tr>\n",
       "      <th>34</th>\n",
       "      <td>19.0</td>\n",
       "      <td>6</td>\n",
       "      <td>232</td>\n",
       "      <td>100</td>\n",
       "      <td>2634</td>\n",
       "      <td>13.0</td>\n",
       "      <td>A-1690143</td>\n",
       "    </tr>\n",
       "    <tr>\n",
       "      <th>...</th>\n",
       "      <td>...</td>\n",
       "      <td>...</td>\n",
       "      <td>...</td>\n",
       "      <td>...</td>\n",
       "      <td>...</td>\n",
       "      <td>...</td>\n",
       "      <td>...</td>\n",
       "    </tr>\n",
       "    <tr>\n",
       "      <th>366</th>\n",
       "      <td>20.2</td>\n",
       "      <td>6</td>\n",
       "      <td>200</td>\n",
       "      <td>88</td>\n",
       "      <td>3060</td>\n",
       "      <td>17.1</td>\n",
       "      <td>F-1693795</td>\n",
       "    </tr>\n",
       "    <tr>\n",
       "      <th>367</th>\n",
       "      <td>17.6</td>\n",
       "      <td>6</td>\n",
       "      <td>225</td>\n",
       "      <td>85</td>\n",
       "      <td>3465</td>\n",
       "      <td>16.6</td>\n",
       "      <td>C-1693806</td>\n",
       "    </tr>\n",
       "    <tr>\n",
       "      <th>387</th>\n",
       "      <td>25.0</td>\n",
       "      <td>6</td>\n",
       "      <td>181</td>\n",
       "      <td>110</td>\n",
       "      <td>2945</td>\n",
       "      <td>16.4</td>\n",
       "      <td>B-1694026</td>\n",
       "    </tr>\n",
       "    <tr>\n",
       "      <th>388</th>\n",
       "      <td>38.0</td>\n",
       "      <td>6</td>\n",
       "      <td>262</td>\n",
       "      <td>85</td>\n",
       "      <td>3015</td>\n",
       "      <td>17.0</td>\n",
       "      <td>O-1694037</td>\n",
       "    </tr>\n",
       "    <tr>\n",
       "      <th>390</th>\n",
       "      <td>22.0</td>\n",
       "      <td>6</td>\n",
       "      <td>232</td>\n",
       "      <td>112</td>\n",
       "      <td>2835</td>\n",
       "      <td>14.7</td>\n",
       "      <td>F-1694059</td>\n",
       "    </tr>\n",
       "  </tbody>\n",
       "</table>\n",
       "<p>84 rows × 7 columns</p>\n",
       "</div>"
      ],
      "text/plain": [
       "      mpg  cylinders  displacement horsepower  weight  acceleration vehicle id\n",
       "16   22.0          6           198         95    2833          15.5  P-1689945\n",
       "17   18.0          6           199         97    2774          15.5  A-1689956\n",
       "18   21.0          6           200         85    2587          16.0  F-1689967\n",
       "25   21.0          6           199         90    2648          15.0  A-1690044\n",
       "34   19.0          6           232        100    2634          13.0  A-1690143\n",
       "..    ...        ...           ...        ...     ...           ...        ...\n",
       "366  20.2          6           200         88    3060          17.1  F-1693795\n",
       "367  17.6          6           225         85    3465          16.6  C-1693806\n",
       "387  25.0          6           181        110    2945          16.4  B-1694026\n",
       "388  38.0          6           262         85    3015          17.0  O-1694037\n",
       "390  22.0          6           232        112    2835          14.7  F-1694059\n",
       "\n",
       "[84 rows x 7 columns]"
      ]
     },
     "execution_count": 58,
     "metadata": {},
     "output_type": "execute_result"
    }
   ],
   "source": [
    "# 4.9.1\n",
    "feature_df2[feature_df2.cylinders==6]"
   ]
  },
  {
   "cell_type": "code",
   "execution_count": 59,
   "id": "309fb7aa-eba1-48c8-a9b1-9404777f3701",
   "metadata": {},
   "outputs": [
    {
     "data": {
      "text/html": [
       "<div>\n",
       "<style scoped>\n",
       "    .dataframe tbody tr th:only-of-type {\n",
       "        vertical-align: middle;\n",
       "    }\n",
       "\n",
       "    .dataframe tbody tr th {\n",
       "        vertical-align: top;\n",
       "    }\n",
       "\n",
       "    .dataframe thead th {\n",
       "        text-align: right;\n",
       "    }\n",
       "</style>\n",
       "<table border=\"1\" class=\"dataframe\">\n",
       "  <thead>\n",
       "    <tr style=\"text-align: right;\">\n",
       "      <th></th>\n",
       "      <th>mpg</th>\n",
       "      <th>cylinders</th>\n",
       "      <th>vehicle id</th>\n",
       "    </tr>\n",
       "  </thead>\n",
       "  <tbody>\n",
       "    <tr>\n",
       "      <th>15</th>\n",
       "      <td>24.0</td>\n",
       "      <td>4</td>\n",
       "      <td>T-1689934</td>\n",
       "    </tr>\n",
       "    <tr>\n",
       "      <th>16</th>\n",
       "      <td>22.0</td>\n",
       "      <td>6</td>\n",
       "      <td>P-1689945</td>\n",
       "    </tr>\n",
       "    <tr>\n",
       "      <th>18</th>\n",
       "      <td>21.0</td>\n",
       "      <td>6</td>\n",
       "      <td>F-1689967</td>\n",
       "    </tr>\n",
       "    <tr>\n",
       "      <th>19</th>\n",
       "      <td>27.0</td>\n",
       "      <td>4</td>\n",
       "      <td>D-1689978</td>\n",
       "    </tr>\n",
       "    <tr>\n",
       "      <th>20</th>\n",
       "      <td>26.0</td>\n",
       "      <td>4</td>\n",
       "      <td>V-1689989</td>\n",
       "    </tr>\n",
       "    <tr>\n",
       "      <th>...</th>\n",
       "      <td>...</td>\n",
       "      <td>...</td>\n",
       "      <td>...</td>\n",
       "    </tr>\n",
       "    <tr>\n",
       "      <th>394</th>\n",
       "      <td>27.0</td>\n",
       "      <td>4</td>\n",
       "      <td>F-1694103</td>\n",
       "    </tr>\n",
       "    <tr>\n",
       "      <th>395</th>\n",
       "      <td>44.0</td>\n",
       "      <td>4</td>\n",
       "      <td>V-1694114</td>\n",
       "    </tr>\n",
       "    <tr>\n",
       "      <th>396</th>\n",
       "      <td>32.0</td>\n",
       "      <td>4</td>\n",
       "      <td>D-1694125</td>\n",
       "    </tr>\n",
       "    <tr>\n",
       "      <th>397</th>\n",
       "      <td>28.0</td>\n",
       "      <td>4</td>\n",
       "      <td>F-1694136</td>\n",
       "    </tr>\n",
       "    <tr>\n",
       "      <th>398</th>\n",
       "      <td>31.0</td>\n",
       "      <td>4</td>\n",
       "      <td>C-1694147</td>\n",
       "    </tr>\n",
       "  </tbody>\n",
       "</table>\n",
       "<p>238 rows × 3 columns</p>\n",
       "</div>"
      ],
      "text/plain": [
       "      mpg  cylinders vehicle id\n",
       "15   24.0          4  T-1689934\n",
       "16   22.0          6  P-1689945\n",
       "18   21.0          6  F-1689967\n",
       "19   27.0          4  D-1689978\n",
       "20   26.0          4  V-1689989\n",
       "..    ...        ...        ...\n",
       "394  27.0          4  F-1694103\n",
       "395  44.0          4  V-1694114\n",
       "396  32.0          4  D-1694125\n",
       "397  28.0          4  F-1694136\n",
       "398  31.0          4  C-1694147\n",
       "\n",
       "[238 rows x 3 columns]"
      ]
     },
     "execution_count": 59,
     "metadata": {},
     "output_type": "execute_result"
    }
   ],
   "source": [
    "# 4.9.2\n",
    "feature_df2.loc[feature_df2.mpg>20, ['mpg', 'cylinders', 'vehicle id']]"
   ]
  },
  {
   "cell_type": "markdown",
   "id": "2b244f03-f3ac-4f31-ab9f-8b6ae7805429",
   "metadata": {},
   "source": [
    "## 5. Debugging in PyCharm\n",
    "\n",
    "<font size='4'>\n",
    "\n",
    "https://www.jetbrains.com/help/pycharm/debugging-your-first-python-application.html#summary "
   ]
  }
 ],
 "metadata": {
  "kernelspec": {
   "display_name": "Python 3 (ipykernel)",
   "language": "python",
   "name": "python3"
  },
  "language_info": {
   "codemirror_mode": {
    "name": "ipython",
    "version": 3
   },
   "file_extension": ".py",
   "mimetype": "text/x-python",
   "name": "python",
   "nbconvert_exporter": "python",
   "pygments_lexer": "ipython3",
   "version": "3.11.4"
  }
 },
 "nbformat": 4,
 "nbformat_minor": 5
}
