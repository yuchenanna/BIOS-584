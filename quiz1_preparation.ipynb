{
 "cells": [
  {
   "cell_type": "markdown",
   "id": "e563d4c6-4c40-4f4e-8433-cea5e228abb9",
   "metadata": {},
   "source": [
    "# Preparation for Quiz 1"
   ]
  },
  {
   "cell_type": "markdown",
   "id": "c25732d1-e34c-49b1-9802-0226d448789f",
   "metadata": {},
   "source": [
    "## 1. Create a PyCharm project under GitHub folder"
   ]
  },
  {
   "cell_type": "markdown",
   "id": "3a3606cc-7b94-4ea2-b2df-d31935f934b8",
   "metadata": {},
   "source": [
    "<font size = '4'>\n",
    "\n",
    "We covered creating PyCharm projects and GitHub folder in the first class. \n",
    "\n",
    "It is more convienent for us to create a PyCharm project such that any changes can be picked up by the GitHub desktop automatically (as well as commit a change and push it online).\n",
    "\n",
    "One way to do that is to simply create a PyCharm project under your own GitHub BIOS-584 repo. <br>\n",
    "<span style=\"color: red;\"> If you have already successfully done it, you can ignore this section! </span>\n",
    "\n",
    "For example, after you have forked, cloned the BIOS-584 repo on your local GitHub desktop, you can create a new PyCharm project as follows:\n",
    "\n",
    "- Open PyCharm, click \"New Project\"\n",
    "- <img src=\"figures/quiz1_prep_1.png\" alt=\"drawing\" width=\"600\"/>\n",
    "\n",
    "- In \"Location\", type the directory of the local GitHub repo and click \"Create\" below (snapshot did not show it)\n",
    "\n",
    "- In Mac, the directory should be `/Users/yourname/Documents/GitHub/BIOS-584`\n",
    "- <img src=\"figures/quiz1_prep_2.png\" alt=\"drawing\" width=\"600\"/>\n",
    "\n",
    "- Since the original repo is not empty, you may receive a warning message. Click \"Create from Existing Sources\"\n",
    "- <img src=\"figures/quiz1_prep_3.png\" alt=\"drawing\" width=\"600\"/>\n",
    "\n",
    "\n",
    "- It will create a new PyCharm project under the GitHub folder \"BIOS-584\" repo with a `.venv` folder.\n",
    "\n",
    "- The entire interface looks like\n",
    "- <img src=\"figures/quiz1_prep_4.png\" alt=\"drawing\" width=\"800\"/>\n",
    "\n",
    "- When you create a new python file, PyCharm asks you whether you want to add it to Git, click \"Add\"\n",
    "\n",
    "- In that case, the GitHub desktop can detect the changes you have made automatically.\n",
    "\n",
    "    - For example, I am creating this `quiz1_preparation.ipynb` under `BIOS-584` now, and you can see the changes below:\n",
    "    - <img src=\"figures/quiz1_prep_5.png\" alt=\"drawing\" width=\"800\"/>"
   ]
  },
  {
   "cell_type": "markdown",
   "id": "572b23b1-09ad-420c-811d-4d4916cb3bb4",
   "metadata": {},
   "source": [
    "## 1.1 One thing to note that:\n",
    "\n",
    "<font size = '4'>\n",
    "\n",
    "- Do not commit changes to any files nor folders that start with a \".\", such as `.DS_Store`, `.idea`, and `.ipynb_checkpoints`.\n",
    "- Windows may have different files from Mac.\n",
    "- Only commit changes to what you have actually worked with."
   ]
  },
  {
   "cell_type": "markdown",
   "id": "23ac7750-f605-4512-88e4-31c8fb838425",
   "metadata": {},
   "source": [
    "## 2. Useful functions with list"
   ]
  },
  {
   "cell_type": "markdown",
   "id": "6f1f5d94-af5b-4996-ae1a-192badc14eb7",
   "metadata": {},
   "source": [
    "<font size = '4'>\n",
    "\n",
    "We learned list last week as well. There are some useful list functions that can help you work on it faster. <br>\n",
    "\n",
    "The general syntax is: `list_name.function_name(input_parameter)`.\n",
    "\n",
    "List is not assignable, so you CANNOT write `list_name = list_name.function_name()`. <br>\n",
    "Instead, when you run `list_name.function_name(input_parameter)`, the `list_name` itself is updated, which is called **mutable**. We will come back to this concept later.\n",
    "\n",
    "- `.append()`: Add a single element to the end of that list.\n",
    "- `.count(item)`: Count occurrences of an item in the list.\n",
    "- `.copy()`: Create a shallow copy of the list.\n",
    "- `.index(item)`: Find the idnex of the first occurrences of an item.\n",
    "- `.insert(position, item)`: Insert an item at a specific position.\n",
    "- `.pop(position)`: Remove and return the item at a specific position.\n",
    "- `.remove(item)`: Remove the first occurrence of an item.\n",
    "- `.reverse()`: Reverse the order of the list."
   ]
  },
  {
   "cell_type": "markdown",
   "id": "b52abe6f-13fb-4f66-a6a6-b0a99179ca35",
   "metadata": {},
   "source": [
    "### Practice:\n",
    "\n",
    "<font size='4'>\n",
    "Please try the following codes to see what the results look like:"
   ]
  },
  {
   "cell_type": "code",
   "execution_count": 1,
   "id": "6f969c8e-98b2-49b3-a173-e55f7450f613",
   "metadata": {},
   "outputs": [
    {
     "name": "stdout",
     "output_type": "stream",
     "text": [
      "['Manic episode', 'Bipolar disorder', 'Depressive episode', 'Major depressive disorder, recurrent', 'Persistent mood [affective] disorders', 'Unspecified mood [affective] disorder']\n"
     ]
    }
   ],
   "source": [
    "mood_disorder_ls = ['Manic episode', 'Bipolar disorder', 'Depressive episode', \n",
    "                    'Major depressive disorder, recurrent', 'Persistent mood [affective] disorders'\n",
    "                   ]\n",
    "\n",
    "mood_disorder_ls.append('Unspecified mood [affective] disorder')\n",
    "print(mood_disorder_ls)"
   ]
  },
  {
   "cell_type": "code",
   "execution_count": 2,
   "id": "eb1094e6-fa9b-4b8a-8a8b-9e1ad2757e90",
   "metadata": {},
   "outputs": [
    {
     "name": "stdout",
     "output_type": "stream",
     "text": [
      "1\n",
      "0\n"
     ]
    }
   ],
   "source": [
    "print(mood_disorder_ls.count('Manic episode')) # count the number of item with \"Manic episode\"\n",
    "print(mood_disorder_ls.count('Phobic anxiety disorders')) # count the number of item with \"Phobic anxiety disorders\""
   ]
  },
  {
   "cell_type": "code",
   "execution_count": 3,
   "id": "736de117-d867-4343-80f9-3b5bee18eed7",
   "metadata": {},
   "outputs": [
    {
     "name": "stdout",
     "output_type": "stream",
     "text": [
      "2\n"
     ]
    }
   ],
   "source": [
    "print(mood_disorder_ls.index('Depressive episode')) # Find the location of \"Depressive episode\""
   ]
  },
  {
   "cell_type": "code",
   "execution_count": 4,
   "id": "e1f9e382-29cb-4875-a347-ca0e2d8d16f5",
   "metadata": {},
   "outputs": [],
   "source": [
    "mood_disorder_ls.insert(2, 'Strange disorder')\n",
    "# Insert \"Strange disorder\" at index 2 such that \"Strange disorder\" will be at index 2 after insertion."
   ]
  },
  {
   "cell_type": "code",
   "execution_count": 5,
   "id": "384e43b8-5442-4229-9b38-29357b34e1e0",
   "metadata": {},
   "outputs": [
    {
     "name": "stdout",
     "output_type": "stream",
     "text": [
      "['Manic episode', 'Bipolar disorder', 'Strange disorder', 'Depressive episode', 'Major depressive disorder, recurrent', 'Persistent mood [affective] disorders', 'Unspecified mood [affective] disorder']\n"
     ]
    }
   ],
   "source": [
    "print(mood_disorder_ls)\n",
    "# Since list is mutable, after .insert(), the list is updated itself. No variable assignment is needed."
   ]
  },
  {
   "cell_type": "code",
   "execution_count": 6,
   "id": "2fe7f98f-3b5b-40c9-8d43-09d3637444e1",
   "metadata": {},
   "outputs": [
    {
     "data": {
      "text/plain": [
       "'Strange disorder'"
      ]
     },
     "execution_count": 6,
     "metadata": {},
     "output_type": "execute_result"
    }
   ],
   "source": [
    "mood_disorder_ls.pop(2)"
   ]
  },
  {
   "cell_type": "code",
   "execution_count": 7,
   "id": "4ffb2ee3-c704-49ec-bf93-b60ff52c5fde",
   "metadata": {},
   "outputs": [
    {
     "name": "stdout",
     "output_type": "stream",
     "text": [
      "['Manic episode', 'Bipolar disorder', 'Depressive episode', 'Major depressive disorder, recurrent', 'Persistent mood [affective] disorders', 'Unspecified mood [affective] disorder']\n"
     ]
    }
   ],
   "source": [
    "print(mood_disorder_ls)\n",
    "# We remove the new insertion"
   ]
  },
  {
   "cell_type": "code",
   "execution_count": 8,
   "id": "87107a3d-85ad-40e0-a677-633b0d8f444f",
   "metadata": {},
   "outputs": [
    {
     "name": "stdout",
     "output_type": "stream",
     "text": [
      "['Manic episode', 'Bipolar disorder', 'Depressive episode', 'Major depressive disorder, recurrent', 'Persistent mood [affective] disorders', 'Unspecified mood [affective] disorder', 'Manic episode']\n"
     ]
    }
   ],
   "source": [
    "mood_disorder_ls.append('Manic episode')\n",
    "print(mood_disorder_ls) # We will have \"manic episode\" twice!"
   ]
  },
  {
   "cell_type": "code",
   "execution_count": 9,
   "id": "bad9b963-2355-4397-968b-a989ede3ce2e",
   "metadata": {},
   "outputs": [
    {
     "name": "stdout",
     "output_type": "stream",
     "text": [
      "['Bipolar disorder', 'Depressive episode', 'Major depressive disorder, recurrent', 'Persistent mood [affective] disorders', 'Unspecified mood [affective] disorder', 'Manic episode']\n"
     ]
    }
   ],
   "source": [
    "mood_disorder_ls.remove('Manic episode')\n",
    "print(mood_disorder_ls) # It removes the first \"manic episode\"."
   ]
  },
  {
   "cell_type": "code",
   "execution_count": 10,
   "id": "232a8372-6e98-4014-8328-59538d742730",
   "metadata": {},
   "outputs": [
    {
     "name": "stdout",
     "output_type": "stream",
     "text": [
      "['Manic episode', 'Unspecified mood [affective] disorder', 'Persistent mood [affective] disorders', 'Major depressive disorder, recurrent', 'Depressive episode', 'Bipolar disorder']\n"
     ]
    }
   ],
   "source": [
    "mood_disorder_ls.reverse()\n",
    "print(mood_disorder_ls)"
   ]
  }
 ],
 "metadata": {
  "kernelspec": {
   "display_name": "Python 3 (ipykernel)",
   "language": "python",
   "name": "python3"
  },
  "language_info": {
   "codemirror_mode": {
    "name": "ipython",
    "version": 3
   },
   "file_extension": ".py",
   "mimetype": "text/x-python",
   "name": "python",
   "nbconvert_exporter": "python",
   "pygments_lexer": "ipython3",
   "version": "3.11.4"
  }
 },
 "nbformat": 4,
 "nbformat_minor": 5
}
