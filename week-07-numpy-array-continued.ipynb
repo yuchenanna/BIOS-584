{
 "cells": [
  {
   "attachments": {},
   "cell_type": "markdown",
   "metadata": {},
   "source": [
    "# Week 07: NumPy Arrays (Cont'ed)"
   ]
  },
  {
   "attachments": {},
   "cell_type": "markdown",
   "metadata": {},
   "source": [
    "## 0. Import Libraries "
   ]
  },
  {
   "cell_type": "code",
   "execution_count": 1,
   "metadata": {},
   "outputs": [],
   "source": [
    "# the \"pandas\" library is for manipualting datasets\n",
    "import pandas as pd\n",
    "import numpy as np\n",
    "import matplotlib.pyplot as plt\n",
    "np.random.seed(100)"
   ]
  },
  {
   "cell_type": "markdown",
   "metadata": {},
   "source": [
    "## 1. Broadcasting"
   ]
  },
  {
   "cell_type": "code",
   "execution_count": 12,
   "metadata": {},
   "outputs": [],
   "source": [
    "# 1.1.Initialize a 3x4 array of ones and assign it to the variable `x`\n",
    "x = np.ones([3,4])\n"
   ]
  },
  {
   "cell_type": "code",
   "execution_count": 3,
   "metadata": {},
   "outputs": [],
   "source": [
    "# 1.2. Initialize `x` and `y`\n",
    "x = np.ones((3,4))\n",
    "y = np.random.random((5,1,4))\n"
   ]
  },
  {
   "cell_type": "code",
   "execution_count": 5,
   "metadata": {},
   "outputs": [],
   "source": [
    "# 1.3. Initialize `x` and `y`\n",
    "x = np.ones((3,4))\n",
    "y = np.random.random((5,2,4))\n"
   ]
  },
  {
   "cell_type": "code",
   "execution_count": null,
   "metadata": {},
   "outputs": [],
   "source": [
    "# 1.4. Initialize arrays\n",
    "x = np.array([[1, 2, 3], [3, 4, 5]])\n",
    "y = np.array([6, 7, 8])\n"
   ]
  },
  {
   "cell_type": "code",
   "execution_count": null,
   "metadata": {},
   "outputs": [],
   "source": [
    "# 1.5. Initialize arrays\n",
    "a = np.array([1, 1, 0, 0], dtype=bool)\n",
    "b = np.array([1, 0, 1, 0], dtype=bool)\n"
   ]
  },
  {
   "cell_type": "markdown",
   "metadata": {},
   "source": [
    "## 2. Subsetting"
   ]
  },
  {
   "cell_type": "code",
   "execution_count": null,
   "metadata": {},
   "outputs": [],
   "source": [
    "# 2.1. Initialize 1D array\n",
    "my_array = np.array([1,2,3,4])\n",
    "\n",
    "# Print subsets\n",
    "print(my_array[1])"
   ]
  },
  {
   "cell_type": "code",
   "execution_count": null,
   "metadata": {},
   "outputs": [],
   "source": [
    "# 2.2. Initialize 2D array\n",
    "my_2d_array = np.array([[1,2,3,4], [5,6,7,8]], dtype=np.int64)\n"
   ]
  },
  {
   "cell_type": "code",
   "execution_count": null,
   "metadata": {},
   "outputs": [],
   "source": [
    "# 2.3. Initialize 3D array\n",
    "my_3d_array = np.array([[[1,2,3,4], [5,6,7,8]], [[1,2,3,4], [9,10,11,12]]], dtype=np.int64)\n",
    "print(my_3d_array)\n"
   ]
  },
  {
   "cell_type": "markdown",
   "metadata": {},
   "source": [
    "## 3. Slicing"
   ]
  },
  {
   "cell_type": "code",
   "execution_count": null,
   "metadata": {},
   "outputs": [],
   "source": [
    "# 3.1. Initialize 1D array\n",
    "my_array = np.array([1,2,3,4])\n"
   ]
  },
  {
   "cell_type": "code",
   "execution_count": null,
   "metadata": {},
   "outputs": [],
   "source": [
    "# 3.2. Initialize 2D array\n",
    "my_2d_array = np.array([[1,2,3,4], [5,6,7,8]], dtype=np.int64)\n"
   ]
  },
  {
   "cell_type": "code",
   "execution_count": null,
   "metadata": {},
   "outputs": [],
   "source": [
    "# 3.3. the entire second row\n"
   ]
  },
  {
   "cell_type": "code",
   "execution_count": null,
   "metadata": {},
   "outputs": [],
   "source": [
    "# 3.4. Initialize 3D array\n",
    "my_3d_array = np.array([[[1,2,3,4], [5,6,7,8]], [[1,2,3,4], [9,10,11,12]]], dtype=np.int64)\n",
    "\n",
    "# Print subset\n",
    "# We use : to select all elements along one dimension.\n",
    "# We use ... to select all elements along more than or equal to two dimensions."
   ]
  },
  {
   "cell_type": "markdown",
   "metadata": {},
   "source": [
    "## 4. Indexing"
   ]
  },
  {
   "cell_type": "code",
   "execution_count": null,
   "metadata": {},
   "outputs": [],
   "source": [
    "# 4.1. Boolean indexing\n",
    "my_array = np.array([1,2,3,4])\n",
    "my_3d_array = np.array([[[1,2,3,4], [5,6,7,8]], [[1,2,3,4], [9,10,11,12]]], dtype=np.int64)\n",
    "\n",
    "# Try out a simple example\n",
    "\n",
    "\n",
    "# Specify a condition\n",
    "\n",
    "\n",
    "# Use the condition to index our 3d array\n"
   ]
  },
  {
   "cell_type": "code",
   "execution_count": 15,
   "metadata": {},
   "outputs": [
    {
     "name": "stdout",
     "output_type": "stream",
     "text": [
      "[[1 2 3 4]\n",
      " [5 6 7 8]]\n",
      "\n"
     ]
    }
   ],
   "source": [
    "# 4.2. Fancy indexing (optional)\n",
    "my_array = np.array([1,2,3,4])\n",
    "my_2d_array = np.array([[1,2,3,4], [5,6,7,8]], dtype=np.int64)\n",
    "my_3d_array = np.array([[[1,2,3,4], [5,6,7,8]], [[1,2,3,4], [9,10,11,12]]], dtype=np.int64)\n",
    "\n",
    "# Select elements at (1,0), (0,1), (1,2) and (0,0)\n",
    "print(my_2d_array)\n",
    "print()\n",
    "# In this case, it is reduced to a 1-dim array\n"
   ]
  },
  {
   "cell_type": "code",
   "execution_count": 14,
   "metadata": {},
   "outputs": [
    {
     "name": "stdout",
     "output_type": "stream",
     "text": [
      "[[5 6 7 8]\n",
      " [1 2 3 4]\n",
      " [5 6 7 8]\n",
      " [1 2 3 4]]\n"
     ]
    }
   ],
   "source": [
    "# 4.3. Select a subset of the rows and columns\n"
   ]
  },
  {
   "cell_type": "code",
   "execution_count": null,
   "metadata": {},
   "outputs": [],
   "source": [
    "# 4.4. Select a subset of the rows and columns\n",
    "# What the second part, namely, [:,[0,1,2,0]], is tell you that \n",
    "# you want to keep all the rows of this result, \n",
    "# but that you want to change the order of the columns around a bit. \n",
    "# You want to display the columns 0, 1, and 2 as they are right now, \n",
    "# but you want to repeat column 0 as the last column instead of displaying column number 3.\n"
   ]
  },
  {
   "cell_type": "markdown",
   "metadata": {},
   "source": [
    "## 5. Transpose\n",
    "\n",
    "<font size='4'>\n",
    "\n",
    "- Transpose refers to permute the dimensions of the original array.\n",
    "- `np.transpose()` or `.T`"
   ]
  },
  {
   "cell_type": "code",
   "execution_count": null,
   "metadata": {},
   "outputs": [],
   "source": [
    "# 5.1\n",
    "my_2d_array = np.array([[1,2,3,4], [5,6,7,8]], dtype=np.int64)\n",
    "\n",
    "# Print `my_2d_array`\n",
    "\n",
    "# Transpose `my_2d_array`\n",
    "\n",
    "# Or use `T` to transpose `my_2d_array`\n"
   ]
  },
  {
   "cell_type": "markdown",
   "metadata": {},
   "source": [
    "<font size='4'>\n",
    "- What if we transpose a 1-dim array?"
   ]
  },
  {
   "cell_type": "code",
   "execution_count": null,
   "metadata": {},
   "outputs": [],
   "source": [
    "# 5.2\n",
    "my_array = np.array([1,2,3,4])\n",
    "print(my_array)\n",
    "print()\n",
    "# Transpose `my_2d_array\n",
    "\n",
    "# Or use `T` to transpose `my_2d_array\n"
   ]
  },
  {
   "cell_type": "markdown",
   "metadata": {},
   "source": [
    "## 6. Resize and Reshape\n",
    "<font size='4'>\n",
    "\n",
    "- Use `np.resize()` to modify the dimensions of the old array to make it compatible.\n",
    "- Two usages:\n",
    "- `arr_new = np.resize(arr_old, new_shape)`: Additional portion filled with copies of the original array\n",
    "- `arr_old.resize(new_shape)`: Additional portion filled with zeros (**No need to assign it to a new name**)"
   ]
  },
  {
   "cell_type": "code",
   "execution_count": null,
   "metadata": {},
   "outputs": [],
   "source": [
    "# 6.1.\n",
    "x = np.random.random(size=(2,4))\n",
    "\n",
    "# Print the shape of `x`\n",
    "\n",
    "# Resize `x` to ((6,4))\n",
    "\n",
    "# Try out this as well\n",
    "\n",
    "# Print out `x`\n"
   ]
  },
  {
   "cell_type": "markdown",
   "metadata": {},
   "source": [
    "<font size='4'>\n",
    "\n",
    "- Reshape, on the other hand, assigns a new shape to an array without changing its data.\n",
    "- The total size of the new array is unchanged.\n",
    "    - Use `arr.size` to export the size.\n",
    "    - This is an **attribute**, so no round brackets after it because we cannot modify it."
   ]
  },
  {
   "cell_type": "code",
   "execution_count": null,
   "metadata": {},
   "outputs": [],
   "source": [
    "# 6.2. Initialize array with a size of 8.\n",
    "x = np.random.random(size=8)\n"
   ]
  },
  {
   "cell_type": "markdown",
   "metadata": {},
   "source": [
    "## 7. Append"
   ]
  },
  {
   "cell_type": "markdown",
   "metadata": {},
   "source": [
    "<font size='4'>\n",
    "\n",
    "- Similar to a list, you can append an array to the original one.\n",
    "- The new array is \"glued\" to the end of that original array.\n",
    "- General syntax: `arr_new = np.append(arr_old, small_arr_new, axis=axis_num)`.\n",
    "    - Note that the axis option makes a difference!\n",
    "- The following example can help you understand the role of `axis`.\n",
    "- <span style=\"color: red;\">From now on, you will start to do perform arithmetics along a certain **axis**.</span>\n",
    "- This may sound confusing in the first place. But you should be able to understand the fundamental principles through examples and HW."
   ]
  },
  {
   "cell_type": "code",
   "execution_count": null,
   "metadata": {},
   "outputs": [],
   "source": [
    "# 7.1.\n",
    "my_array = np.array([1,2,3,4])\n",
    "print(my_array)\n",
    "print()\n",
    "# Append a 1D array to `my_array`\n",
    "\n",
    "# Print `new_array`\n",
    "\n",
    "# Print `my_array` after appending\n"
   ]
  },
  {
   "cell_type": "code",
   "execution_count": null,
   "metadata": {},
   "outputs": [],
   "source": [
    "# 7.2.\n",
    "my_array = np.array([[1,2,3,4], [5,6,7,8]])\n",
    "\n",
    "# Print `new_array`\n"
   ]
  },
  {
   "cell_type": "code",
   "execution_count": null,
   "metadata": {},
   "outputs": [],
   "source": [
    "# 7.3. Your input arrays have to have the same structure. my_array is 2-dim array, while [9, 10, 11, 12] is a 1-dim array.\n",
    "# They are NOT compatible, so they cannot be appended on axis=0.\n",
    "\n",
    "# Print `new_array`\n"
   ]
  },
  {
   "cell_type": "code",
   "execution_count": null,
   "metadata": {},
   "outputs": [],
   "source": [
    "# 7.4. Your input arrays have to have the same structure. my_array is 2-dim array, while [9, 10, 11, 12] is a 1-dim array.\n",
    "# They are NOT compatible, so they cannot be appended on axis=1.\n",
    "\n",
    "# Print `new_array`\n"
   ]
  },
  {
   "cell_type": "code",
   "execution_count": null,
   "metadata": {},
   "outputs": [],
   "source": [
    "# 7.5. One exception is when axis=None. It forces all input arrays to be 1d and concatenated together.\n",
    "\n",
    "# Print `new_array`\n"
   ]
  },
  {
   "cell_type": "code",
   "execution_count": null,
   "metadata": {},
   "outputs": [],
   "source": [
    "# 7.6.\n",
    "\n",
    "# Print `new_array`\n"
   ]
  },
  {
   "cell_type": "code",
   "execution_count": null,
   "metadata": {},
   "outputs": [],
   "source": [
    "# 7.7\n",
    "\n",
    "# Print `new_array`\n"
   ]
  },
  {
   "cell_type": "code",
   "execution_count": null,
   "metadata": {},
   "outputs": [],
   "source": [
    "# 7.8\n",
    "\n",
    "# Print `new_array`\n"
   ]
  },
  {
   "cell_type": "code",
   "execution_count": null,
   "metadata": {},
   "outputs": [],
   "source": [
    "# 7.9\n",
    "\n",
    "# Print `new_array`\n"
   ]
  },
  {
   "cell_type": "markdown",
   "metadata": {},
   "source": [
    "## 8. Insert and Delete\n",
    "\n",
    "<font size='4'>\n",
    "\n",
    "- `np.insert(arr, obj, values, axis=None)`\n",
    "- `np.delete(arr, obj, axis=None)`\n",
    "- `obj` is sort of an index location, which supports slicing, int, numpy array, and boolean."
   ]
  },
  {
   "cell_type": "code",
   "execution_count": 16,
   "metadata": {},
   "outputs": [
    {
     "name": "stdout",
     "output_type": "stream",
     "text": [
      "[1 2 3 4]\n",
      "\n"
     ]
    }
   ],
   "source": [
    "# 8.1.\n",
    "my_array = np.array([1,2,3,4])\n",
    "print(my_array)\n",
    "print()\n",
    "# Insert `5` at index 1\n",
    "\n",
    "# Delete the value at index 1\n"
   ]
  },
  {
   "cell_type": "code",
   "execution_count": 17,
   "metadata": {},
   "outputs": [
    {
     "name": "stdout",
     "output_type": "stream",
     "text": [
      "[[1. 2. 3. 4.]\n",
      " [5. 6. 7. 8.]]\n",
      "\n"
     ]
    }
   ],
   "source": [
    "# 8.2.\n",
    "my_2d_array = np.array([[1,2,3,4], [5,6,7,8]], dtype=np.float64)\n",
    "print(my_2d_array)\n",
    "print()"
   ]
  },
  {
   "cell_type": "code",
   "execution_count": 7,
   "metadata": {},
   "outputs": [
    {
     "name": "stdout",
     "output_type": "stream",
     "text": [
      "\n"
     ]
    }
   ],
   "source": [
    "# 8.3.\n",
    "# print(my_2d_array_2)\n",
    "print()\n",
    "# print(my_2d_array_3)"
   ]
  },
  {
   "cell_type": "code",
   "execution_count": 8,
   "metadata": {},
   "outputs": [
    {
     "name": "stdout",
     "output_type": "stream",
     "text": [
      "\n",
      "\n"
     ]
    }
   ],
   "source": [
    "# 8.4.\n",
    "# print(my_2d_array_2)\n",
    "print()\n",
    "# print(my_2d_array_3)\n",
    "print()\n",
    "# print(my_2d_array_3)"
   ]
  },
  {
   "cell_type": "markdown",
   "metadata": {},
   "source": [
    "## 9. Join and split arrays\n",
    "\n",
    "<font size='4'>\n",
    "    "
   ]
  },
  {
   "cell_type": "code",
   "execution_count": 87,
   "metadata": {},
   "outputs": [
    {
     "name": "stdout",
     "output_type": "stream",
     "text": [
      "[1. 1. 1. 1.]\n",
      "\n",
      "[1. 2. 3. 4. 1. 1. 1. 1.]\n",
      "\n",
      "[[1. 2. 3. 4.]\n",
      " [1. 1. 1. 1.]]\n",
      "\n",
      "[[1. 1.]\n",
      " [2. 1.]\n",
      " [3. 1.]\n",
      " [4. 1.]]\n"
     ]
    }
   ],
   "source": [
    "# 9.1.\n",
    "x = np.ones((4,))\n",
    "print(x)\n",
    "print()\n",
    "my_array = np.array([1,2,3,4])\n",
    "my_resized_array=np.resize(my_array,(2,4))\n",
    "my_2d_array = np.array([[1,2,3,4], [5,6,7,8]], dtype=np.int64)\n",
    "\n",
    "# Concatentate `my_array` and `x`\n"
   ]
  },
  {
   "cell_type": "code",
   "execution_count": 9,
   "metadata": {},
   "outputs": [],
   "source": [
    "# 9.2. Stack arrays row-wise\n"
   ]
  },
  {
   "cell_type": "code",
   "execution_count": 18,
   "metadata": {},
   "outputs": [],
   "source": [
    "# 9.3.\n",
    "my_array = np.array([1,2,3,4])\n",
    "my_resized_array=np.resize(my_array,(2,4))\n",
    "my_2d_array = np.array([[1,2,3,4], [5,6,7,8]], dtype=np.int64)\n",
    "\n",
    "# if the second argument is an integer, it will split the array into an N equal sub-arrays\n",
    "# Split `my_stacked_array` horizontally into two equal sub-arrays\n",
    "\n",
    "# Split `my_stacked_array` vertically into two equal sub-arrays\n"
   ]
  },
  {
   "cell_type": "code",
   "execution_count": 11,
   "metadata": {},
   "outputs": [],
   "source": [
    "# 9.4. Use indices in the form of a numpy array\n"
   ]
  },
  {
   "cell_type": "markdown",
   "metadata": {},
   "source": [
    "## 10. Visualize NumPy Arrays\n",
    "<font size='4'>\n",
    "\n",
    "- `np.hist()` or `np.histogram()`\n",
    "- Scatter plot (One continuous vs another continuous)\n",
    "- `np.meshgrid()` (HW7)"
   ]
  },
  {
   "cell_type": "code",
   "execution_count": 102,
   "metadata": {},
   "outputs": [
    {
     "data": {
      "image/png": "[encoded data removed]",
      "text/plain": [
       "<Figure size 640x480 with 2 Axes>"
      ]
     },
     "metadata": {},
     "output_type": "display_data"
    }
   ],
   "source": [
    "# Create an array\n",
    "points = np.arange(-5, 5, 0.01)\n",
    "\n",
    "# Make a meshgrid\n",
    "xs, ys = np.meshgrid(points, points)\n",
    "z = np.sqrt(xs ** 2 + ys ** 2)\n",
    "\n",
    "# Display the image on the axes\n",
    "plt.imshow(z, cmap=plt.cm.gray)\n",
    "\n",
    "# Draw a color bar\n",
    "plt.colorbar()\n",
    "\n",
    "# Show the plot\n",
    "plt.show()"
   ]
  }
 ],
 "metadata": {
  "kernelspec": {
   "display_name": "Python 3 (ipykernel)",
   "language": "python",
   "name": "python3"
  },
  "language_info": {
   "codemirror_mode": {
    "name": "ipython",
    "version": 3
   },
   "file_extension": ".py",
   "mimetype": "text/x-python",
   "name": "python",
   "nbconvert_exporter": "python",
   "pygments_lexer": "ipython3",
   "version": "3.11.4"
  },
  "vscode": {
   "interpreter": {
    "hash": "45fc1f684f6f416f40889115beff3ddf69879b64cf4bfee48cb72a61e9d15d1a"
   }
  }
 },
 "nbformat": 4,
 "nbformat_minor": 4
}
